{
 "cells": [
  {
   "cell_type": "markdown",
   "id": "1efc20cc",
   "metadata": {},
   "source": [
    "This notebook will demonstrate how to use the **constrained training algorithms** implemented in this toolkit with **PyTorch**-like API."
   ]
  },
  {
   "cell_type": "markdown",
   "id": "790ccbc7",
   "metadata": {},
   "source": [
    "The algorithms implemented in the **humancompatible.train.torch** subpackage share a similar idea. Before the training, you initialize an algorithm like you would a PyTorch one. Then, during the training process, you:\n",
    "\n",
    "1. Evaluate a constraint and compute its gradient\n",
    "2. Call the `dual_step` function to update dual parameters and save the constraint gradient for the primal update\n",
    "3. Call the `step` function to update the primal parameters (generally, model weights)"
   ]
  },
  {
   "cell_type": "markdown",
   "id": "8d3224eb",
   "metadata": {},
   "source": [
    "Let's try the Stochastic Smooth Linearized Augmented Lagrangian (SSLALM) algorithm on a constrained learning task."
   ]
  },
  {
   "cell_type": "markdown",
   "id": "af7f86ab",
   "metadata": {},
   "source": [
    "Let's train a simple classification model, putting a constraint on the norm of each layer's parameters.\n",
    "\n",
    "In the canonical form, the algorithm expects equality constraints that are equal to 0; however, we can easily transform arbitrary inequality constraints to that form."
   ]
  },
  {
   "cell_type": "code",
   "execution_count": null,
   "id": "48b9577d",
   "metadata": {},
   "outputs": [],
   "source": [
    "# load and prepare data\n",
    "\n",
    "from sklearn.model_selection import train_test_split\n",
    "from sklearn.preprocessing import StandardScaler\n",
    "import torch\n",
    "import numpy as np\n",
    "from folktables import ACSDataSource, ACSIncome, generate_categories\n",
    "\n",
    "# load folktables data\n",
    "data_source = ACSDataSource(survey_year='2018', horizon='1-Year', survey='person')\n",
    "acs_data = data_source.get_data(states=[\"VA\"], download=True)\n",
    "definition_df = data_source.get_definitions(download=True)\n",
    "categories = generate_categories(features=ACSIncome.features, definition_df=definition_df)\n",
    "df_feat, df_labels, _ = ACSIncome.df_to_pandas(acs_data,categories=categories, dummies=True)\n",
    "\n",
    "sens_cols = ['SEX_Female', 'SEX_Male']\n",
    "features = df_feat.drop(columns=sens_cols).to_numpy(dtype=\"float\")\n",
    "groups = df_feat[sens_cols].to_numpy(dtype=\"float\")\n",
    "labels = df_labels.to_numpy(dtype=\"float\")\n",
    "# split\n",
    "X_train, X_test, y_train, y_test, groups_train, groups_test = train_test_split(\n",
    "    features, labels, groups, test_size=0.2, random_state=42)\n",
    "# scale\n",
    "scaler = StandardScaler()\n",
    "X_train = scaler.fit_transform(X_train)\n",
    "X_test = scaler.transform(X_test)\n",
    "\n",
    "# make into a pytorch dataset, remove the sensitive attribute\n",
    "features_train = torch.tensor(X_train, dtype=torch.float32)\n",
    "labels_train = torch.tensor(y_train,dtype=torch.float32)\n",
    "sens_train = torch.tensor(groups_train)\n",
    "dataset_train = torch.utils.data.TensorDataset(features_train, labels_train)"
   ]
  },
  {
   "cell_type": "code",
   "execution_count": null,
   "id": "834e083e",
   "metadata": {},
   "outputs": [],
   "source": [
    "from humancompatible.train.algorithms import SSLALM\n",
    "import torch\n",
    "from torch.nn import Sequential\n",
    "\n",
    "dataloader = torch.utils.data.DataLoader(dataset_train, batch_size=16, shuffle=True)\n",
    "\n",
    "hsize1 = 64\n",
    "hsize2 = 32\n",
    "model = Sequential(\n",
    "    torch.nn.Linear(features_train.shape[1], hsize1),\n",
    "    torch.nn.ReLU(),\n",
    "    torch.nn.Linear(hsize1, hsize2),\n",
    "    torch.nn.ReLU(),\n",
    "    torch.nn.Linear(hsize2, 1)\n",
    ")\n",
    "\n",
    "m = len(list(model.parameters()))\n",
    "\n",
    "optimizer = SSLALM(\n",
    "    params=model.parameters(),\n",
    "    m=m,\n",
    "    lr=0.01,\n",
    "    dual_lr=0.1\n",
    ")\n",
    "# bounds for the constraints: norm of each param group should be <= 1\n",
    "constraint_bounds = [1.]*m\n",
    "\n",
    "epochs = 10\n",
    "criterion = torch.nn.BCEWithLogitsLoss()"
   ]
  },
  {
   "cell_type": "code",
   "execution_count": null,
   "id": "ea8758f7",
   "metadata": {},
   "outputs": [
    {
     "name": "stdout",
     "output_type": "stream",
     "text": [
      "Epoch: 0, loss: 0.5694593191146851, constraints: [0.89587426 0.25025123 0.9878887  0.44957635 0.86241883 0.09738564], dual: [0.15030187 0.         0.14999658 0.         0.18364772 0.        ]\n",
      "Epoch: 1, loss: 0.453301340341568, constraints: [0.99988097 0.6606871  0.9999979  0.6280859  0.9998277  0.1964759 ], dual: [0.20589583 0.         0.23529063 0.         0.2624111  0.        ]\n",
      "Epoch: 2, loss: 0.43187829852104187, constraints: [0.9995572  0.95886993 0.99950653 0.6864315  0.9994035  0.19895783], dual: [0.24521847 0.02820662 0.29254287 0.         0.31646594 0.        ]\n",
      "Epoch: 3, loss: 0.42199623584747314, constraints: [0.99928725 0.9997964  0.99919224 0.7160128  0.999049   0.19681479], dual: [0.27254534 0.03845146 0.33845595 0.         0.35972592 0.        ]\n",
      "Epoch: 4, loss: 0.41544073820114136, constraints: [0.99918455 0.99972284 0.9989307  0.7367323  0.9987696  0.19203664], dual: [0.2950047  0.0444206  0.37791267 0.         0.3970336  0.        ]\n",
      "Epoch: 5, loss: 0.4099986255168915, constraints: [0.9991817  0.9996902  0.998767   0.7513592  0.9986485  0.19046412], dual: [0.31481963 0.04880307 0.41249096 0.         0.43186986 0.        ]\n",
      "Epoch: 6, loss: 0.4062756896018982, constraints: [0.99913144 0.9996218  0.998517   0.7630046  0.9984386  0.18768747], dual: [0.3330037  0.05201924 0.44317317 0.         0.46148083 0.        ]\n",
      "Epoch: 7, loss: 0.402717262506485, constraints: [0.9991421  0.9996246  0.9983952  0.7718013  0.9982189  0.19023128], dual: [0.34993297 0.05478717 0.4737111  0.         0.48723552 0.        ]\n",
      "Epoch: 8, loss: 0.399619460105896, constraints: [0.9992015  0.9996048  0.9981917  0.7802549  0.9980732  0.19156948], dual: [0.36521938 0.05703552 0.4997017  0.         0.5111091  0.        ]\n",
      "Epoch: 9, loss: 0.3969198763370514, constraints: [0.99931073 0.9996082  0.998102   0.7871431  0.997933   0.19070879], dual: [0.38012612 0.05895312 0.52385277 0.         0.5340677  0.        ]\n"
     ]
    }
   ],
   "source": [
    "for epoch in range(epochs):\n",
    "    loss_log = []\n",
    "    c_log = []\n",
    "    slack_log = []\n",
    "    duals_log = []\n",
    "    for batch_input, batch_label in dataloader:\n",
    "        # calculate constraints and constraint grads\n",
    "        c_log.append([])\n",
    "        for i, param in enumerate(model.parameters()):\n",
    "            norm = torch.linalg.norm(param, ord=2)\n",
    "            # convert constraint to equality\n",
    "            norm_viol = torch.max(\n",
    "                norm \n",
    "                - constraint_bounds[i],\n",
    "                torch.zeros(1)\n",
    "            )\n",
    "            norm_viol.backward()\n",
    "            # for the Lagrangian family of algorithms, dual_step requires the index of constraint and the value as arguments\n",
    "            # to update the corresponding dual multiplier\n",
    "            # in a stochastic-constrained setting, this estimate needs (in theory) to be independent from the one used to update dual parameters\n",
    "            # in practice, it makes little difference  \n",
    "            optimizer.dual_step(i, c_val=norm_viol)\n",
    "            optimizer.zero_grad()\n",
    "            c_log[-1].append(norm.detach().numpy())\n",
    "        \n",
    "        # calculate loss and grad\n",
    "        batch_output = model(batch_input)\n",
    "        loss = criterion(batch_output, batch_label)\n",
    "        loss.backward()\n",
    "        loss_log.append(loss.detach().numpy())\n",
    "        duals_log.append(optimizer._dual_vars.detach())\n",
    "        optimizer.step()\n",
    "        optimizer.zero_grad()\n",
    "    \n",
    "    print(\n",
    "        f\"Epoch: {epoch}, \"\n",
    "        f\"loss: {np.mean(loss_log)}, \"\n",
    "        f\"constraints: {np.mean(c_log, axis=0)}, \"\n",
    "        f\"dual: {np.mean(duals_log, axis=0)}\"\n",
    "    )"
   ]
  },
  {
   "cell_type": "markdown",
   "id": "30a4e546",
   "metadata": {},
   "source": [
    "The model is now trained subject to the constraints we set."
   ]
  },
  {
   "cell_type": "markdown",
   "id": "ea06f697",
   "metadata": {},
   "source": [
    "---\n",
    "---"
   ]
  },
  {
   "cell_type": "markdown",
   "id": "bd2f190b",
   "metadata": {},
   "source": [
    "It is also possible to train a network subject to **stochastic constraints**. One of the main use-cases for that is **fairness**. Let's train a network on the `folktables` dataset without constraints first, so we can identify some biases:"
   ]
  },
  {
   "cell_type": "markdown",
   "id": "7ec89642",
   "metadata": {},
   "source": [
    "Define a model:"
   ]
  },
  {
   "cell_type": "code",
   "execution_count": null,
   "id": "4c957562",
   "metadata": {},
   "outputs": [],
   "source": [
    "from torch.nn import Sequential\n",
    "hsize1 = 64\n",
    "hsize2 = 32\n",
    "model_uncon = Sequential(\n",
    "    torch.nn.Linear(features_train.shape[1], hsize1),\n",
    "    torch.nn.ReLU(),\n",
    "    torch.nn.Linear(hsize1, hsize2),\n",
    "    torch.nn.ReLU(),\n",
    "    torch.nn.Linear(hsize2, 1)\n",
    ")"
   ]
  },
  {
   "cell_type": "markdown",
   "id": "6409a977",
   "metadata": {},
   "source": [
    "And start training:"
   ]
  },
  {
   "cell_type": "code",
   "execution_count": null,
   "id": "8793a889",
   "metadata": {},
   "outputs": [
    {
     "name": "stdout",
     "output_type": "stream",
     "text": [
      "Epoch: 0, loss: 0.4348257115075245\n",
      "Epoch: 1, loss: 0.3961559882326184\n",
      "Epoch: 2, loss: 0.38303964566988175\n",
      "Epoch: 3, loss: 0.37115433783249435\n",
      "Epoch: 4, loss: 0.357970049385259\n",
      "Epoch: 5, loss: 0.3433566471881377\n",
      "Epoch: 6, loss: 0.32670918229702645\n",
      "Epoch: 7, loss: 0.3085799006635462\n",
      "Epoch: 8, loss: 0.29297343726904235\n",
      "Epoch: 9, loss: 0.27543243944912865\n",
      "Epoch: 10, loss: 0.2603376112277886\n",
      "Epoch: 11, loss: 0.24470395776741788\n",
      "Epoch: 12, loss: 0.23123663239846043\n",
      "Epoch: 13, loss: 0.2188801871337468\n",
      "Epoch: 14, loss: 0.2071890614545893\n",
      "Epoch: 15, loss: 0.19928035377145484\n",
      "Epoch: 16, loss: 0.18748210149412034\n",
      "Epoch: 17, loss: 0.17952393142863998\n",
      "Epoch: 18, loss: 0.17391033132244393\n",
      "Epoch: 19, loss: 0.1669990243477968\n",
      "Epoch: 20, loss: 0.1594809728689319\n",
      "Epoch: 21, loss: 0.15498915900841664\n",
      "Epoch: 22, loss: 0.14732552946138033\n",
      "Epoch: 23, loss: 0.1439602134080687\n",
      "Epoch: 24, loss: 0.14057495150000077\n",
      "Epoch: 25, loss: 0.13580133855572668\n",
      "Epoch: 26, loss: 0.13342620257636606\n",
      "Epoch: 27, loss: 0.1297089335581827\n",
      "Epoch: 28, loss: 0.12650566348640985\n",
      "Epoch: 29, loss: 0.1204954843184922\n",
      "Epoch: 30, loss: 0.11940305912326851\n",
      "Epoch: 31, loss: 0.11671670470128101\n",
      "Epoch: 32, loss: 0.11857448427950623\n",
      "Epoch: 33, loss: 0.11195303029832554\n",
      "Epoch: 34, loss: 0.10916112977156918\n",
      "Epoch: 35, loss: 0.10714332741476063\n",
      "Epoch: 36, loss: 0.10460691643405867\n",
      "Epoch: 37, loss: 0.1046905118269725\n",
      "Epoch: 38, loss: 0.10085255439746289\n",
      "Epoch: 39, loss: 0.09716934210780694\n",
      "Epoch: 40, loss: 0.09623526468189765\n",
      "Epoch: 41, loss: 0.09409086804062272\n",
      "Epoch: 42, loss: 0.09777059897676317\n",
      "Epoch: 43, loss: 0.09487305559255842\n",
      "Epoch: 44, loss: 0.09135848218572754\n",
      "Epoch: 45, loss: 0.09114206660528813\n",
      "Epoch: 46, loss: 0.0889167360971727\n",
      "Epoch: 47, loss: 0.0884731124287253\n",
      "Epoch: 48, loss: 0.08538518071049564\n",
      "Epoch: 49, loss: 0.08612369136719053\n"
     ]
    }
   ],
   "source": [
    "from torch.optim import Adam\n",
    "\n",
    "loader = torch.utils.data.DataLoader(dataset_train, batch_size=128, shuffle=True)\n",
    "loss = torch.nn.BCEWithLogitsLoss()\n",
    "optimizer = Adam(model_uncon.parameters())\n",
    "epochs = 50\n",
    "\n",
    "for epoch in range(epochs):\n",
    "    losses = []\n",
    "    for batch_feat, batch_label in dataloader:\n",
    "        optimizer.zero_grad()\n",
    "\n",
    "        logit = model_uncon(batch_feat)\n",
    "        loss = torch.nn.functional.binary_cross_entropy_with_logits(logit, batch_label)\n",
    "        loss.backward()\n",
    "\n",
    "        optimizer.step()\n",
    "        losses.append(loss.item())\n",
    "    print(f\"Epoch: {epoch}, loss: {np.mean(losses)}\")"
   ]
  },
  {
   "cell_type": "code",
   "execution_count": null,
   "id": "9fd521be",
   "metadata": {},
   "outputs": [
    {
     "data": {
      "text/plain": [
       "tensor([0.3604, 0.5129], dtype=torch.float64, grad_fn=<IndexPutBackward0>)"
      ]
     },
     "execution_count": null,
     "metadata": {},
     "output_type": "execute_result"
    }
   ],
   "source": [
    "from fairret.statistic import PositiveRate, TruePositiveRate\n",
    "from fairret.loss import NormLoss\n",
    "\n",
    "preds = torch.nn.functional.sigmoid(model_uncon(features_train))\n",
    "pr = PositiveRate()\n",
    "pr(preds, sens_train)"
   ]
  },
  {
   "cell_type": "markdown",
   "id": "e16c4fa0",
   "metadata": {},
   "source": [
    "---\n",
    "---"
   ]
  },
  {
   "cell_type": "markdown",
   "id": "a3dbc50a",
   "metadata": {},
   "source": [
    "Now let us train the same model with one of the **constrained** training algorithms:"
   ]
  },
  {
   "cell_type": "markdown",
   "id": "6ef60dce",
   "metadata": {},
   "source": [
    "Here, to make sure each batch contains representatives of each protected group, we can use the BalancedBatchSampler from the `utils` subpackage - a custom PyTorch `Sampler` which yields an equal number of samples from each subgroup in each batch."
   ]
  },
  {
   "cell_type": "code",
   "execution_count": null,
   "id": "b0e2bd5d",
   "metadata": {},
   "outputs": [],
   "source": [
    "from fairret.statistic import PositiveRate\n",
    "from fairret.loss import NormLoss\n",
    "from humancompatible.train.fairness.utils import BalancedBatchSampler\n",
    "\n",
    "dataset = torch.utils.data.TensorDataset(features_train, sens_train, labels_train)\n",
    "\n",
    "sampler = BalancedBatchSampler(\n",
    "    subgroup_onehot=sens_train,\n",
    "    batch_size=128,\n",
    "    drop_last=True\n",
    ")\n",
    "dataloader = torch.utils.data.DataLoader(dataset, batch_sampler=sampler)\n",
    "\n",
    "criterion = torch.nn.BCEWithLogitsLoss()\n",
    "\n",
    "statistic = PositiveRate()\n",
    "fair_criterion = NormLoss(statistic=statistic)\n",
    "fair_crit_bound = 0.2"
   ]
  },
  {
   "cell_type": "code",
   "execution_count": null,
   "id": "1b5d4833",
   "metadata": {},
   "outputs": [],
   "source": [
    "from torch.nn import Sequential\n",
    "hsize1 = 64\n",
    "hsize2 = 32\n",
    "model_con = Sequential(\n",
    "    torch.nn.Linear(features_train.shape[1], hsize1),\n",
    "    torch.nn.ReLU(),\n",
    "    torch.nn.Linear(hsize1, hsize2),\n",
    "    torch.nn.ReLU(),\n",
    "    torch.nn.Linear(hsize2, 1)\n",
    ")\n",
    "\n",
    "from humancompatible.train.algorithms import SSLALM_Adam\n",
    "\n",
    "optimizer = SSLALM_Adam(\n",
    "    params=model_con.parameters(),\n",
    "    m=1,\n",
    "    lr=0.01,\n",
    "    dual_lr=0.05,\n",
    "    dual_bound=5,\n",
    "    rho=1,\n",
    "    mu=2,\n",
    ")\n",
    "\n",
    "# add slack variables\n",
    "slack_vars = torch.zeros(1, requires_grad=True)\n",
    "optimizer.add_param_group(param_group={\"params\": slack_vars, \"name\": \"slack\"})\n",
    "\n",
    "epochs = 50"
   ]
  },
  {
   "cell_type": "markdown",
   "id": "894ed813",
   "metadata": {},
   "source": [
    "As the constraint, we use `NormLoss` from `fairret`, which penalizes the model based on the ratio between the value of a statistic for each group and the overall value: $\\sum_{s\\in S}{|1-\\frac{f(\\theta, X_s, y_s)}{f(\\theta, X, y)}|}$."
   ]
  },
  {
   "cell_type": "code",
   "execution_count": null,
   "id": "8564545d",
   "metadata": {},
   "outputs": [
    {
     "name": "stdout",
     "output_type": "stream",
     "text": [
      "Epoch: 0, loss: 0.4694157838821411, constraints: [0.1560765], dual: [0.06297961]\n",
      "Epoch: 1, loss: 0.4001806378364563, constraints: [0.19225335], dual: [0.08156054]\n",
      "Epoch: 2, loss: 0.38454315066337585, constraints: [0.19402348], dual: [0.02117708]\n",
      "Epoch: 3, loss: 0.3777203857898712, constraints: [0.20150887], dual: [0.04982409]\n",
      "Epoch: 4, loss: 0.369674950838089, constraints: [0.19956709], dual: [0.05890577]\n",
      "Epoch: 5, loss: 0.36439797282218933, constraints: [0.19717683], dual: [0.02960703]\n",
      "Epoch: 6, loss: 0.35590752959251404, constraints: [0.20243779], dual: [0.05908161]\n",
      "Epoch: 7, loss: 0.34959983825683594, constraints: [0.2018306], dual: [0.08790541]\n",
      "Epoch: 8, loss: 0.3418774902820587, constraints: [0.19918636], dual: [0.08040237]\n",
      "Epoch: 9, loss: 0.33448490500450134, constraints: [0.19740554], dual: [0.05767368]\n",
      "Epoch: 10, loss: 0.32761651277542114, constraints: [0.20275809], dual: [0.08063007]\n",
      "Epoch: 11, loss: 0.3184966742992401, constraints: [0.19887009], dual: [0.07169671]\n",
      "Epoch: 12, loss: 0.31220704317092896, constraints: [0.20391382], dual: [0.10110908]\n",
      "Epoch: 13, loss: 0.3036383390426636, constraints: [0.19871584], dual: [0.09194602]\n",
      "Epoch: 14, loss: 0.29600560665130615, constraints: [0.20235872], dual: [0.10793508]\n",
      "Epoch: 15, loss: 0.2875942885875702, constraints: [0.1963564], dual: [0.08447124]\n",
      "Epoch: 16, loss: 0.2795390784740448, constraints: [0.19883235], dual: [0.07732783]\n",
      "Epoch: 17, loss: 0.2692779302597046, constraints: [0.2055514], dual: [0.10959189]\n",
      "Epoch: 18, loss: 0.2650550901889801, constraints: [0.203376], dual: [0.12823176]\n",
      "Epoch: 19, loss: 0.2574431598186493, constraints: [0.20150524], dual: [0.13612717]\n",
      "Epoch: 20, loss: 0.25320005416870117, constraints: [0.20029083], dual: [0.13757634]\n",
      "Epoch: 21, loss: 0.24305562674999237, constraints: [0.2013167], dual: [0.14380942]\n",
      "Epoch: 22, loss: 0.2361484169960022, constraints: [0.19923965], dual: [0.14038998]\n",
      "Epoch: 23, loss: 0.2304663062095642, constraints: [0.2003438], dual: [0.1418588]\n",
      "Epoch: 24, loss: 0.22463127970695496, constraints: [0.19318717], dual: [0.11420795]\n",
      "Epoch: 25, loss: 0.2176114022731781, constraints: [0.20854789], dual: [0.14716615]\n",
      "Epoch: 26, loss: 0.2178637534379959, constraints: [0.20418597], dual: [0.16249909]\n",
      "Epoch: 27, loss: 0.21315397322177887, constraints: [0.19853821], dual: [0.15741228]\n",
      "Epoch: 28, loss: 0.2034514993429184, constraints: [0.20317277], dual: [0.1679008]\n",
      "Epoch: 29, loss: 0.20105040073394775, constraints: [0.20263163], dual: [0.17616548]\n",
      "Epoch: 30, loss: 0.19994516670703888, constraints: [0.20448418], dual: [0.18954396]\n",
      "Epoch: 31, loss: 0.1905718892812729, constraints: [0.20655224], dual: [0.20811512]\n",
      "Epoch: 32, loss: 0.19142180681228638, constraints: [0.19956757], dual: [0.20695075]\n",
      "Epoch: 33, loss: 0.1871495544910431, constraints: [0.20417886], dual: [0.21764003]\n",
      "Epoch: 34, loss: 0.18654632568359375, constraints: [0.2086182], dual: [0.23858283]\n",
      "Epoch: 35, loss: 0.1837032437324524, constraints: [0.20059247], dual: [0.23995043]\n",
      "Epoch: 36, loss: 0.1849656105041504, constraints: [0.20339719], dual: [0.24740098]\n",
      "Epoch: 37, loss: 0.1843932420015335, constraints: [0.19884806], dual: [0.24500093]\n",
      "Epoch: 38, loss: 0.1742251068353653, constraints: [0.19613689], dual: [0.2373546]\n",
      "Epoch: 39, loss: 0.17078380286693573, constraints: [0.20177024], dual: [0.2406833]\n",
      "Epoch: 40, loss: 0.17244817316532135, constraints: [0.20052653], dual: [0.24162391]\n",
      "Epoch: 41, loss: 0.16608966886997223, constraints: [0.20061891], dual: [0.24267408]\n",
      "Epoch: 42, loss: 0.16574694216251373, constraints: [0.20289475], dual: [0.24734083]\n",
      "Epoch: 43, loss: 0.16437695920467377, constraints: [0.2077391], dual: [0.25919363]\n",
      "Epoch: 44, loss: 0.16318589448928833, constraints: [0.20715675], dual: [0.2696061]\n",
      "Epoch: 45, loss: 0.16204600036144257, constraints: [0.20199473], dual: [0.2723634]\n",
      "Epoch: 46, loss: 0.15802256762981415, constraints: [0.20026697], dual: [0.27271384]\n",
      "Epoch: 47, loss: 0.16024841368198395, constraints: [0.20164316], dual: [0.27476352]\n",
      "Epoch: 48, loss: 0.1543063372373581, constraints: [0.19915263], dual: [0.27375922]\n",
      "Epoch: 49, loss: 0.1531757414340973, constraints: [0.2026543], dual: [0.2767476]\n"
     ]
    }
   ],
   "source": [
    "ep_c_log = []\n",
    "for epoch in range(epochs):\n",
    "    loss_log = []\n",
    "    c_log = []\n",
    "    duals_log = []\n",
    "    for batch_input, batch_sens, batch_label in dataloader:\n",
    "        # calculate constraints and constraint grads\n",
    "        out = model_con(batch_input)\n",
    "        fair_loss = fair_criterion(out, batch_sens)\n",
    "        # fair_constraint = torch.max(fair_loss + slack_vars[0] - fair_crit_bound, torch.zeros(1))\n",
    "        fair_constraint = fair_loss + slack_vars[0] - fair_crit_bound\n",
    "        fair_constraint.backward(retain_graph=True)\n",
    "        \n",
    "        optimizer.dual_step(0, c_val=fair_constraint)\n",
    "        optimizer.zero_grad()\n",
    "\n",
    "        c_log.append([fair_loss.detach().item()])\n",
    "        duals_log.append(optimizer._dual_vars.detach())\n",
    "        # calculate loss and grad\n",
    "        loss = criterion(out, batch_label) + 0 * slack_vars[0]\n",
    "        loss.backward()\n",
    "        loss_log.append(loss.detach().numpy())\n",
    "        optimizer.step()\n",
    "        optimizer.zero_grad()\n",
    "\n",
    "        # slack variables must be non-negative. this is the \"projection\" step from the SSL-ALM paper\n",
    "        with torch.no_grad():\n",
    "            for s in slack_vars:\n",
    "                if s < 0:\n",
    "                    s.zero_()\n",
    "        \n",
    "    optimizer.dual_lr *= 0.95\n",
    "    ep_c_log.extend(c_log)\n",
    "    \n",
    "    print(\n",
    "        f\"Epoch: {epoch}, \"\n",
    "        f\"loss: {np.mean(loss_log)}, \"\n",
    "        f\"constraints: {np.mean(c_log, axis=0)}, \"\n",
    "        f\"dual: {np.mean(duals_log, axis=0)}\"\n",
    "    )"
   ]
  },
  {
   "cell_type": "code",
   "execution_count": null,
   "id": "993899e3",
   "metadata": {},
   "outputs": [
    {
     "data": {
      "text/plain": [
       "tensor([0.3792, 0.4580], dtype=torch.float64, grad_fn=<IndexPutBackward0>)"
      ]
     },
     "execution_count": null,
     "metadata": {},
     "output_type": "execute_result"
    }
   ],
   "source": [
    "from fairret.statistic import PositiveRate\n",
    "\n",
    "preds = torch.nn.functional.sigmoid(model_con(features_train))\n",
    "pr = PositiveRate()\n",
    "pr(preds, sens_train)"
   ]
  },
  {
   "cell_type": "code",
   "execution_count": null,
   "id": "4ac5a57f",
   "metadata": {},
   "outputs": [
    {
     "data": {
      "text/plain": [
       "tensor(0.1875, dtype=torch.float64, grad_fn=<SumBackward0>)"
      ]
     },
     "execution_count": null,
     "metadata": {},
     "output_type": "execute_result"
    }
   ],
   "source": [
    "fair_criterion(model_con(features_train), sens_train)"
   ]
  },
  {
   "cell_type": "code",
   "execution_count": null,
   "id": "170d5dbf",
   "metadata": {},
   "outputs": [
    {
     "data": {
      "text/plain": [
       "<matplotlib.collections.LineCollection at 0x7fa39add4a50>"
      ]
     },
     "execution_count": null,
     "metadata": {},
     "output_type": "execute_result"
    },
    {
     "data": {
      "image/png": "[encoded data removed]",
      "text/plain": [
       "<Figure size 640x480 with 1 Axes>"
      ]
     },
     "metadata": {},
     "output_type": "display_data"
    }
   ],
   "source": [
    "from matplotlib import pyplot as plt\n",
    "\n",
    "window_len = 5\n",
    "c_mavg = np.array([np.mean(ep_c_log[i:i+window_len]) for i in range(0, len(ep_c_log), window_len)])\n",
    "plt.plot(np.array(c_mavg).flatten(), lw=0.05)\n",
    "plt.hlines(y=fair_crit_bound, xmin=0, xmax=len(c_mavg), colors='black', ls='--')"
   ]
  },
  {
   "cell_type": "markdown",
   "id": "c31520f0",
   "metadata": {},
   "source": [
    "---\n",
    "\n",
    "Now let's see how the **Switching Subgradient** algorithm deals with this task."
   ]
  },
  {
   "cell_type": "code",
   "execution_count": null,
   "id": "d1b0abd5",
   "metadata": {},
   "outputs": [],
   "source": [
    "from fairret.statistic import PositiveRate\n",
    "from fairret.loss import NormLoss\n",
    "from humancompatible.train.fairness.utils import BalancedBatchSampler\n",
    "\n",
    "dataset = torch.utils.data.TensorDataset(features_train, sens_train, labels_train)\n",
    "\n",
    "sampler = BalancedBatchSampler(\n",
    "    subgroup_onehot=sens_train,\n",
    "    batch_size=128,\n",
    "    drop_last=True\n",
    ")\n",
    "dataloader = torch.utils.data.DataLoader(dataset, batch_sampler=sampler)\n",
    "\n",
    "criterion = torch.nn.BCEWithLogitsLoss()\n",
    "\n",
    "statistic = PositiveRate()\n",
    "fair_criterion = NormLoss(statistic=statistic)\n",
    "fair_crit_bound = 0.2"
   ]
  },
  {
   "cell_type": "code",
   "execution_count": null,
   "id": "3af4f40c",
   "metadata": {},
   "outputs": [],
   "source": [
    "from humancompatible.train.algorithms import SSG\n",
    "\n",
    "from torch.nn import Sequential\n",
    "hsize1 = 64\n",
    "hsize2 = 32\n",
    "model_con = Sequential(\n",
    "    torch.nn.Linear(features_train.shape[1], hsize1),\n",
    "    torch.nn.ReLU(),\n",
    "    torch.nn.Linear(hsize1, hsize2),\n",
    "    torch.nn.ReLU(),\n",
    "    torch.nn.Linear(hsize2, 1)\n",
    ")\n",
    "\n",
    "optimizer = SSG(\n",
    "    params=model_con.parameters(),\n",
    "    m=1,\n",
    "    lr=0.05,\n",
    "    dual_lr=0.05\n",
    ")\n",
    "\n",
    "epochs = 150"
   ]
  },
  {
   "cell_type": "code",
   "execution_count": null,
   "id": "c03fa9f9",
   "metadata": {},
   "outputs": [
    {
     "name": "stdout",
     "output_type": "stream",
     "text": [
      "Epoch: 0, loss: 0.5896381139755249, constraints: [0.05656339], \n",
      "Epoch: 1, loss: 0.43807604908943176, constraints: [0.11515142], \n",
      "Epoch: 2, loss: 0.4195421040058136, constraints: [0.1153449], \n",
      "Epoch: 3, loss: 0.4113629162311554, constraints: [0.11710171], \n",
      "Epoch: 4, loss: 0.40313923358917236, constraints: [0.11554368], \n",
      "Epoch: 5, loss: 0.4016948938369751, constraints: [0.12309138], \n",
      "Epoch: 6, loss: 0.3989124298095703, constraints: [0.11926389], \n",
      "Epoch: 7, loss: 0.3940858244895935, constraints: [0.11485945], \n",
      "Epoch: 8, loss: 0.39222854375839233, constraints: [0.1211241], \n",
      "Epoch: 9, loss: 0.3901630640029907, constraints: [0.11835493], \n",
      "Epoch: 10, loss: 0.38519927859306335, constraints: [0.12244802], \n",
      "Epoch: 11, loss: 0.3842395842075348, constraints: [0.12717817], \n",
      "Epoch: 12, loss: 0.38469749689102173, constraints: [0.12136279], \n",
      "Epoch: 13, loss: 0.3810117542743683, constraints: [0.11998166], \n",
      "Epoch: 14, loss: 0.37757983803749084, constraints: [0.12558044], \n",
      "Epoch: 15, loss: 0.37364545464515686, constraints: [0.12061645], \n",
      "Epoch: 16, loss: 0.37279361486434937, constraints: [0.12330777], \n",
      "Epoch: 17, loss: 0.36885297298431396, constraints: [0.12257151], \n",
      "Epoch: 18, loss: 0.3676266074180603, constraints: [0.12741093], \n",
      "Epoch: 19, loss: 0.3636205196380615, constraints: [0.12282147], \n",
      "Epoch: 20, loss: 0.3618554174900055, constraints: [0.1243597], \n",
      "Epoch: 21, loss: 0.36347830295562744, constraints: [0.12356789], \n",
      "Epoch: 22, loss: 0.3552062511444092, constraints: [0.12221591], \n",
      "Epoch: 23, loss: 0.3571426570415497, constraints: [0.12137918], \n",
      "Epoch: 24, loss: 0.35905176401138306, constraints: [0.11963206], \n",
      "Epoch: 25, loss: 0.3526577353477478, constraints: [0.12489178], \n",
      "Epoch: 26, loss: 0.3510498106479645, constraints: [0.12482376], \n",
      "Epoch: 27, loss: 0.3484114110469818, constraints: [0.12418468], \n",
      "Epoch: 28, loss: 0.34737664461135864, constraints: [0.1263111], \n",
      "Epoch: 29, loss: 0.34463798999786377, constraints: [0.12583092], \n",
      "Epoch: 30, loss: 0.3425299823284149, constraints: [0.12151701], \n",
      "Epoch: 31, loss: 0.34056556224823, constraints: [0.12422027], \n",
      "Epoch: 32, loss: 0.3373020589351654, constraints: [0.11849875], \n",
      "Epoch: 33, loss: 0.33598777651786804, constraints: [0.12785584], \n",
      "Epoch: 34, loss: 0.33199450373649597, constraints: [0.12961257], \n",
      "Epoch: 35, loss: 0.33099058270454407, constraints: [0.12534052], \n",
      "Epoch: 36, loss: 0.330721378326416, constraints: [0.12880579], \n",
      "Epoch: 37, loss: 0.32787051796913147, constraints: [0.12516185], \n",
      "Epoch: 38, loss: 0.32376328110694885, constraints: [0.12640093], \n",
      "Epoch: 39, loss: 0.31797516345977783, constraints: [0.12497134], \n",
      "Epoch: 40, loss: 0.3179091811180115, constraints: [0.12328139], \n",
      "Epoch: 41, loss: 0.31682223081588745, constraints: [0.127535], \n",
      "Epoch: 42, loss: 0.3143671154975891, constraints: [0.12406088], \n",
      "Epoch: 43, loss: 0.3121863901615143, constraints: [0.12681115], \n",
      "Epoch: 44, loss: 0.3105495572090149, constraints: [0.12845993], \n",
      "Epoch: 45, loss: 0.30759698152542114, constraints: [0.13579567], \n",
      "Epoch: 46, loss: 0.30717286467552185, constraints: [0.12911045], \n",
      "Epoch: 47, loss: 0.30618011951446533, constraints: [0.13121534], \n",
      "Epoch: 48, loss: 0.30270859599113464, constraints: [0.12329068], \n",
      "Epoch: 49, loss: 0.2975917160511017, constraints: [0.13373293], \n",
      "Epoch: 50, loss: 0.29263415932655334, constraints: [0.13444008], \n",
      "Epoch: 51, loss: 0.29424721002578735, constraints: [0.13464219], \n",
      "Epoch: 52, loss: 0.29759347438812256, constraints: [0.13271219], \n",
      "Epoch: 53, loss: 0.29079046845436096, constraints: [0.13335043], \n",
      "Epoch: 54, loss: 0.29141947627067566, constraints: [0.13343854], \n",
      "Epoch: 55, loss: 0.28865548968315125, constraints: [0.13203812], \n",
      "Epoch: 56, loss: 0.28405147790908813, constraints: [0.13352036], \n",
      "Epoch: 57, loss: 0.28177696466445923, constraints: [0.13827283], \n",
      "Epoch: 58, loss: 0.2794437110424042, constraints: [0.12502935], \n",
      "Epoch: 59, loss: 0.2781888246536255, constraints: [0.13129381], \n",
      "Epoch: 60, loss: 0.2836775779724121, constraints: [0.13666285], \n",
      "Epoch: 61, loss: 0.2796688675880432, constraints: [0.12668753], \n",
      "Epoch: 62, loss: 0.273273766040802, constraints: [0.13982541], \n",
      "Epoch: 63, loss: 0.2699315547943115, constraints: [0.14057194], \n",
      "Epoch: 64, loss: 0.2740159034729004, constraints: [0.12987008], \n",
      "Epoch: 65, loss: 0.27066200971603394, constraints: [0.1341287], \n",
      "Epoch: 66, loss: 0.27313902974128723, constraints: [0.13706377], \n",
      "Epoch: 67, loss: 0.2658798098564148, constraints: [0.13113916], \n",
      "Epoch: 68, loss: 0.2651751935482025, constraints: [0.13013774], \n",
      "Epoch: 69, loss: 0.2638940215110779, constraints: [0.12872943], \n",
      "Epoch: 70, loss: 0.2585947513580322, constraints: [0.13489918], \n",
      "Epoch: 71, loss: 0.2615179717540741, constraints: [0.12834467], \n",
      "Epoch: 72, loss: 0.26551559567451477, constraints: [0.13813386], \n",
      "Epoch: 73, loss: 0.2598649859428406, constraints: [0.13554517], \n",
      "Epoch: 74, loss: 0.2574821710586548, constraints: [0.13158149], \n",
      "Epoch: 75, loss: 0.2521091401576996, constraints: [0.13534315], \n",
      "Epoch: 76, loss: 0.2526763379573822, constraints: [0.13289146], \n",
      "Epoch: 77, loss: 0.25817471742630005, constraints: [0.13784852], \n",
      "Epoch: 78, loss: 0.2526169419288635, constraints: [0.13163052], \n",
      "Epoch: 79, loss: 0.25075849890708923, constraints: [0.14041805], \n",
      "Epoch: 80, loss: 0.251376211643219, constraints: [0.14802903], \n",
      "Epoch: 81, loss: 0.24944739043712616, constraints: [0.13426968], \n",
      "Epoch: 82, loss: 0.2487879991531372, constraints: [0.14292477], \n",
      "Epoch: 83, loss: 0.24553315341472626, constraints: [0.13727939], \n",
      "Epoch: 84, loss: 0.24535007774829865, constraints: [0.13692795], \n",
      "Epoch: 85, loss: 0.24381716549396515, constraints: [0.13432931], \n",
      "Epoch: 86, loss: 0.24728122353553772, constraints: [0.14554199], \n",
      "Epoch: 87, loss: 0.24394552409648895, constraints: [0.12925364], \n",
      "Epoch: 88, loss: 0.2414349913597107, constraints: [0.13693251], \n",
      "Epoch: 89, loss: 0.23952943086624146, constraints: [0.13693678], \n",
      "Epoch: 90, loss: 0.24401789903640747, constraints: [0.14958584], \n",
      "Epoch: 91, loss: 0.24182485044002533, constraints: [0.1428158], \n",
      "Epoch: 92, loss: 0.23970602452754974, constraints: [0.14085065], \n",
      "Epoch: 93, loss: 0.239238440990448, constraints: [0.13416168], \n",
      "Epoch: 94, loss: 0.2365499883890152, constraints: [0.12683299], \n",
      "Epoch: 95, loss: 0.23173272609710693, constraints: [0.14278286], \n",
      "Epoch: 96, loss: 0.23168224096298218, constraints: [0.14011893], \n",
      "Epoch: 97, loss: 0.22890296578407288, constraints: [0.13748687], \n",
      "Epoch: 98, loss: 0.2309974879026413, constraints: [0.14706894], \n",
      "Epoch: 99, loss: 0.2347915768623352, constraints: [0.13720216], \n",
      "Epoch: 100, loss: 0.22909089922904968, constraints: [0.14585955], \n",
      "Epoch: 101, loss: 0.2289782166481018, constraints: [0.13670037], \n",
      "Epoch: 102, loss: 0.2299077957868576, constraints: [0.13562704], \n",
      "Epoch: 103, loss: 0.2278522104024887, constraints: [0.13955148], \n",
      "Epoch: 104, loss: 0.22828342020511627, constraints: [0.14099489], \n",
      "Epoch: 105, loss: 0.2223622053861618, constraints: [0.14012423], \n",
      "Epoch: 106, loss: 0.22493207454681396, constraints: [0.14945287], \n",
      "Epoch: 107, loss: 0.2268655151128769, constraints: [0.13133851], \n",
      "Epoch: 108, loss: 0.21616250276565552, constraints: [0.13879787], \n",
      "Epoch: 109, loss: 0.21690267324447632, constraints: [0.13497404], \n",
      "Epoch: 110, loss: 0.2226077914237976, constraints: [0.14500714], \n",
      "Epoch: 111, loss: 0.2198873907327652, constraints: [0.13712734], \n",
      "Epoch: 112, loss: 0.21648675203323364, constraints: [0.14142653], \n",
      "Epoch: 113, loss: 0.2170172482728958, constraints: [0.13871702], \n",
      "Epoch: 114, loss: 0.21421696245670319, constraints: [0.13896479], \n",
      "Epoch: 115, loss: 0.2115112990140915, constraints: [0.13933416], \n",
      "Epoch: 116, loss: 0.21102796494960785, constraints: [0.13689488], \n",
      "Epoch: 117, loss: 0.2131587415933609, constraints: [0.13489407], \n",
      "Epoch: 118, loss: 0.2202596813440323, constraints: [0.15306413], \n",
      "Epoch: 119, loss: 0.2197878658771515, constraints: [0.14215009], \n",
      "Epoch: 120, loss: 0.21798880398273468, constraints: [0.13725186], \n",
      "Epoch: 121, loss: 0.21786905825138092, constraints: [0.14155192], \n",
      "Epoch: 122, loss: 0.21341730654239655, constraints: [0.15356169], \n",
      "Epoch: 123, loss: 0.21469859778881073, constraints: [0.14238923], \n",
      "Epoch: 124, loss: 0.20999722182750702, constraints: [0.13848532], \n",
      "Epoch: 125, loss: 0.21288813650608063, constraints: [0.14733121], \n",
      "Epoch: 126, loss: 0.21251341700553894, constraints: [0.15042246], \n",
      "Epoch: 127, loss: 0.21287207305431366, constraints: [0.14942858], \n",
      "Epoch: 128, loss: 0.21030494570732117, constraints: [0.13710439], \n",
      "Epoch: 129, loss: 0.20281027257442474, constraints: [0.1345801], \n",
      "Epoch: 130, loss: 0.20682930946350098, constraints: [0.14164921], \n",
      "Epoch: 131, loss: 0.20050683617591858, constraints: [0.14242883], \n",
      "Epoch: 132, loss: 0.20247019827365875, constraints: [0.14424951], \n",
      "Epoch: 133, loss: 0.20607148110866547, constraints: [0.14513852], \n",
      "Epoch: 134, loss: 0.20138797163963318, constraints: [0.13845197], \n",
      "Epoch: 135, loss: 0.2064446061849594, constraints: [0.14800975], \n",
      "Epoch: 136, loss: 0.20242032408714294, constraints: [0.14633811], \n",
      "Epoch: 137, loss: 0.20328035950660706, constraints: [0.14754392], \n",
      "Epoch: 138, loss: 0.2018490433692932, constraints: [0.15050991], \n",
      "Epoch: 139, loss: 0.20095546543598175, constraints: [0.14734746], \n",
      "Epoch: 140, loss: 0.2064153254032135, constraints: [0.14100638], \n",
      "Epoch: 141, loss: 0.19957533478736877, constraints: [0.14715053], \n",
      "Epoch: 142, loss: 0.1984052062034607, constraints: [0.14471819], \n",
      "Epoch: 143, loss: 0.19754460453987122, constraints: [0.14230341], \n",
      "Epoch: 144, loss: 0.20093227922916412, constraints: [0.14939157], \n",
      "Epoch: 145, loss: 0.19751009345054626, constraints: [0.14190471], \n",
      "Epoch: 146, loss: 0.20011742413043976, constraints: [0.14870721], \n",
      "Epoch: 147, loss: 0.19129396975040436, constraints: [0.13404511], \n",
      "Epoch: 148, loss: 0.19401031732559204, constraints: [0.14463014], \n",
      "Epoch: 149, loss: 0.19248883426189423, constraints: [0.15371198], \n"
     ]
    }
   ],
   "source": [
    "ep_c_log = []\n",
    "for epoch in range(epochs):\n",
    "    loss_log = []\n",
    "    c_log = []\n",
    "    duals_log = []\n",
    "    for batch_input, batch_sens, batch_label in dataloader:\n",
    "        # calculate constraints and constraint grads\n",
    "        out = model_con(batch_input)\n",
    "        fair_loss = fair_criterion(out, batch_sens)\n",
    "        fair_constraint = torch.max(fair_loss - fair_crit_bound, torch.zeros(1))\n",
    "        fair_constraint.backward(retain_graph=True)\n",
    "        \n",
    "        optimizer.dual_step(0)\n",
    "        optimizer.zero_grad()\n",
    "\n",
    "        c_log.append([fair_loss.detach().item()])\n",
    "        # calculate loss and grad\n",
    "        # batch_output = model_con(batch_input)\n",
    "        loss = criterion(out, batch_label)\n",
    "        loss.backward()\n",
    "        loss_log.append(loss.detach().numpy())\n",
    "        optimizer.step(fair_constraint)\n",
    "        optimizer.zero_grad()\n",
    "        \n",
    "    ep_c_log.append(c_log)\n",
    "    \n",
    "    print(\n",
    "        f\"Epoch: {epoch}, \"\n",
    "        f\"loss: {np.mean(loss_log)}, \"\n",
    "        f\"constraints: {np.mean(c_log, axis=0)}, \"\n",
    "    )"
   ]
  },
  {
   "cell_type": "code",
   "execution_count": null,
   "id": "3f4e4383",
   "metadata": {},
   "outputs": [
    {
     "data": {
      "text/plain": [
       "tensor([0.4719, 0.4978], dtype=torch.float64, grad_fn=<IndexPutBackward0>)"
      ]
     },
     "execution_count": null,
     "metadata": {},
     "output_type": "execute_result"
    }
   ],
   "source": [
    "from fairret.statistic import PositiveRate\n",
    "\n",
    "preds = torch.nn.functional.sigmoid(model_con(features_train))\n",
    "pr = PositiveRate()\n",
    "pr(preds, sens_train)"
   ]
  },
  {
   "cell_type": "code",
   "execution_count": null,
   "id": "d25cb25b",
   "metadata": {},
   "outputs": [
    {
     "data": {
      "text/plain": [
       "tensor(0.0533, dtype=torch.float64, grad_fn=<SumBackward0>)"
      ]
     },
     "execution_count": null,
     "metadata": {},
     "output_type": "execute_result"
    }
   ],
   "source": [
    "fair_criterion(model_con(features_train), sens_train)"
   ]
  },
  {
   "cell_type": "code",
   "execution_count": null,
   "id": "f25ef130",
   "metadata": {},
   "outputs": [
    {
     "data": {
      "text/plain": [
       "<matplotlib.collections.LineCollection at 0x7fa39ad72710>"
      ]
     },
     "execution_count": null,
     "metadata": {},
     "output_type": "execute_result"
    },
    {
     "data": {
      "image/png": "[encoded data removed]",
      "text/plain": [
       "<Figure size 640x480 with 1 Axes>"
      ]
     },
     "metadata": {},
     "output_type": "display_data"
    }
   ],
   "source": [
    "from matplotlib import pyplot as plt\n",
    "\n",
    "ep_c_log = np.array(ep_c_log).flatten()\n",
    "window_len = 10\n",
    "c_mavg = np.array([np.mean(ep_c_log[i:i+window_len]) for i in range(0, len(ep_c_log), window_len)])\n",
    "plt.plot(np.array(c_mavg).flatten(), lw=0.5)\n",
    "plt.hlines(y=fair_crit_bound, xmin=0, xmax=len(c_mavg), colors='black', ls='--')"
   ]
  }
 ],
 "metadata": {
  "kernelspec": {
   "display_name": "hc-opt-dep-test",
   "language": "python",
   "name": "python3"
  },
  "language_info": {
   "codemirror_mode": {
    "name": "ipython",
    "version": 3
   },
   "file_extension": ".py",
   "mimetype": "text/x-python",
   "name": "python",
   "nbconvert_exporter": "python",
   "pygments_lexer": "ipython3"
  }
 },
 "nbformat": 4,
 "nbformat_minor": 5
}
