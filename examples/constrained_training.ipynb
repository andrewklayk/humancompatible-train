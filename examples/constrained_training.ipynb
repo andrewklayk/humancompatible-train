{
 "cells": [
  {
   "cell_type": "markdown",
   "id": "1efc20cc",
   "metadata": {},
   "source": [
    "This notebook will demonstrate how to use the **constrained training algorithms** implemented in this toolkit with **PyTorch**-like API."
   ]
  },
  {
   "cell_type": "markdown",
   "id": "790ccbc7",
   "metadata": {},
   "source": [
    "The algorithms implemented in the **humancompatible.train.torch** subpackage share a similar idea. Before the training, you initialize an algorithm like you would a PyTorch one. Then, during the training process, you:\n",
    "\n",
    "1. Evaluate a constraint and compute its gradient\n",
    "2. Call the `dual_step` function to update dual parameters and save the constraint gradient for the primal update\n",
    "3. Call the `step` function to update the primal parameters (generally, model weights)"
   ]
  },
  {
   "cell_type": "markdown",
   "id": "8d3224eb",
   "metadata": {},
   "source": [
    "Let's try the Stochastic Smooth Linearized Augmented Lagrangian (SSLALM) algorithm on a constrained learning task."
   ]
  },
  {
   "cell_type": "markdown",
   "id": "af7f86ab",
   "metadata": {},
   "source": [
    "Let's train a simple classification model, putting a constraint on the norm of each layer's parameters.\n",
    "\n",
    "In the canonical form, the algorithm expects equality constraints that are equal to 0; however, we can easily transform arbitrary inequality constraints to that form."
   ]
  },
  {
   "cell_type": "code",
   "execution_count": null,
   "id": "48b9577d",
   "metadata": {},
   "outputs": [],
   "source": [
    "# load and prepare data\n",
    "\n",
    "from sklearn.model_selection import train_test_split\n",
    "from sklearn.preprocessing import StandardScaler\n",
    "import torch\n",
    "import numpy as np\n",
    "from folktables import ACSDataSource, ACSIncome, generate_categories\n",
    "\n",
    "# load folktables data\n",
    "data_source = ACSDataSource(survey_year='2018', horizon='1-Year', survey='person')\n",
    "acs_data = data_source.get_data(states=[\"VA\"], download=True)\n",
    "definition_df = data_source.get_definitions(download=True)\n",
    "categories = generate_categories(features=ACSIncome.features, definition_df=definition_df)\n",
    "df_feat, df_labels, _ = ACSIncome.df_to_pandas(acs_data,categories=categories, dummies=True)\n",
    "\n",
    "sens_cols = ['SEX_Female', 'SEX_Male']\n",
    "features = df_feat.drop(columns=sens_cols).to_numpy(dtype=\"float\")\n",
    "groups = df_feat[sens_cols].to_numpy(dtype=\"float\")\n",
    "labels = df_labels.to_numpy(dtype=\"float\")\n",
    "# split\n",
    "X_train, X_test, y_train, y_test, groups_train, groups_test = train_test_split(\n",
    "    features, labels, groups, test_size=0.2, random_state=42)\n",
    "# scale\n",
    "scaler = StandardScaler()\n",
    "X_train = scaler.fit_transform(X_train)\n",
    "X_test = scaler.transform(X_test)\n",
    "\n",
    "# make into a pytorch dataset, remove the sensitive attribute\n",
    "features_train = torch.tensor(X_train, dtype=torch.float32)\n",
    "labels_train = torch.tensor(y_train,dtype=torch.float32)\n",
    "sens_train = torch.tensor(groups_train)\n",
    "dataset_train = torch.utils.data.TensorDataset(features_train, labels_train)"
   ]
  },
  {
   "cell_type": "code",
   "execution_count": null,
   "id": "834e083e",
   "metadata": {},
   "outputs": [],
   "source": [
    "from humancompatible.train.algorithms import SSLALM\n",
    "import torch\n",
    "from torch.nn import Sequential\n",
    "\n",
    "dataloader = torch.utils.data.DataLoader(dataset_train, batch_size=16, shuffle=True)\n",
    "\n",
    "hsize1 = 64\n",
    "hsize2 = 32\n",
    "model = Sequential(\n",
    "    torch.nn.Linear(features_train.shape[1], hsize1),\n",
    "    torch.nn.ReLU(),\n",
    "    torch.nn.Linear(hsize1, hsize2),\n",
    "    torch.nn.ReLU(),\n",
    "    torch.nn.Linear(hsize2, 1)\n",
    ")\n",
    "\n",
    "m = len(list(model.parameters()))\n",
    "\n",
    "optimizer = SSLALM(\n",
    "    params=model.parameters(),\n",
    "    m=m,\n",
    "    lr=0.01,\n",
    "    dual_lr=0.1\n",
    ")\n",
    "# bounds for the constraints: norm of each param group should be <= 1\n",
    "constraint_bounds = [1.]*m\n",
    "\n",
    "epochs = 10\n",
    "criterion = torch.nn.BCEWithLogitsLoss()"
   ]
  },
  {
   "cell_type": "code",
   "execution_count": null,
   "id": "ea8758f7",
   "metadata": {},
   "outputs": [
    {
     "name": "stdout",
     "output_type": "stream",
     "text": [
      "Epoch: 0, loss: 0.5559760332107544, constraints: [0.91737795 0.30318373 0.9765759  0.51893866 0.91513544 0.16496846], dual: [0.14526425 0.         0.16194636 0.         0.18826969 0.        ]\n",
      "Epoch: 1, loss: 0.451104074716568, constraints: [0.99989265 0.74805677 0.9999066  0.68494964 0.9997819  0.30124232], dual: [0.20154439 0.         0.23898543 0.         0.2657407  0.        ]\n",
      "Epoch: 2, loss: 0.4313131868839264, constraints: [0.9995655  0.99329156 0.999513   0.7401734  0.9993561  0.30543154], dual: [0.24007902 0.03688543 0.29564866 0.         0.32183442 0.        ]\n",
      "Epoch: 3, loss: 0.4230686128139496, constraints: [0.9993245  0.99980736 0.999204   0.7695187  0.9990042  0.29860938], dual: [0.27040952 0.04574572 0.3421067  0.         0.36567575 0.        ]\n",
      "Epoch: 4, loss: 0.4171927869319916, constraints: [0.999209   0.99974847 0.9988674  0.7896771  0.99875087 0.29188126], dual: [0.2937199  0.05142263 0.3789018  0.         0.40203938 0.        ]\n",
      "Epoch: 5, loss: 0.411997526884079, constraints: [0.9991832  0.9997038  0.9986903  0.80403227 0.9985356  0.29104593], dual: [0.3148753  0.0556339  0.4104012  0.         0.43517974 0.        ]\n",
      "Epoch: 6, loss: 0.4084599018096924, constraints: [0.9992076  0.99964964 0.99854374 0.81644124 0.9983635  0.28951004], dual: [0.33437052 0.05873958 0.4407348  0.         0.4652856  0.        ]\n",
      "Epoch: 7, loss: 0.4049149453639984, constraints: [0.9992023  0.9996763  0.9983643  0.8254219  0.9982158  0.28898498], dual: [0.35126206 0.06172189 0.4677158  0.         0.4927429  0.        ]\n",
      "Epoch: 8, loss: 0.40224578976631165, constraints: [0.9992311  0.99960256 0.9982846  0.8321669  0.99801767 0.29036668], dual: [0.36736622 0.06378309 0.49475437 0.         0.51823753 0.        ]\n",
      "Epoch: 9, loss: 0.3998371958732605, constraints: [0.99921805 0.9996137  0.9980073  0.8389309  0.9979264  0.29086685], dual: [0.38295138 0.06551965 0.51818824 0.         0.5431031  0.        ]\n"
     ]
    }
   ],
   "source": [
    "for epoch in range(epochs):\n",
    "    loss_log = []\n",
    "    c_log = []\n",
    "    slack_log = []\n",
    "    duals_log = []\n",
    "    for batch_input, batch_label in dataloader:\n",
    "        # calculate constraints and constraint grads\n",
    "        c_log.append([])\n",
    "        for i, param in enumerate(model.parameters()):\n",
    "            norm = torch.linalg.norm(param, ord=2)\n",
    "            # convert constraint to equality\n",
    "            norm_viol = torch.max(\n",
    "                norm \n",
    "                - constraint_bounds[i],\n",
    "                torch.zeros(1)\n",
    "            )\n",
    "            norm_viol.backward()\n",
    "            # for the Lagrangian family of algorithms, dual_step requires the index of constraint and the value as arguments\n",
    "            # to update the corresponding dual multiplier\n",
    "            # in a stochastic-constrained setting, this estimate needs (in theory) to be independent from the one used to update dual parameters\n",
    "            # in practice, it makes little difference  \n",
    "            optimizer.dual_step(i, c_val=norm_viol)\n",
    "            optimizer.zero_grad()\n",
    "            c_log[-1].append(norm.detach().numpy())\n",
    "        \n",
    "        # calculate loss and grad\n",
    "        batch_output = model(batch_input)\n",
    "        loss = criterion(batch_output, batch_label)\n",
    "        loss.backward()\n",
    "        loss_log.append(loss.detach().numpy())\n",
    "        duals_log.append(optimizer._dual_vars.detach())\n",
    "        optimizer.step()\n",
    "        optimizer.zero_grad()\n",
    "    \n",
    "    print(\n",
    "        f\"Epoch: {epoch}, \"\n",
    "        f\"loss: {np.mean(loss_log)}, \"\n",
    "        f\"constraints: {np.mean(c_log, axis=0)}, \"\n",
    "        f\"dual: {np.mean(duals_log, axis=0)}\"\n",
    "    )"
   ]
  },
  {
   "cell_type": "markdown",
   "id": "30a4e546",
   "metadata": {},
   "source": [
    "The model is now trained subject to the constraints we set."
   ]
  },
  {
   "cell_type": "markdown",
   "id": "ea06f697",
   "metadata": {},
   "source": [
    "---\n",
    "---"
   ]
  },
  {
   "cell_type": "markdown",
   "id": "bd2f190b",
   "metadata": {},
   "source": [
    "It is also possible to train a network subject to **stochastic constraints**. One of the main use-cases for that is **fairness**. Let's train a network on the `folktables` dataset without constraints first, so we can identify some biases:"
   ]
  },
  {
   "cell_type": "markdown",
   "id": "7ec89642",
   "metadata": {},
   "source": [
    "Define a model:"
   ]
  },
  {
   "cell_type": "code",
   "execution_count": null,
   "id": "4c957562",
   "metadata": {},
   "outputs": [],
   "source": [
    "from torch.nn import Sequential\n",
    "hsize1 = 64\n",
    "hsize2 = 32\n",
    "model_uncon = Sequential(\n",
    "    torch.nn.Linear(features_train.shape[1], hsize1),\n",
    "    torch.nn.ReLU(),\n",
    "    torch.nn.Linear(hsize1, hsize2),\n",
    "    torch.nn.ReLU(),\n",
    "    torch.nn.Linear(hsize2, 1)\n",
    ")"
   ]
  },
  {
   "cell_type": "markdown",
   "id": "6409a977",
   "metadata": {},
   "source": [
    "And start training:"
   ]
  },
  {
   "cell_type": "code",
   "execution_count": null,
   "id": "8793a889",
   "metadata": {},
   "outputs": [
    {
     "name": "stdout",
     "output_type": "stream",
     "text": [
      "Epoch: 0, loss: 0.4347502906876172\n",
      "Epoch: 1, loss: 0.39616607425111366\n",
      "Epoch: 2, loss: 0.3803682842677656\n",
      "Epoch: 3, loss: 0.36906123785641\n",
      "Epoch: 4, loss: 0.35617675897269874\n",
      "Epoch: 5, loss: 0.3407004922434713\n",
      "Epoch: 6, loss: 0.32453690413740727\n",
      "Epoch: 7, loss: 0.3077362470128662\n",
      "Epoch: 8, loss: 0.2909023775355939\n",
      "Epoch: 9, loss: 0.27703681499237254\n",
      "Epoch: 10, loss: 0.25923273601105995\n",
      "Epoch: 11, loss: 0.24734333765118396\n",
      "Epoch: 12, loss: 0.23562498148865643\n",
      "Epoch: 13, loss: 0.2216183516476142\n",
      "Epoch: 14, loss: 0.21393390793790734\n",
      "Epoch: 15, loss: 0.20235857262348342\n",
      "Epoch: 16, loss: 0.19367398184129364\n",
      "Epoch: 17, loss: 0.18549755612789176\n",
      "Epoch: 18, loss: 0.17622195665972337\n",
      "Epoch: 19, loss: 0.17113913496894895\n",
      "Epoch: 20, loss: 0.16546863001624793\n",
      "Epoch: 21, loss: 0.1577721542313185\n",
      "Epoch: 22, loss: 0.15047499655759644\n",
      "Epoch: 23, loss: 0.14970412313719433\n",
      "Epoch: 24, loss: 0.1444376527208545\n",
      "Epoch: 25, loss: 0.13948282646024113\n",
      "Epoch: 26, loss: 0.13189793694390617\n",
      "Epoch: 27, loss: 0.13196727598255326\n",
      "Epoch: 28, loss: 0.1282071336502335\n",
      "Epoch: 29, loss: 0.12355432915780293\n",
      "Epoch: 30, loss: 0.1198987612153054\n",
      "Epoch: 31, loss: 0.11910682175911078\n",
      "Epoch: 32, loss: 0.11250700417492716\n",
      "Epoch: 33, loss: 0.11242990967761503\n",
      "Epoch: 34, loss: 0.10754635257826538\n",
      "Epoch: 35, loss: 0.10808734387594947\n",
      "Epoch: 36, loss: 0.10446399722273983\n",
      "Epoch: 37, loss: 0.10137819896590687\n",
      "Epoch: 38, loss: 0.09824282584325755\n",
      "Epoch: 39, loss: 0.09761354314009757\n",
      "Epoch: 40, loss: 0.09629385479537075\n",
      "Epoch: 41, loss: 0.0980458986942506\n",
      "Epoch: 42, loss: 0.09241889443527279\n",
      "Epoch: 43, loss: 0.08775029779491787\n",
      "Epoch: 44, loss: 0.09480425191157296\n",
      "Epoch: 45, loss: 0.08960090783067486\n",
      "Epoch: 46, loss: 0.08645440529421625\n",
      "Epoch: 47, loss: 0.08848531700701591\n",
      "Epoch: 48, loss: 0.08257072548864597\n",
      "Epoch: 49, loss: 0.08516274812671665\n",
      "Epoch: 50, loss: 0.08246131248908278\n",
      "Epoch: 51, loss: 0.08108251444005035\n",
      "Epoch: 52, loss: 0.077191001967496\n",
      "Epoch: 53, loss: 0.0829771353439806\n",
      "Epoch: 54, loss: 0.07923281729589933\n",
      "Epoch: 55, loss: 0.07383052453275467\n",
      "Epoch: 56, loss: 0.0772944877691194\n",
      "Epoch: 57, loss: 0.07454561611126437\n",
      "Epoch: 58, loss: 0.0742188997714782\n",
      "Epoch: 59, loss: 0.07355393029622771\n",
      "Epoch: 60, loss: 0.0697388788985484\n",
      "Epoch: 61, loss: 0.07458990502004269\n",
      "Epoch: 62, loss: 0.07110446929254989\n",
      "Epoch: 63, loss: 0.07200490791683478\n",
      "Epoch: 64, loss: 0.06962692059076966\n",
      "Epoch: 65, loss: 0.07062180563546375\n",
      "Epoch: 66, loss: 0.06986464381293794\n",
      "Epoch: 67, loss: 0.07094456208266448\n",
      "Epoch: 68, loss: 0.06910460650539003\n",
      "Epoch: 69, loss: 0.06356872942972283\n",
      "Epoch: 70, loss: 0.06500895586004048\n",
      "Epoch: 71, loss: 0.06496120100553573\n",
      "Epoch: 72, loss: 0.06516535142350358\n",
      "Epoch: 73, loss: 0.0625493444946909\n",
      "Epoch: 74, loss: 0.0643912013601416\n",
      "Epoch: 75, loss: 0.0650474983162311\n",
      "Epoch: 76, loss: 0.060230221252792614\n",
      "Epoch: 77, loss: 0.0630991333682761\n",
      "Epoch: 78, loss: 0.06679340553298452\n",
      "Epoch: 79, loss: 0.05962247319382759\n",
      "Epoch: 80, loss: 0.05913202169742904\n",
      "Epoch: 81, loss: 0.060647026409740734\n",
      "Epoch: 82, loss: 0.058496695048014934\n",
      "Epoch: 83, loss: 0.058554264080446734\n",
      "Epoch: 84, loss: 0.05841069125057187\n",
      "Epoch: 85, loss: 0.055307874043951155\n",
      "Epoch: 86, loss: 0.05863243487901814\n",
      "Epoch: 87, loss: 0.05677493428852676\n",
      "Epoch: 88, loss: 0.058535073186499316\n",
      "Epoch: 89, loss: 0.0591084572531721\n",
      "Epoch: 90, loss: 0.05810895870381086\n",
      "Epoch: 91, loss: 0.05616463630724945\n",
      "Epoch: 92, loss: 0.0571854826372277\n",
      "Epoch: 93, loss: 0.05417437522650802\n",
      "Epoch: 94, loss: 0.05881660859306018\n",
      "Epoch: 95, loss: 0.05910663971227885\n",
      "Epoch: 96, loss: 0.05401602186099406\n",
      "Epoch: 97, loss: 0.05149090717909237\n",
      "Epoch: 98, loss: 0.05482359819341903\n",
      "Epoch: 99, loss: 0.054031581708226376\n"
     ]
    }
   ],
   "source": [
    "from torch.optim import Adam\n",
    "\n",
    "loader = torch.utils.data.DataLoader(dataset_train, batch_size=256, shuffle=True)\n",
    "loss = torch.nn.BCEWithLogitsLoss()\n",
    "optimizer = Adam(model_uncon.parameters())\n",
    "epochs = 100\n",
    "\n",
    "for epoch in range(epochs):\n",
    "    losses = []\n",
    "    for batch_feat, batch_label in dataloader:\n",
    "        optimizer.zero_grad()\n",
    "\n",
    "        logit = model_uncon(batch_feat)\n",
    "        loss = torch.nn.functional.binary_cross_entropy_with_logits(logit, batch_label)\n",
    "        loss.backward()\n",
    "\n",
    "        optimizer.step()\n",
    "        losses.append(loss.item())\n",
    "    print(f\"Epoch: {epoch}, loss: {np.mean(losses)}\")"
   ]
  },
  {
   "cell_type": "code",
   "execution_count": null,
   "id": "9fd521be",
   "metadata": {},
   "outputs": [
    {
     "data": {
      "text/plain": [
       "tensor([0.3648, 0.5193], dtype=torch.float64, grad_fn=<IndexPutBackward0>)"
      ]
     },
     "execution_count": null,
     "metadata": {},
     "output_type": "execute_result"
    }
   ],
   "source": [
    "from fairret.statistic import PositiveRate, TruePositiveRate\n",
    "from fairret.loss import NormLoss\n",
    "\n",
    "preds = torch.nn.functional.sigmoid(model_uncon(features_train))\n",
    "pr = PositiveRate()\n",
    "pr(preds, sens_train)"
   ]
  },
  {
   "cell_type": "markdown",
   "id": "e16c4fa0",
   "metadata": {},
   "source": [
    "---\n",
    "---"
   ]
  },
  {
   "cell_type": "markdown",
   "id": "a3dbc50a",
   "metadata": {},
   "source": [
    "Now let us train the same model with one of the **constrained** training algorithms:"
   ]
  },
  {
   "cell_type": "markdown",
   "id": "6ef60dce",
   "metadata": {},
   "source": [
    "Here, to make sure each batch contains representatives of each protected group, we can use the BalancedBatchSampler from the `utils` subpackage - a custom PyTorch `Sampler` which yields an equal number of samples from each subgroup in each batch."
   ]
  },
  {
   "cell_type": "code",
   "execution_count": null,
   "id": "b0e2bd5d",
   "metadata": {},
   "outputs": [],
   "source": [
    "from fairret.statistic import PositiveRate\n",
    "from fairret.loss import NormLoss\n",
    "from humancompatible.train.fairness.utils import BalancedBatchSampler\n",
    "\n",
    "\n",
    "\n",
    "dataset = torch.utils.data.TensorDataset(features_train, sens_train, labels_train)\n",
    "\n",
    "sampler = BalancedBatchSampler(\n",
    "    subgroup_onehot=sens_train,\n",
    "    batch_size=128,\n",
    "    drop_last=True\n",
    ")\n",
    "dataloader = torch.utils.data.DataLoader(dataset, batch_sampler=sampler)\n",
    "\n",
    "criterion = torch.nn.BCEWithLogitsLoss()\n",
    "\n",
    "statistic = PositiveRate()\n",
    "fair_criterion = NormLoss(statistic=statistic)\n",
    "fair_crit_bound = 0.3"
   ]
  },
  {
   "cell_type": "code",
   "execution_count": null,
   "id": "1b5d4833",
   "metadata": {},
   "outputs": [],
   "source": [
    "from torch.nn import Sequential\n",
    "hsize1 = 64\n",
    "hsize2 = 32\n",
    "model_con = Sequential(\n",
    "    torch.nn.Linear(features_train.shape[1], hsize1),\n",
    "    torch.nn.ReLU(),\n",
    "    torch.nn.Linear(hsize1, hsize2),\n",
    "    torch.nn.ReLU(),\n",
    "    torch.nn.Linear(hsize2, 1)\n",
    ")\n",
    "\n",
    "optimizer = SSLALM(\n",
    "    params=model_con.parameters(),\n",
    "    m=1,\n",
    "    lr=0.05,\n",
    "    dual_lr=0.05,\n",
    "    dual_bound=5,\n",
    "    rho=1.,\n",
    "    mu=2.\n",
    ")\n",
    "\n",
    "# add slack variables\n",
    "slack_vars = torch.zeros(1, requires_grad=True)\n",
    "optimizer.add_param_group(param_group={\"params\": slack_vars, \"name\": \"slack\"})\n",
    "\n",
    "epochs = 150"
   ]
  },
  {
   "cell_type": "markdown",
   "id": "894ed813",
   "metadata": {},
   "source": [
    "As the constraint, we use `NormLoss` from `fairret`, which penalizes the model based on the ratio between the value of a statistic for each group and the overall value: $\\sum_{s\\in S}{|1-\\frac{f(\\theta, X_s, y_s)}{f(\\theta, X, y)}|}$."
   ]
  },
  {
   "cell_type": "code",
   "execution_count": null,
   "id": "8564545d",
   "metadata": {},
   "outputs": [
    {
     "name": "stdout",
     "output_type": "stream",
     "text": [
      "Epoch: 0, loss: 0.5964877009391785, constraints: [0.04701327], dual: [0.00181583]\n",
      "Epoch: 1, loss: 0.4189867675304413, constraints: [0.1951957], dual: [0.18362688]\n",
      "Epoch: 2, loss: 0.39733222126960754, constraints: [0.195305], dual: [0.331285]\n",
      "Epoch: 3, loss: 0.38910675048828125, constraints: [0.18657973], dual: [0.49074867]\n",
      "Epoch: 4, loss: 0.3847562372684479, constraints: [0.17641279], dual: [0.64988726]\n",
      "Epoch: 5, loss: 0.3822310268878937, constraints: [0.1629196], dual: [0.77936023]\n",
      "Epoch: 6, loss: 0.3778993785381317, constraints: [0.16089187], dual: [0.8648878]\n",
      "Epoch: 7, loss: 0.3771510422229767, constraints: [0.16208908], dual: [0.93879974]\n",
      "Epoch: 8, loss: 0.3745404779911041, constraints: [0.1560387], dual: [1.007343]\n",
      "Epoch: 9, loss: 0.37269678711891174, constraints: [0.15407917], dual: [1.0742816]\n",
      "Epoch: 10, loss: 0.36955833435058594, constraints: [0.16355389], dual: [1.1565105]\n",
      "Epoch: 11, loss: 0.3666114807128906, constraints: [0.15231781], dual: [1.2088367]\n",
      "Epoch: 12, loss: 0.36505863070487976, constraints: [0.15350686], dual: [1.2767298]\n",
      "Epoch: 13, loss: 0.3611990809440613, constraints: [0.15531769], dual: [1.3377378]\n",
      "Epoch: 14, loss: 0.36214250326156616, constraints: [0.14783621], dual: [1.3907313]\n",
      "Epoch: 15, loss: 0.3562532067298889, constraints: [0.15379377], dual: [1.4235057]\n",
      "Epoch: 16, loss: 0.35390418767929077, constraints: [0.15776344], dual: [1.4756509]\n",
      "Epoch: 17, loss: 0.3535971939563751, constraints: [0.15685916], dual: [1.5177106]\n",
      "Epoch: 18, loss: 0.3471146821975708, constraints: [0.15370088], dual: [1.5513668]\n",
      "Epoch: 19, loss: 0.3475930690765381, constraints: [0.1474714], dual: [1.586608]\n",
      "Epoch: 20, loss: 0.3460840582847595, constraints: [0.14250916], dual: [1.6197054]\n",
      "Epoch: 21, loss: 0.3429458439350128, constraints: [0.14190581], dual: [1.6456172]\n",
      "Epoch: 22, loss: 0.34112831950187683, constraints: [0.14478178], dual: [1.6845007]\n",
      "Epoch: 23, loss: 0.338951975107193, constraints: [0.14300168], dual: [1.7155722]\n",
      "Epoch: 24, loss: 0.3365129828453064, constraints: [0.14208852], dual: [1.7364867]\n",
      "Epoch: 25, loss: 0.3343072831630707, constraints: [0.14276032], dual: [1.7592628]\n",
      "Epoch: 26, loss: 0.3313661217689514, constraints: [0.14373988], dual: [1.7783875]\n",
      "Epoch: 27, loss: 0.32905271649360657, constraints: [0.14391356], dual: [1.7997092]\n",
      "Epoch: 28, loss: 0.32559558749198914, constraints: [0.14232083], dual: [1.819667]\n",
      "Epoch: 29, loss: 0.327927827835083, constraints: [0.14654839], dual: [1.8411492]\n",
      "Epoch: 30, loss: 0.321808785200119, constraints: [0.14310653], dual: [1.8547634]\n",
      "Epoch: 31, loss: 0.32212570309638977, constraints: [0.14388805], dual: [1.8718505]\n",
      "Epoch: 32, loss: 0.3176101744174957, constraints: [0.1381243], dual: [1.8878857]\n",
      "Epoch: 33, loss: 0.317004919052124, constraints: [0.145917], dual: [1.9084262]\n",
      "Epoch: 34, loss: 0.309824675321579, constraints: [0.14643095], dual: [1.9242992]\n",
      "Epoch: 35, loss: 0.3082379698753357, constraints: [0.14121831], dual: [1.9382846]\n",
      "Epoch: 36, loss: 0.3035806715488434, constraints: [0.14091176], dual: [1.9536991]\n",
      "Epoch: 37, loss: 0.3061775863170624, constraints: [0.1483007], dual: [1.966921]\n",
      "Epoch: 38, loss: 0.30338165163993835, constraints: [0.1401922], dual: [1.9825641]\n",
      "Epoch: 39, loss: 0.29926785826683044, constraints: [0.13897325], dual: [1.9931812]\n",
      "Epoch: 40, loss: 0.2985864579677582, constraints: [0.13982335], dual: [2.0051253]\n",
      "Epoch: 41, loss: 0.3025634288787842, constraints: [0.14690428], dual: [2.0209005]\n",
      "Epoch: 42, loss: 0.2959322929382324, constraints: [0.14241821], dual: [2.0312753]\n",
      "Epoch: 43, loss: 0.2915193438529968, constraints: [0.14137688], dual: [2.043062]\n",
      "Epoch: 44, loss: 0.2895781099796295, constraints: [0.13996492], dual: [2.052078]\n",
      "Epoch: 45, loss: 0.29019805788993835, constraints: [0.14758688], dual: [2.0599484]\n",
      "Epoch: 46, loss: 0.28346332907676697, constraints: [0.14723331], dual: [2.0699785]\n",
      "Epoch: 47, loss: 0.282205730676651, constraints: [0.14151676], dual: [2.0788229]\n",
      "Epoch: 48, loss: 0.2858007848262787, constraints: [0.13964847], dual: [2.0868034]\n",
      "Epoch: 49, loss: 0.2787598669528961, constraints: [0.14851792], dual: [2.0965524]\n",
      "Epoch: 50, loss: 0.28025394678115845, constraints: [0.14295687], dual: [2.1033878]\n",
      "Epoch: 51, loss: 0.28168436884880066, constraints: [0.14666698], dual: [2.1118765]\n",
      "Epoch: 52, loss: 0.2783763110637665, constraints: [0.14728773], dual: [2.1210885]\n",
      "Epoch: 53, loss: 0.2756488621234894, constraints: [0.14001457], dual: [2.1283817]\n",
      "Epoch: 54, loss: 0.26900428533554077, constraints: [0.14261566], dual: [2.1323845]\n",
      "Epoch: 55, loss: 0.26862695813179016, constraints: [0.14055779], dual: [2.1365182]\n",
      "Epoch: 56, loss: 0.2692442834377289, constraints: [0.14318149], dual: [2.1423361]\n",
      "Epoch: 57, loss: 0.26916006207466125, constraints: [0.15178545], dual: [2.1502285]\n",
      "Epoch: 58, loss: 0.2659660577774048, constraints: [0.14420068], dual: [2.1559668]\n",
      "Epoch: 59, loss: 0.2642906904220581, constraints: [0.14652895], dual: [2.1605902]\n",
      "Epoch: 60, loss: 0.25864848494529724, constraints: [0.15069722], dual: [2.1651785]\n",
      "Epoch: 61, loss: 0.26272860169410706, constraints: [0.14011948], dual: [2.1683803]\n",
      "Epoch: 62, loss: 0.25607120990753174, constraints: [0.14674106], dual: [2.1716883]\n",
      "Epoch: 63, loss: 0.2573090195655823, constraints: [0.14621599], dual: [2.1768246]\n",
      "Epoch: 64, loss: 0.25697386264801025, constraints: [0.14576429], dual: [2.180749]\n",
      "Epoch: 65, loss: 0.25918692350387573, constraints: [0.14535215], dual: [2.1840749]\n",
      "Epoch: 66, loss: 0.25922897458076477, constraints: [0.13461945], dual: [2.187466]\n",
      "Epoch: 67, loss: 0.25659751892089844, constraints: [0.13869996], dual: [2.1908526]\n",
      "Epoch: 68, loss: 0.2454579919576645, constraints: [0.1536644], dual: [2.1942308]\n",
      "Epoch: 69, loss: 0.24609331786632538, constraints: [0.14740591], dual: [2.196441]\n",
      "Epoch: 70, loss: 0.24420279264450073, constraints: [0.14055099], dual: [2.1986299]\n",
      "Epoch: 71, loss: 0.24194061756134033, constraints: [0.14601841], dual: [2.200429]\n",
      "Epoch: 72, loss: 0.2456093728542328, constraints: [0.14273079], dual: [2.2033453]\n",
      "Epoch: 73, loss: 0.2373281568288803, constraints: [0.14385772], dual: [2.2047284]\n",
      "Epoch: 74, loss: 0.2415442168712616, constraints: [0.1400674], dual: [2.2067454]\n",
      "Epoch: 75, loss: 0.23711906373500824, constraints: [0.1392258], dual: [2.208614]\n",
      "Epoch: 76, loss: 0.2385871410369873, constraints: [0.15111162], dual: [2.2106266]\n",
      "Epoch: 77, loss: 0.23665224015712738, constraints: [0.13679147], dual: [2.2122114]\n",
      "Epoch: 78, loss: 0.23727214336395264, constraints: [0.14756472], dual: [2.2137735]\n",
      "Epoch: 79, loss: 0.23571041226387024, constraints: [0.14845511], dual: [2.2153444]\n",
      "Epoch: 80, loss: 0.23159131407737732, constraints: [0.14601612], dual: [2.2169511]\n",
      "Epoch: 81, loss: 0.2346397191286087, constraints: [0.14555117], dual: [2.2188866]\n",
      "Epoch: 82, loss: 0.2340419441461563, constraints: [0.14760321], dual: [2.2206213]\n",
      "Epoch: 83, loss: 0.23143181204795837, constraints: [0.14760313], dual: [2.2225103]\n",
      "Epoch: 84, loss: 0.22536739706993103, constraints: [0.150007], dual: [2.2236059]\n",
      "Epoch: 85, loss: 0.22689326107501984, constraints: [0.15151397], dual: [2.2252765]\n",
      "Epoch: 86, loss: 0.23241053521633148, constraints: [0.15168461], dual: [2.2270362]\n",
      "Epoch: 87, loss: 0.2280157059431076, constraints: [0.14710415], dual: [2.22825]\n",
      "Epoch: 88, loss: 0.21915465593338013, constraints: [0.14353297], dual: [2.2293699]\n",
      "Epoch: 89, loss: 0.22162611782550812, constraints: [0.15810521], dual: [2.2308097]\n",
      "Epoch: 90, loss: 0.2232014238834381, constraints: [0.15162558], dual: [2.231541]\n",
      "Epoch: 91, loss: 0.2240859866142273, constraints: [0.14621147], dual: [2.232426]\n",
      "Epoch: 92, loss: 0.2200152426958084, constraints: [0.14163853], dual: [2.2333605]\n",
      "Epoch: 93, loss: 0.21871152520179749, constraints: [0.15136827], dual: [2.2341821]\n",
      "Epoch: 94, loss: 0.22239236533641815, constraints: [0.14794702], dual: [2.2351263]\n",
      "Epoch: 95, loss: 0.21425533294677734, constraints: [0.15009786], dual: [2.2358263]\n",
      "Epoch: 96, loss: 0.21236008405685425, constraints: [0.14431676], dual: [2.2364988]\n",
      "Epoch: 97, loss: 0.21712376177310944, constraints: [0.14312749], dual: [2.2372472]\n",
      "Epoch: 98, loss: 0.2115909904241562, constraints: [0.14728952], dual: [2.2379458]\n",
      "Epoch: 99, loss: 0.21050243079662323, constraints: [0.15252361], dual: [2.2387273]\n",
      "Epoch: 100, loss: 0.21029923856258392, constraints: [0.15522177], dual: [2.2394524]\n",
      "Epoch: 101, loss: 0.2144780158996582, constraints: [0.14657014], dual: [2.2400439]\n",
      "Epoch: 102, loss: 0.21160098910331726, constraints: [0.15675975], dual: [2.240746]\n",
      "Epoch: 103, loss: 0.209450826048851, constraints: [0.15010435], dual: [2.2413888]\n",
      "Epoch: 104, loss: 0.20099897682666779, constraints: [0.15731794], dual: [2.2418349]\n",
      "Epoch: 105, loss: 0.20690873265266418, constraints: [0.14877451], dual: [2.2424757]\n",
      "Epoch: 106, loss: 0.21406854689121246, constraints: [0.1602774], dual: [2.2430935]\n",
      "Epoch: 107, loss: 0.21242424845695496, constraints: [0.15046977], dual: [2.2434857]\n",
      "Epoch: 108, loss: 0.20496298372745514, constraints: [0.14981384], dual: [2.2438796]\n",
      "Epoch: 109, loss: 0.2084779292345047, constraints: [0.14728351], dual: [2.2443502]\n",
      "Epoch: 110, loss: 0.20824851095676422, constraints: [0.16428857], dual: [2.2449615]\n",
      "Epoch: 111, loss: 0.20649243891239166, constraints: [0.14855409], dual: [2.2453547]\n",
      "Epoch: 112, loss: 0.20473264157772064, constraints: [0.15185581], dual: [2.245726]\n",
      "Epoch: 113, loss: 0.2079596370458603, constraints: [0.15176682], dual: [2.2461061]\n",
      "Epoch: 114, loss: 0.20911486446857452, constraints: [0.14733893], dual: [2.2463815]\n",
      "Epoch: 115, loss: 0.2022322118282318, constraints: [0.14419109], dual: [2.2467177]\n",
      "Epoch: 116, loss: 0.19850262999534607, constraints: [0.14425563], dual: [2.2469835]\n",
      "Epoch: 117, loss: 0.201682910323143, constraints: [0.15393361], dual: [2.2472632]\n",
      "Epoch: 118, loss: 0.19376477599143982, constraints: [0.14403272], dual: [2.2475638]\n",
      "Epoch: 119, loss: 0.1972176879644394, constraints: [0.15170129], dual: [2.2478926]\n",
      "Epoch: 120, loss: 0.20545555651187897, constraints: [0.15377723], dual: [2.2481735]\n",
      "Epoch: 121, loss: 0.20293855667114258, constraints: [0.14233474], dual: [2.2484584]\n",
      "Epoch: 122, loss: 0.1967054009437561, constraints: [0.14865485], dual: [2.2486722]\n",
      "Epoch: 123, loss: 0.1904909908771515, constraints: [0.14646], dual: [2.248861]\n",
      "Epoch: 124, loss: 0.1894625723361969, constraints: [0.15409784], dual: [2.2490542]\n",
      "Epoch: 125, loss: 0.19265057146549225, constraints: [0.15408646], dual: [2.2492945]\n",
      "Epoch: 126, loss: 0.1863272339105606, constraints: [0.16410109], dual: [2.2494981]\n",
      "Epoch: 127, loss: 0.2021758109331131, constraints: [0.16046663], dual: [2.249748]\n",
      "Epoch: 128, loss: 0.1971173882484436, constraints: [0.15370535], dual: [2.2499228]\n",
      "Epoch: 129, loss: 0.18836602568626404, constraints: [0.14775909], dual: [2.2500918]\n",
      "Epoch: 130, loss: 0.191558375954628, constraints: [0.15483183], dual: [2.250291]\n",
      "Epoch: 131, loss: 0.1903645396232605, constraints: [0.16307046], dual: [2.2504704]\n",
      "Epoch: 132, loss: 0.19536878168582916, constraints: [0.15230502], dual: [2.2506273]\n",
      "Epoch: 133, loss: 0.1905580461025238, constraints: [0.16486068], dual: [2.2507963]\n",
      "Epoch: 134, loss: 0.19633212685585022, constraints: [0.15917125], dual: [2.2509418]\n",
      "Epoch: 135, loss: 0.19853660464286804, constraints: [0.14616182], dual: [2.2510946]\n",
      "Epoch: 136, loss: 0.18865327537059784, constraints: [0.15255734], dual: [2.2512093]\n",
      "Epoch: 137, loss: 0.1936325877904892, constraints: [0.14925405], dual: [2.251307]\n",
      "Epoch: 138, loss: 0.19147324562072754, constraints: [0.15401727], dual: [2.2514274]\n",
      "Epoch: 139, loss: 0.19009578227996826, constraints: [0.15572309], dual: [2.2515285]\n",
      "Epoch: 140, loss: 0.18249237537384033, constraints: [0.14649434], dual: [2.2515988]\n",
      "Epoch: 141, loss: 0.1841551661491394, constraints: [0.15948216], dual: [2.251726]\n",
      "Epoch: 142, loss: 0.1866031140089035, constraints: [0.15603144], dual: [2.2517989]\n",
      "Epoch: 143, loss: 0.18284974992275238, constraints: [0.15177317], dual: [2.251889]\n",
      "Epoch: 144, loss: 0.17810754477977753, constraints: [0.15401429], dual: [2.2519746]\n",
      "Epoch: 145, loss: 0.1783520132303238, constraints: [0.15827942], dual: [2.2520578]\n",
      "Epoch: 146, loss: 0.18537741899490356, constraints: [0.14877283], dual: [2.2521193]\n",
      "Epoch: 147, loss: 0.18220528960227966, constraints: [0.15156275], dual: [2.2521803]\n",
      "Epoch: 148, loss: 0.18182533979415894, constraints: [0.16411862], dual: [2.2522485]\n",
      "Epoch: 149, loss: 0.17791171371936798, constraints: [0.16872206], dual: [2.252326]\n"
     ]
    }
   ],
   "source": [
    "ep_c_log = []\n",
    "for epoch in range(epochs):\n",
    "    loss_log = []\n",
    "    c_log = []\n",
    "    duals_log = []\n",
    "    for batch_input, batch_sens, batch_label in dataloader:\n",
    "        # calculate constraints and constraint grads\n",
    "        out = model_con(batch_input)\n",
    "        fair_loss = fair_criterion(out, batch_sens)\n",
    "        fair_constraint = torch.max(fair_loss + slack_vars[0] - fair_crit_bound, torch.zeros(1))\n",
    "        fair_constraint.backward(retain_graph=True)\n",
    "        \n",
    "        optimizer.dual_step(0, c_val=fair_constraint)\n",
    "        optimizer.zero_grad()\n",
    "\n",
    "        c_log.append([fair_loss.detach().item()])\n",
    "        duals_log.append(optimizer._dual_vars.detach())\n",
    "        # calculate loss and grad\n",
    "        loss = criterion(out, batch_label) + 0 * slack_vars[0]\n",
    "        loss.backward()\n",
    "        loss_log.append(loss.detach().numpy())\n",
    "        optimizer.step()\n",
    "        optimizer.zero_grad()\n",
    "\n",
    "        # slack variables must be non-negative. this is the \"projection\" step from the SSL-ALM paper\n",
    "        with torch.no_grad():\n",
    "            for s in slack_vars:\n",
    "                if s < 0:\n",
    "                    s.zero_()\n",
    "        \n",
    "    optimizer.dual_lr *= 0.95\n",
    "    ep_c_log.extend(c_log)\n",
    "    \n",
    "    print(\n",
    "        f\"Epoch: {epoch}, \"\n",
    "        f\"loss: {np.mean(loss_log)}, \"\n",
    "        f\"constraints: {np.mean(c_log, axis=0)}, \"\n",
    "        f\"dual: {np.mean(duals_log, axis=0)}\"\n",
    "    )"
   ]
  },
  {
   "cell_type": "code",
   "execution_count": null,
   "id": "993899e3",
   "metadata": {},
   "outputs": [
    {
     "data": {
      "text/plain": [
       "tensor([0.4127, 0.4717], dtype=torch.float64, grad_fn=<IndexPutBackward0>)"
      ]
     },
     "execution_count": null,
     "metadata": {},
     "output_type": "execute_result"
    }
   ],
   "source": [
    "from fairret.statistic import PositiveRate\n",
    "\n",
    "preds = torch.nn.functional.sigmoid(model_con(features_train))\n",
    "pr = PositiveRate()\n",
    "pr(preds, sens_train)"
   ]
  },
  {
   "cell_type": "code",
   "execution_count": null,
   "id": "4ac5a57f",
   "metadata": {},
   "outputs": [
    {
     "data": {
      "text/plain": [
       "tensor(0.1331, dtype=torch.float64, grad_fn=<SumBackward0>)"
      ]
     },
     "execution_count": null,
     "metadata": {},
     "output_type": "execute_result"
    }
   ],
   "source": [
    "fair_criterion(model_con(features_train), sens_train)"
   ]
  },
  {
   "cell_type": "code",
   "execution_count": null,
   "id": "170d5dbf",
   "metadata": {},
   "outputs": [
    {
     "data": {
      "text/plain": [
       "<matplotlib.collections.LineCollection at 0x7f7edea6d160>"
      ]
     },
     "execution_count": null,
     "metadata": {},
     "output_type": "execute_result"
    },
    {
     "data": {
      "image/png": "[encoded data removed]",
      "text/plain": [
       "<Figure size 640x480 with 1 Axes>"
      ]
     },
     "metadata": {},
     "output_type": "display_data"
    }
   ],
   "source": [
    "from matplotlib import pyplot as plt\n",
    "\n",
    "window_len = 5\n",
    "c_mavg = np.array([np.mean(ep_c_log[i:i+window_len]) for i in range(0, len(ep_c_log), window_len)])\n",
    "plt.plot(np.array(c_mavg).flatten(), lw=0.05)\n",
    "plt.hlines(y=fair_crit_bound, xmin=0, xmax=len(c_mavg), colors='black', ls='--')"
   ]
  },
  {
   "cell_type": "markdown",
   "id": "c31520f0",
   "metadata": {},
   "source": [
    "---\n",
    "\n",
    "Now let's see how the **Switching Subgradient** algorithm deals with this task."
   ]
  },
  {
   "cell_type": "code",
   "execution_count": null,
   "id": "d1b0abd5",
   "metadata": {},
   "outputs": [],
   "source": [
    "from fairret.statistic import PositiveRate\n",
    "from fairret.loss import NormLoss\n",
    "from humancompatible.train.fairness.utils import BalancedBatchSampler\n",
    "\n",
    "dataset = torch.utils.data.TensorDataset(features_train, sens_train, labels_train)\n",
    "\n",
    "sampler = BalancedBatchSampler(\n",
    "    subgroup_onehot=sens_train,\n",
    "    batch_size=128,\n",
    "    drop_last=True\n",
    ")\n",
    "dataloader = torch.utils.data.DataLoader(dataset, batch_sampler=sampler)\n",
    "\n",
    "criterion = torch.nn.BCEWithLogitsLoss()\n",
    "\n",
    "statistic = PositiveRate()\n",
    "fair_criterion = NormLoss(statistic=statistic)\n",
    "fair_crit_bound = 0.3\n"
   ]
  },
  {
   "cell_type": "code",
   "execution_count": null,
   "id": "3af4f40c",
   "metadata": {},
   "outputs": [],
   "source": [
    "from humancompatible.train.algorithms import SSG\n",
    "\n",
    "from torch.nn import Sequential\n",
    "hsize1 = 64\n",
    "hsize2 = 32\n",
    "model_con = Sequential(\n",
    "    torch.nn.Linear(features_train.shape[1], hsize1),\n",
    "    torch.nn.ReLU(),\n",
    "    torch.nn.Linear(hsize1, hsize2),\n",
    "    torch.nn.ReLU(),\n",
    "    torch.nn.Linear(hsize2, 1)\n",
    ")\n",
    "\n",
    "optimizer = SSG(\n",
    "    params=model_con.parameters(),\n",
    "    m=1,\n",
    "    lr=0.05,\n",
    "    dual_lr=0.05\n",
    ")\n",
    "\n",
    "epochs = 150"
   ]
  },
  {
   "cell_type": "code",
   "execution_count": null,
   "id": "c03fa9f9",
   "metadata": {},
   "outputs": [
    {
     "name": "stdout",
     "output_type": "stream",
     "text": [
      "Epoch: 0, loss: 0.6001204252243042, constraints: [0.04241562], \n",
      "Epoch: 1, loss: 0.4303379952907562, constraints: [0.13826096], \n",
      "Epoch: 2, loss: 0.40842941403388977, constraints: [0.15191562], \n",
      "Epoch: 3, loss: 0.39816904067993164, constraints: [0.14719616], \n",
      "Epoch: 4, loss: 0.3904563784599304, constraints: [0.15606072], \n",
      "Epoch: 5, loss: 0.38553640246391296, constraints: [0.15684228], \n",
      "Epoch: 6, loss: 0.38166555762290955, constraints: [0.15871304], \n",
      "Epoch: 7, loss: 0.37914013862609863, constraints: [0.15415388], \n",
      "Epoch: 8, loss: 0.37259629368782043, constraints: [0.15696371], \n",
      "Epoch: 9, loss: 0.37085652351379395, constraints: [0.15705763], \n",
      "Epoch: 10, loss: 0.36701878905296326, constraints: [0.1616243], \n",
      "Epoch: 11, loss: 0.36691004037857056, constraints: [0.15857347], \n",
      "Epoch: 12, loss: 0.36154231429100037, constraints: [0.15565112], \n",
      "Epoch: 13, loss: 0.358410507440567, constraints: [0.16360183], \n",
      "Epoch: 14, loss: 0.3602617681026459, constraints: [0.14829725], \n",
      "Epoch: 15, loss: 0.3550925850868225, constraints: [0.15702702], \n",
      "Epoch: 16, loss: 0.3498671352863312, constraints: [0.16079595], \n",
      "Epoch: 17, loss: 0.34986379742622375, constraints: [0.15130001], \n",
      "Epoch: 18, loss: 0.3486783504486084, constraints: [0.15111124], \n",
      "Epoch: 19, loss: 0.3418213427066803, constraints: [0.16165802], \n",
      "Epoch: 20, loss: 0.34027335047721863, constraints: [0.15793627], \n",
      "Epoch: 21, loss: 0.3385888636112213, constraints: [0.15608813], \n",
      "Epoch: 22, loss: 0.3377761244773865, constraints: [0.15792396], \n",
      "Epoch: 23, loss: 0.3353097438812256, constraints: [0.15518718], \n",
      "Epoch: 24, loss: 0.3309491276741028, constraints: [0.15695738], \n",
      "Epoch: 25, loss: 0.3253192901611328, constraints: [0.15083658], \n",
      "Epoch: 26, loss: 0.32598230242729187, constraints: [0.15099859], \n",
      "Epoch: 27, loss: 0.3208489716053009, constraints: [0.16029301], \n",
      "Epoch: 28, loss: 0.3170267939567566, constraints: [0.15626481], \n",
      "Epoch: 29, loss: 0.3147437274456024, constraints: [0.16268557], \n",
      "Epoch: 30, loss: 0.3153856098651886, constraints: [0.15580469], \n",
      "Epoch: 31, loss: 0.30903345346450806, constraints: [0.15850964], \n",
      "Epoch: 32, loss: 0.30615678429603577, constraints: [0.15670682], \n",
      "Epoch: 33, loss: 0.3001261055469513, constraints: [0.15726967], \n",
      "Epoch: 34, loss: 0.2994067370891571, constraints: [0.16355504], \n",
      "Epoch: 35, loss: 0.2924099266529083, constraints: [0.16540035], \n",
      "Epoch: 36, loss: 0.2943499982357025, constraints: [0.15614382], \n",
      "Epoch: 37, loss: 0.29126882553100586, constraints: [0.15444685], \n",
      "Epoch: 38, loss: 0.2871687114238739, constraints: [0.16269149], \n",
      "Epoch: 39, loss: 0.2830827534198761, constraints: [0.16923334], \n",
      "Epoch: 40, loss: 0.28494855761528015, constraints: [0.15809905], \n",
      "Epoch: 41, loss: 0.28078603744506836, constraints: [0.16276498], \n",
      "Epoch: 42, loss: 0.274924635887146, constraints: [0.1645166], \n",
      "Epoch: 43, loss: 0.2728683650493622, constraints: [0.16999877], \n",
      "Epoch: 44, loss: 0.2695772349834442, constraints: [0.17991635], \n",
      "Epoch: 45, loss: 0.2688858211040497, constraints: [0.1679903], \n",
      "Epoch: 46, loss: 0.26256781816482544, constraints: [0.17445401], \n",
      "Epoch: 47, loss: 0.26931947469711304, constraints: [0.16366511], \n",
      "Epoch: 48, loss: 0.260123610496521, constraints: [0.1618341], \n",
      "Epoch: 49, loss: 0.25645551085472107, constraints: [0.17065683], \n",
      "Epoch: 50, loss: 0.2579772174358368, constraints: [0.17052301], \n",
      "Epoch: 51, loss: 0.25344526767730713, constraints: [0.16339976], \n",
      "Epoch: 52, loss: 0.2516031563282013, constraints: [0.16678933], \n",
      "Epoch: 53, loss: 0.24834021925926208, constraints: [0.17403643], \n",
      "Epoch: 54, loss: 0.2521849274635315, constraints: [0.16434238], \n",
      "Epoch: 55, loss: 0.24604232609272003, constraints: [0.16597489], \n",
      "Epoch: 56, loss: 0.24173328280448914, constraints: [0.16767609], \n",
      "Epoch: 57, loss: 0.24055714905261993, constraints: [0.17164708], \n",
      "Epoch: 58, loss: 0.24090471863746643, constraints: [0.17076605], \n",
      "Epoch: 59, loss: 0.23778022825717926, constraints: [0.18025442], \n",
      "Epoch: 60, loss: 0.24030300974845886, constraints: [0.16894374], \n",
      "Epoch: 61, loss: 0.23452314734458923, constraints: [0.16566513], \n",
      "Epoch: 62, loss: 0.23426228761672974, constraints: [0.16813052], \n",
      "Epoch: 63, loss: 0.227885901927948, constraints: [0.1719063], \n",
      "Epoch: 64, loss: 0.22985109686851501, constraints: [0.17722311], \n",
      "Epoch: 65, loss: 0.23049235343933105, constraints: [0.17205983], \n",
      "Epoch: 66, loss: 0.22204948961734772, constraints: [0.17392887], \n",
      "Epoch: 67, loss: 0.22441013157367706, constraints: [0.17864915], \n",
      "Epoch: 68, loss: 0.22410380840301514, constraints: [0.17491257], \n",
      "Epoch: 69, loss: 0.22257471084594727, constraints: [0.16604825], \n",
      "Epoch: 70, loss: 0.22120976448059082, constraints: [0.16821927], \n",
      "Epoch: 71, loss: 0.21636255085468292, constraints: [0.17073152], \n",
      "Epoch: 72, loss: 0.21456964313983917, constraints: [0.167203], \n",
      "Epoch: 73, loss: 0.21102654933929443, constraints: [0.16702595], \n",
      "Epoch: 74, loss: 0.2134944349527359, constraints: [0.17733093], \n",
      "Epoch: 75, loss: 0.21377742290496826, constraints: [0.17411009], \n",
      "Epoch: 76, loss: 0.21092282235622406, constraints: [0.17359538], \n",
      "Epoch: 77, loss: 0.21036960184574127, constraints: [0.16934926], \n",
      "Epoch: 78, loss: 0.2074458748102188, constraints: [0.17163914], \n",
      "Epoch: 79, loss: 0.207858607172966, constraints: [0.17177738], \n",
      "Epoch: 80, loss: 0.20861825346946716, constraints: [0.16990473], \n",
      "Epoch: 81, loss: 0.2030610889196396, constraints: [0.17243704], \n",
      "Epoch: 82, loss: 0.20613326132297516, constraints: [0.17382218], \n",
      "Epoch: 83, loss: 0.2028989940881729, constraints: [0.15758233], \n",
      "Epoch: 84, loss: 0.19834107160568237, constraints: [0.17925738], \n",
      "Epoch: 85, loss: 0.20002301037311554, constraints: [0.17489548], \n",
      "Epoch: 86, loss: 0.19448336958885193, constraints: [0.17440994], \n",
      "Epoch: 87, loss: 0.194872185587883, constraints: [0.17601796], \n",
      "Epoch: 88, loss: 0.19620059430599213, constraints: [0.18545204], \n",
      "Epoch: 89, loss: 0.19517451524734497, constraints: [0.17471902], \n",
      "Epoch: 90, loss: 0.19876201450824738, constraints: [0.16699634], \n",
      "Epoch: 91, loss: 0.19627507030963898, constraints: [0.17622223], \n",
      "Epoch: 92, loss: 0.18928897380828857, constraints: [0.17300513], \n",
      "Epoch: 93, loss: 0.18830154836177826, constraints: [0.17588054], \n",
      "Epoch: 94, loss: 0.1902553290128708, constraints: [0.17699304], \n",
      "Epoch: 95, loss: 0.18733958899974823, constraints: [0.17398354], \n",
      "Epoch: 96, loss: 0.19297413527965546, constraints: [0.17043888], \n",
      "Epoch: 97, loss: 0.18849952518939972, constraints: [0.1697199], \n",
      "Epoch: 98, loss: 0.18984360992908478, constraints: [0.18074665], \n",
      "Epoch: 99, loss: 0.18471331894397736, constraints: [0.17432813], \n",
      "Epoch: 100, loss: 0.1805119812488556, constraints: [0.1784166], \n",
      "Epoch: 101, loss: 0.17839719355106354, constraints: [0.17319294], \n",
      "Epoch: 102, loss: 0.18190599977970123, constraints: [0.17842196], \n",
      "Epoch: 103, loss: 0.1793074905872345, constraints: [0.18058061], \n",
      "Epoch: 104, loss: 0.1828930824995041, constraints: [0.17665594], \n",
      "Epoch: 105, loss: 0.18111839890480042, constraints: [0.18076078], \n",
      "Epoch: 106, loss: 0.17935657501220703, constraints: [0.17311536], \n",
      "Epoch: 107, loss: 0.17501302063465118, constraints: [0.18673999], \n",
      "Epoch: 108, loss: 0.17864742875099182, constraints: [0.1753304], \n",
      "Epoch: 109, loss: 0.1793893277645111, constraints: [0.1809412], \n",
      "Epoch: 110, loss: 0.17605699598789215, constraints: [0.18122667], \n",
      "Epoch: 111, loss: 0.17391279339790344, constraints: [0.18559144], \n",
      "Epoch: 112, loss: 0.17210640013217926, constraints: [0.17572801], \n",
      "Epoch: 113, loss: 0.17481662333011627, constraints: [0.18654998], \n",
      "Epoch: 114, loss: 0.17524538934230804, constraints: [0.18040747], \n",
      "Epoch: 115, loss: 0.16929590702056885, constraints: [0.17937525], \n",
      "Epoch: 116, loss: 0.17002621293067932, constraints: [0.17657284], \n",
      "Epoch: 117, loss: 0.16743944585323334, constraints: [0.19249756], \n",
      "Epoch: 118, loss: 0.17469194531440735, constraints: [0.18850104], \n",
      "Epoch: 119, loss: 0.17302443087100983, constraints: [0.18805781], \n",
      "Epoch: 120, loss: 0.16703085601329803, constraints: [0.18518359], \n",
      "Epoch: 121, loss: 0.16685180366039276, constraints: [0.17915714], \n",
      "Epoch: 122, loss: 0.1626531183719635, constraints: [0.19132323], \n",
      "Epoch: 123, loss: 0.16841277480125427, constraints: [0.18636912], \n",
      "Epoch: 124, loss: 0.16606149077415466, constraints: [0.17718854], \n",
      "Epoch: 125, loss: 0.16884854435920715, constraints: [0.17879555], \n",
      "Epoch: 126, loss: 0.164825439453125, constraints: [0.19273966], \n",
      "Epoch: 127, loss: 0.16576161980628967, constraints: [0.18063454], \n",
      "Epoch: 128, loss: 0.16752099990844727, constraints: [0.17885307], \n",
      "Epoch: 129, loss: 0.16117583215236664, constraints: [0.18633077], \n",
      "Epoch: 130, loss: 0.15898703038692474, constraints: [0.17882477], \n",
      "Epoch: 131, loss: 0.15817241370677948, constraints: [0.17668184], \n",
      "Epoch: 132, loss: 0.15675686299800873, constraints: [0.18428492], \n",
      "Epoch: 133, loss: 0.15573503077030182, constraints: [0.18639444], \n",
      "Epoch: 134, loss: 0.1597144603729248, constraints: [0.18333471], \n",
      "Epoch: 135, loss: 0.16342280805110931, constraints: [0.18398987], \n",
      "Epoch: 136, loss: 0.15673507750034332, constraints: [0.18879395], \n",
      "Epoch: 137, loss: 0.15465138852596283, constraints: [0.1829467], \n",
      "Epoch: 138, loss: 0.15301258862018585, constraints: [0.18021822], \n",
      "Epoch: 139, loss: 0.15087264776229858, constraints: [0.19219053], \n",
      "Epoch: 140, loss: 0.1533176749944687, constraints: [0.18319076], \n",
      "Epoch: 141, loss: 0.15874679386615753, constraints: [0.18259482], \n",
      "Epoch: 142, loss: 0.1605692207813263, constraints: [0.1885766], \n",
      "Epoch: 143, loss: 0.15094277262687683, constraints: [0.18244334], \n",
      "Epoch: 144, loss: 0.14904795587062836, constraints: [0.18745018], \n",
      "Epoch: 145, loss: 0.15477216243743896, constraints: [0.18989369], \n",
      "Epoch: 146, loss: 0.1521841585636139, constraints: [0.1802065], \n",
      "Epoch: 147, loss: 0.15173102915287018, constraints: [0.17840846], \n",
      "Epoch: 148, loss: 0.14991548657417297, constraints: [0.19002107], \n",
      "Epoch: 149, loss: 0.15738952159881592, constraints: [0.18855303], \n"
     ]
    }
   ],
   "source": [
    "ep_c_log = []\n",
    "for epoch in range(epochs):\n",
    "    loss_log = []\n",
    "    c_log = []\n",
    "    duals_log = []\n",
    "    for batch_input, batch_sens, batch_label in dataloader:\n",
    "        # calculate constraints and constraint grads\n",
    "        out = model_con(batch_input)\n",
    "        fair_loss = fair_criterion(out, batch_sens)\n",
    "        fair_constraint = torch.max(fair_loss - fair_crit_bound, torch.zeros(1))\n",
    "        fair_constraint.backward(retain_graph=True)\n",
    "        \n",
    "        optimizer.dual_step(0)\n",
    "        optimizer.zero_grad()\n",
    "\n",
    "        c_log.append([fair_loss.detach().item()])\n",
    "        # calculate loss and grad\n",
    "        # batch_output = model_con(batch_input)\n",
    "        loss = criterion(out, batch_label)\n",
    "        loss.backward()\n",
    "        loss_log.append(loss.detach().numpy())\n",
    "        optimizer.step(fair_constraint)\n",
    "        optimizer.zero_grad()\n",
    "        \n",
    "    ep_c_log.append(c_log)\n",
    "    \n",
    "    print(\n",
    "        f\"Epoch: {epoch}, \"\n",
    "        f\"loss: {np.mean(loss_log)}, \"\n",
    "        f\"constraints: {np.mean(c_log, axis=0)}, \"\n",
    "    )"
   ]
  },
  {
   "cell_type": "code",
   "execution_count": null,
   "id": "3f4e4383",
   "metadata": {},
   "outputs": [
    {
     "data": {
      "text/plain": [
       "tensor([0.4195, 0.4931], dtype=torch.float64, grad_fn=<IndexPutBackward0>)"
      ]
     },
     "execution_count": null,
     "metadata": {},
     "output_type": "execute_result"
    }
   ],
   "source": [
    "from fairret.statistic import PositiveRate\n",
    "\n",
    "preds = torch.nn.functional.sigmoid(model_con(features_train))\n",
    "pr = PositiveRate()\n",
    "pr(preds, sens_train)"
   ]
  },
  {
   "cell_type": "code",
   "execution_count": null,
   "id": "d25cb25b",
   "metadata": {},
   "outputs": [
    {
     "data": {
      "text/plain": [
       "tensor(0.1609, dtype=torch.float64, grad_fn=<SumBackward0>)"
      ]
     },
     "execution_count": null,
     "metadata": {},
     "output_type": "execute_result"
    }
   ],
   "source": [
    "fair_criterion(model_con(features_train), sens_train)"
   ]
  },
  {
   "cell_type": "code",
   "execution_count": null,
   "id": "f25ef130",
   "metadata": {},
   "outputs": [
    {
     "data": {
      "text/plain": [
       "<matplotlib.collections.LineCollection at 0x7f7eeadfc910>"
      ]
     },
     "execution_count": null,
     "metadata": {},
     "output_type": "execute_result"
    },
    {
     "data": {
      "image/png": "[encoded data removed]",
      "text/plain": [
       "<Figure size 640x480 with 1 Axes>"
      ]
     },
     "metadata": {},
     "output_type": "display_data"
    }
   ],
   "source": [
    "from matplotlib import pyplot as plt\n",
    "\n",
    "ep_c_log = np.array(ep_c_log).flatten()\n",
    "window_len = 10\n",
    "c_mavg = np.array([np.mean(ep_c_log[i:i+window_len]) for i in range(0, len(ep_c_log), window_len)])\n",
    "plt.plot(np.array(c_mavg).flatten(), lw=0.5)\n",
    "plt.hlines(y=fair_crit_bound, xmin=0, xmax=len(c_mavg), colors='black', ls='--')"
   ]
  }
 ],
 "metadata": {
  "kernelspec": {
   "display_name": "pypi-hc-test",
   "language": "python",
   "name": "python3"
  },
  "language_info": {
   "codemirror_mode": {
    "name": "ipython",
    "version": 3
   },
   "file_extension": ".py",
   "mimetype": "text/x-python",
   "name": "python",
   "nbconvert_exporter": "python",
   "pygments_lexer": "ipython3"
  }
 },
 "nbformat": 4,
 "nbformat_minor": 5
}
