{
 "cells": [
  {
   "cell_type": "markdown",
   "id": "1efc20cc",
   "metadata": {},
   "source": [
    "This notebook will demonstrate how to use the **constrained training algorithms** implemented in this toolkit with **PyTorch**-like API."
   ]
  },
  {
   "cell_type": "markdown",
   "id": "790ccbc7",
   "metadata": {},
   "source": [
    "The algorithms implemented in the **humancompatible.train.torch** subpackage share a similar idea. Before the training, you initialize an algorithm like you would a PyTorch one. Then, during the training process, you:\n",
    "\n",
    "1. Evaluate a constraint and compute its gradient\n",
    "2. Call the `dual_step` function to update dual parameters and save the constraint gradient for the primal update\n",
    "3. Call the `step` function to update the primal parameters (generally, model weights)"
   ]
  },
  {
   "cell_type": "markdown",
   "id": "8d3224eb",
   "metadata": {},
   "source": [
    "Let's try the Stochastic Smooth Linearized Augmented Lagrangian (SSLALM) algorithm on a constrained learning task."
   ]
  },
  {
   "cell_type": "markdown",
   "id": "af7f86ab",
   "metadata": {},
   "source": [
    "Let's train a simple classification model, putting a constraint on the norm of each layer's parameters.\n",
    "\n",
    "In the canonical form, the algorithm expects equality constraints that are equal to 0; however, we can easily transform arbitrary inequality constraints to that form."
   ]
  },
  {
   "cell_type": "code",
   "execution_count": 1,
   "id": "48b9577d",
   "metadata": {},
   "outputs": [],
   "source": [
    "# load and prepare data\n",
    "\n",
    "from sklearn.model_selection import train_test_split\n",
    "from sklearn.preprocessing import StandardScaler\n",
    "import torch\n",
    "import numpy as np\n",
    "from folktables import ACSDataSource, ACSIncome, generate_categories\n",
    "\n",
    "# load folktables data\n",
    "data_source = ACSDataSource(survey_year='2018', horizon='1-Year', survey='person')\n",
    "acs_data = data_source.get_data(states=[\"VA\"], download=True)\n",
    "definition_df = data_source.get_definitions(download=True)\n",
    "categories = generate_categories(features=ACSIncome.features, definition_df=definition_df)\n",
    "df_feat, df_labels, _ = ACSIncome.df_to_pandas(acs_data,categories=categories, dummies=True)\n",
    "\n",
    "sens_cols = ['SEX_Female', 'SEX_Male']\n",
    "features = df_feat.drop(columns=sens_cols).to_numpy(dtype=\"float\")\n",
    "groups = df_feat[sens_cols].to_numpy(dtype=\"float\")\n",
    "labels = df_labels.to_numpy(dtype=\"float\")\n",
    "# split\n",
    "X_train, X_test, y_train, y_test, groups_train, groups_test = train_test_split(\n",
    "    features, labels, groups, test_size=0.2, random_state=42)\n",
    "# scale\n",
    "scaler = StandardScaler()\n",
    "X_train = scaler.fit_transform(X_train)\n",
    "X_test = scaler.transform(X_test)\n",
    "\n",
    "# make into a pytorch dataset, remove the sensitive attribute\n",
    "features_train = torch.tensor(X_train, dtype=torch.float32)\n",
    "labels_train = torch.tensor(y_train,dtype=torch.float32)\n",
    "sens_train = torch.tensor(groups_train)\n",
    "dataset_train = torch.utils.data.TensorDataset(features_train, labels_train)"
   ]
  },
  {
   "cell_type": "code",
   "execution_count": 2,
   "id": "4758a9f9",
   "metadata": {},
   "outputs": [],
   "source": [
    "import folktables\n",
    "\n",
    "ACSIncomeSexRace = folktables.BasicProblem(\n",
    "    features=ACSIncome.features,\n",
    "    target=\"PINCP\",\n",
    "    target_transform=lambda x: x > 50000,\n",
    "    group=[\"SEX\", \"RAC1P\"],\n",
    "    preprocess=folktables.adult_filter,\n",
    "    postprocess=lambda x: np.nan_to_num(x, -1),\n",
    ")\n",
    "data_source = ACSDataSource(survey_year='2018', horizon='1-Year', survey='person')\n",
    "acs_data = data_source.get_data(states=[\"VA\"], download=True)\n",
    "definition_df = data_source.get_definitions(download=True)\n",
    "categories = generate_categories(features=ACSIncomeSexRace.features, definition_df=definition_df)\n",
    "df_feat, df_labels, _ = ACSIncomeSexRace.df_to_pandas(acs_data,categories=categories, dummies=True)"
   ]
  },
  {
   "cell_type": "code",
   "execution_count": null,
   "id": "834e083e",
   "metadata": {},
   "outputs": [],
   "source": [
    "from humancompatible.train.optim import SSLALM\n",
    "import torch\n",
    "from torch.nn import Sequential\n",
    "\n",
    "dataloader = torch.utils.data.DataLoader(dataset_train, batch_size=16, shuffle=True)\n",
    "\n",
    "hsize1 = 64\n",
    "hsize2 = 32\n",
    "model = Sequential(\n",
    "    torch.nn.Linear(features_train.shape[1], hsize1),\n",
    "    torch.nn.ReLU(),\n",
    "    torch.nn.Linear(hsize1, hsize2),\n",
    "    torch.nn.ReLU(),\n",
    "    torch.nn.Linear(hsize2, 1)\n",
    ")\n",
    "\n",
    "m = len(list(model.parameters()))\n",
    "\n",
    "optimizer = SSLALM(\n",
    "    params=model.parameters(),\n",
    "    m=m,\n",
    "    lr=0.01,\n",
    "    dual_lr=0.1\n",
    ")\n",
    "# bounds for the constraints: norm of each param group should be <= 1\n",
    "constraint_bounds = [1.]*m\n",
    "\n",
    "epochs = 10\n",
    "criterion = torch.nn.BCEWithLogitsLoss()"
   ]
  },
  {
   "cell_type": "code",
   "execution_count": 4,
   "id": "ea8758f7",
   "metadata": {},
   "outputs": [
    {
     "name": "stdout",
     "output_type": "stream",
     "text": [
      "Epoch: 0, loss: 0.5691204071044922, constraints: [0.89047617 0.26562378 0.962312   0.37444922 0.84837437 0.054888  ], dual: [0.15567237 0.         0.15227382 0.         0.18878356 0.        ]\n",
      "Epoch: 1, loss: 0.4511478543281555, constraints: [0.9998718  0.6844714  0.99995524 0.5348424  0.9998333  0.0216115 ], dual: [0.21187708 0.         0.23442917 0.         0.26534405 0.        ]\n",
      "Epoch: 2, loss: 0.4315645098686218, constraints: [0.99953127 0.9721475  0.99952567 0.58417565 0.9993649  0.0277731 ], dual: [0.24975747 0.02706908 0.2918276  0.         0.31720373 0.        ]\n",
      "Epoch: 3, loss: 0.4228110611438751, constraints: [0.99927455 0.99989223 0.9991891  0.61135066 0.99910396 0.03787826], dual: [0.27880716 0.03535462 0.33642703 0.         0.3614033  0.        ]\n",
      "Epoch: 4, loss: 0.41685885190963745, constraints: [0.99913347 0.99983275 0.9989497  0.62882423 0.9988548  0.03394982], dual: [0.30230263 0.04068753 0.3746812  0.         0.39726186 0.        ]\n",
      "Epoch: 5, loss: 0.41210687160491943, constraints: [0.9991275  0.9997953  0.99872035 0.64385366 0.9985383  0.03292035], dual: [0.32273418 0.04517317 0.4068439  0.         0.42932102 0.        ]\n",
      "Epoch: 6, loss: 0.4082273244857788, constraints: [0.9991765  0.9997585  0.99852926 0.65569764 0.9984114  0.03306542], dual: [0.34153298 0.04835687 0.43519622 0.         0.4572756  0.        ]\n",
      "Epoch: 7, loss: 0.4052716791629791, constraints: [0.9991997  0.9997548  0.9983365  0.66530865 0.99826986 0.02576627], dual: [0.35847366 0.05103344 0.4628236  0.         0.4841308  0.        ]\n",
      "Epoch: 8, loss: 0.40225493907928467, constraints: [0.99914277 0.99968994 0.99821085 0.6738509  0.99809074 0.02511113], dual: [0.37378377 0.05298764 0.48693764 0.         0.5075815  0.        ]\n",
      "Epoch: 9, loss: 0.3997834622859955, constraints: [0.9992091  0.99969506 0.9980525  0.680587   0.9980354  0.01995856], dual: [0.38964498 0.05487217 0.5115837  0.         0.52994573 0.        ]\n"
     ]
    }
   ],
   "source": [
    "for epoch in range(epochs):\n",
    "    loss_log = []\n",
    "    c_log = []\n",
    "    slack_log = []\n",
    "    duals_log = []\n",
    "    for batch_input, batch_label in dataloader:\n",
    "        # calculate constraints and constraint grads\n",
    "        c_log.append([])\n",
    "        for i, param in enumerate(model.parameters()):\n",
    "            norm = torch.linalg.norm(param, ord=2)\n",
    "            # convert constraint to equality\n",
    "            norm_viol = torch.max(\n",
    "                norm \n",
    "                - constraint_bounds[i],\n",
    "                torch.zeros(1)\n",
    "            )\n",
    "            norm_viol.backward()\n",
    "            # for the Lagrangian family of algorithms, dual_step requires the index of constraint and the value as arguments\n",
    "            # to update the corresponding dual multiplier\n",
    "            # in a stochastic-constrained setting, this estimate needs (in theory) to be independent from the one used to update dual parameters\n",
    "            # in practice, it makes little difference\n",
    "            optimizer.dual_step(i, c_val=norm_viol.squeeze())\n",
    "            optimizer.zero_grad()\n",
    "            c_log[-1].append(norm.detach().numpy())\n",
    "        \n",
    "        # calculate loss and grad\n",
    "        batch_output = model(batch_input)\n",
    "        loss = criterion(batch_output, batch_label)\n",
    "        loss.backward()\n",
    "        loss_log.append(loss.detach().numpy())\n",
    "        duals_log.append(optimizer._dual_vars.detach())\n",
    "        optimizer.step()\n",
    "        optimizer.zero_grad()\n",
    "    \n",
    "    print(\n",
    "        f\"Epoch: {epoch}, \"\n",
    "        f\"loss: {np.mean(loss_log)}, \"\n",
    "        f\"constraints: {np.mean(c_log, axis=0)}, \"\n",
    "        f\"dual: {np.mean(duals_log, axis=0)}\"\n",
    "    )"
   ]
  },
  {
   "cell_type": "markdown",
   "id": "30a4e546",
   "metadata": {},
   "source": [
    "The model is now trained subject to the constraints we set."
   ]
  },
  {
   "cell_type": "markdown",
   "id": "ea06f697",
   "metadata": {},
   "source": [
    "---\n",
    "---"
   ]
  },
  {
   "cell_type": "markdown",
   "id": "bd2f190b",
   "metadata": {},
   "source": [
    "It is also possible to train a network subject to **stochastic constraints**. One of the main use-cases for that is **fairness**. Let's train a network on the `folktables` dataset without constraints first, so we can identify some biases:"
   ]
  },
  {
   "cell_type": "markdown",
   "id": "7ec89642",
   "metadata": {},
   "source": [
    "Define a model:"
   ]
  },
  {
   "cell_type": "code",
   "execution_count": 5,
   "id": "4c957562",
   "metadata": {},
   "outputs": [],
   "source": [
    "from torch.nn import Sequential\n",
    "hsize1 = 64\n",
    "hsize2 = 32\n",
    "model_uncon = Sequential(\n",
    "    torch.nn.Linear(features_train.shape[1], hsize1),\n",
    "    torch.nn.ReLU(),\n",
    "    torch.nn.Linear(hsize1, hsize2),\n",
    "    torch.nn.ReLU(),\n",
    "    torch.nn.Linear(hsize2, 1)\n",
    ")"
   ]
  },
  {
   "cell_type": "markdown",
   "id": "6409a977",
   "metadata": {},
   "source": [
    "And start training:"
   ]
  },
  {
   "cell_type": "code",
   "execution_count": 6,
   "id": "8793a889",
   "metadata": {},
   "outputs": [
    {
     "name": "stdout",
     "output_type": "stream",
     "text": [
      "Epoch: 0, loss: 0.43397876271974795\n",
      "Epoch: 1, loss: 0.39611734298624396\n",
      "Epoch: 2, loss: 0.3830184707033934\n",
      "Epoch: 3, loss: 0.3712298125771086\n",
      "Epoch: 4, loss: 0.35654665978441413\n",
      "Epoch: 5, loss: 0.34105762846742077\n",
      "Epoch: 6, loss: 0.32607585578943815\n",
      "Epoch: 7, loss: 0.30976841409095085\n",
      "Epoch: 8, loss: 0.2934261847011409\n",
      "Epoch: 9, loss: 0.27781738827660346\n",
      "Epoch: 10, loss: 0.2640928285748438\n",
      "Epoch: 11, loss: 0.24870842579910388\n",
      "Epoch: 12, loss: 0.2371279752968231\n",
      "Epoch: 13, loss: 0.22368608362084186\n",
      "Epoch: 14, loss: 0.2124615433988338\n",
      "Epoch: 15, loss: 0.2039922530223346\n",
      "Epoch: 16, loss: 0.19187396837630838\n",
      "Epoch: 17, loss: 0.1863508616470379\n",
      "Epoch: 18, loss: 0.1749377901582338\n",
      "Epoch: 19, loss: 0.17023141634582284\n",
      "Epoch: 20, loss: 0.16181556919464143\n",
      "Epoch: 21, loss: 0.15323571830894517\n",
      "Epoch: 22, loss: 0.15121482238330858\n",
      "Epoch: 23, loss: 0.14385798919526901\n",
      "Epoch: 24, loss: 0.1409150229017327\n",
      "Epoch: 25, loss: 0.13319290822777477\n",
      "Epoch: 26, loss: 0.12964797244229487\n",
      "Epoch: 27, loss: 0.125949558110298\n",
      "Epoch: 28, loss: 0.12238777060053076\n",
      "Epoch: 29, loss: 0.1195213215438758\n",
      "Epoch: 30, loss: 0.11728597082891921\n",
      "Epoch: 31, loss: 0.11479791666775022\n",
      "Epoch: 32, loss: 0.11148287286263411\n",
      "Epoch: 33, loss: 0.10802257216787052\n",
      "Epoch: 34, loss: 0.1071483909247786\n",
      "Epoch: 35, loss: 0.1038466911405132\n",
      "Epoch: 36, loss: 0.10103526731886103\n",
      "Epoch: 37, loss: 0.09914872303817784\n",
      "Epoch: 38, loss: 0.09836439682693231\n",
      "Epoch: 39, loss: 0.0981966815985285\n",
      "Epoch: 40, loss: 0.0933626435331963\n",
      "Epoch: 41, loss: 0.09113441373684561\n",
      "Epoch: 42, loss: 0.09110859025368698\n",
      "Epoch: 43, loss: 0.09047059454429313\n",
      "Epoch: 44, loss: 0.08866520268731282\n",
      "Epoch: 45, loss: 0.08314895978578983\n",
      "Epoch: 46, loss: 0.08610506700032983\n",
      "Epoch: 47, loss: 0.08263407743794056\n",
      "Epoch: 48, loss: 0.08704868348125201\n",
      "Epoch: 49, loss: 0.08298792543996845\n"
     ]
    }
   ],
   "source": [
    "from torch.optim import Adam\n",
    "\n",
    "loader = torch.utils.data.DataLoader(dataset_train, batch_size=128, shuffle=True)\n",
    "loss = torch.nn.BCEWithLogitsLoss()\n",
    "optimizer = Adam(model_uncon.parameters())\n",
    "epochs = 50\n",
    "\n",
    "for epoch in range(epochs):\n",
    "    losses = []\n",
    "    for batch_feat, batch_label in dataloader:\n",
    "        optimizer.zero_grad()\n",
    "\n",
    "        logit = model_uncon(batch_feat)\n",
    "        loss = torch.nn.functional.binary_cross_entropy_with_logits(logit, batch_label)\n",
    "        loss.backward()\n",
    "\n",
    "        optimizer.step()\n",
    "        losses.append(loss.item())\n",
    "    print(f\"Epoch: {epoch}, loss: {np.mean(losses)}\")"
   ]
  },
  {
   "cell_type": "code",
   "execution_count": 7,
   "id": "9fd521be",
   "metadata": {},
   "outputs": [
    {
     "data": {
      "text/plain": [
       "tensor([0.3569, 0.5062], dtype=torch.float64, grad_fn=<IndexPutBackward0>)"
      ]
     },
     "execution_count": 7,
     "metadata": {},
     "output_type": "execute_result"
    }
   ],
   "source": [
    "from fairret.statistic import PositiveRate, TruePositiveRate\n",
    "from fairret.loss import NormLoss\n",
    "\n",
    "preds = torch.nn.functional.sigmoid(model_uncon(features_train))\n",
    "pr = PositiveRate()\n",
    "pr(preds, sens_train)"
   ]
  },
  {
   "cell_type": "markdown",
   "id": "e16c4fa0",
   "metadata": {},
   "source": [
    "---\n",
    "---"
   ]
  },
  {
   "cell_type": "markdown",
   "id": "a3dbc50a",
   "metadata": {},
   "source": [
    "Now let us train the same model with one of the **constrained** training algorithms:"
   ]
  },
  {
   "cell_type": "markdown",
   "id": "6ef60dce",
   "metadata": {},
   "source": [
    "Here, to make sure each batch contains representatives of each protected group, we can use the BalancedBatchSampler from the `utils` subpackage - a custom PyTorch `Sampler` which yields an equal number of samples from each subgroup in each batch."
   ]
  },
  {
   "cell_type": "code",
   "execution_count": 8,
   "id": "b0e2bd5d",
   "metadata": {},
   "outputs": [],
   "source": [
    "from fairret.statistic import PositiveRate\n",
    "from fairret.loss import NormLoss\n",
    "from humancompatible.train.fairness.utils import BalancedBatchSampler\n",
    "\n",
    "dataset = torch.utils.data.TensorDataset(features_train, sens_train, labels_train)\n",
    "\n",
    "sampler = BalancedBatchSampler(\n",
    "    subgroup_onehot=sens_train,\n",
    "    batch_size=128,\n",
    "    drop_last=True\n",
    ")\n",
    "dataloader = torch.utils.data.DataLoader(dataset, batch_sampler=sampler)\n",
    "\n",
    "criterion = torch.nn.BCEWithLogitsLoss()\n",
    "\n",
    "statistic = PositiveRate()\n",
    "fair_criterion = NormLoss(statistic=statistic)\n",
    "fair_crit_bound = 0.2"
   ]
  },
  {
   "cell_type": "code",
   "execution_count": null,
   "id": "1b5d4833",
   "metadata": {},
   "outputs": [],
   "source": [
    "from torch.nn import Sequential\n",
    "hsize1 = 64\n",
    "hsize2 = 32\n",
    "model_con = Sequential(\n",
    "    torch.nn.Linear(features_train.shape[1], hsize1),\n",
    "    torch.nn.ReLU(),\n",
    "    torch.nn.Linear(hsize1, hsize2),\n",
    "    torch.nn.ReLU(),\n",
    "    torch.nn.Linear(hsize2, 1)\n",
    ")\n",
    "\n",
    "from humancompatible.train.optim import SSLALM_Adam\n",
    "\n",
    "optimizer = SSLALM_Adam(\n",
    "    params=model_con.parameters(),\n",
    "    m=1,\n",
    "    lr=0.01,\n",
    "    dual_lr=0.05,\n",
    "    dual_bound=5,\n",
    "    rho=1,\n",
    "    mu=2,\n",
    ")\n",
    "\n",
    "# add slack variables\n",
    "slack_vars = torch.zeros(1, requires_grad=True)\n",
    "optimizer.add_param_group(param_group={\"params\": slack_vars, \"name\": \"slack\"})\n",
    "\n",
    "epochs = 50"
   ]
  },
  {
   "cell_type": "markdown",
   "id": "894ed813",
   "metadata": {},
   "source": [
    "As the constraint, we use `NormLoss` from `fairret`, which penalizes the model based on the ratio between the value of a statistic for each group and the overall value: $\\sum_{s\\in S}{|1-\\frac{f(\\theta, X_s, y_s)}{f(\\theta, X, y)}|}$."
   ]
  },
  {
   "cell_type": "code",
   "execution_count": 10,
   "id": "8564545d",
   "metadata": {},
   "outputs": [
    {
     "name": "stdout",
     "output_type": "stream",
     "text": [
      "Epoch: 0, loss: 0.4723413586616516, constraints: [0.15362729], dual: [0.00954109]\n",
      "Epoch: 1, loss: 0.40194377303123474, constraints: [0.19762402], dual: [-0.00233644]\n",
      "Epoch: 2, loss: 0.3871115446090698, constraints: [0.20302055], dual: [0.09634538]\n",
      "Epoch: 3, loss: 0.3789052665233612, constraints: [0.19651585], dual: [0.05487603]\n",
      "Epoch: 4, loss: 0.37101271748542786, constraints: [0.19697223], dual: [0.02092461]\n",
      "Epoch: 5, loss: 0.36328527331352234, constraints: [0.20564231], dual: [0.08178654]\n",
      "Epoch: 6, loss: 0.35936546325683594, constraints: [0.195664], dual: [0.03836441]\n",
      "Epoch: 7, loss: 0.3519388735294342, constraints: [0.20053481], dual: [0.0436604]\n",
      "Epoch: 8, loss: 0.3438510596752167, constraints: [0.20442865], dual: [0.08456553]\n",
      "Epoch: 9, loss: 0.3367249667644501, constraints: [0.19617766], dual: [0.05108259]\n",
      "Epoch: 10, loss: 0.3309421241283417, constraints: [0.2006629], dual: [0.05659958]\n",
      "Epoch: 11, loss: 0.3223046362400055, constraints: [0.20371469], dual: [0.0859691]\n",
      "Epoch: 12, loss: 0.31556445360183716, constraints: [0.19955768], dual: [0.08264687]\n",
      "Epoch: 13, loss: 0.3060411512851715, constraints: [0.20134275], dual: [0.09222806]\n",
      "Epoch: 14, loss: 0.29721492528915405, constraints: [0.20065541], dual: [0.09667085]\n",
      "Epoch: 15, loss: 0.28936752676963806, constraints: [0.19849678], dual: [0.08699052]\n",
      "Epoch: 16, loss: 0.2815854847431183, constraints: [0.2027945], dual: [0.10408658]\n",
      "Epoch: 17, loss: 0.2738397419452667, constraints: [0.20376412], dual: [0.12596323]\n",
      "Epoch: 18, loss: 0.26801931858062744, constraints: [0.19886364], dual: [0.1196892]\n",
      "Epoch: 19, loss: 0.26029258966445923, constraints: [0.20262335], dual: [0.13344932]\n",
      "Epoch: 20, loss: 0.25335338711738586, constraints: [0.20334312], dual: [0.15010798]\n",
      "Epoch: 21, loss: 0.24698282778263092, constraints: [0.20033592], dual: [0.15169825]\n",
      "Epoch: 22, loss: 0.24156241118907928, constraints: [0.197329], dual: [0.13968642]\n",
      "Epoch: 23, loss: 0.23295170068740845, constraints: [0.20259285], dual: [0.15076372]\n",
      "Epoch: 24, loss: 0.22927041351795197, constraints: [0.20164492], dual: [0.15743983]\n",
      "Epoch: 25, loss: 0.22274936735630035, constraints: [0.2058848], dual: [0.18012995]\n",
      "Epoch: 26, loss: 0.22035960853099823, constraints: [0.19854163], dual: [0.17478813]\n",
      "Epoch: 27, loss: 0.21217627823352814, constraints: [0.19905541], dual: [0.17150125]\n",
      "Epoch: 28, loss: 0.20892804861068726, constraints: [0.20400772], dual: [0.18474986]\n",
      "Epoch: 29, loss: 0.20573946833610535, constraints: [0.19789864], dual: [0.17815053]\n",
      "Epoch: 30, loss: 0.19957172870635986, constraints: [0.19627533], dual: [0.16703798]\n",
      "Epoch: 31, loss: 0.19569149613380432, constraints: [0.20713669], dual: [0.18726546]\n",
      "Epoch: 32, loss: 0.19059112668037415, constraints: [0.19927857], dual: [0.18532288]\n",
      "Epoch: 33, loss: 0.18767037987709045, constraints: [0.20986302], dual: [0.21055211]\n",
      "Epoch: 34, loss: 0.1844664365053177, constraints: [0.1989348], dual: [0.2079635]\n",
      "Epoch: 35, loss: 0.18228018283843994, constraints: [0.20373436], dual: [0.21658447]\n",
      "Epoch: 36, loss: 0.1848580688238144, constraints: [0.20123788], dual: [0.21929929]\n",
      "Epoch: 37, loss: 0.17661012709140778, constraints: [0.20220839], dual: [0.22390033]\n",
      "Epoch: 38, loss: 0.1742396503686905, constraints: [0.20508804], dual: [0.233971]\n",
      "Epoch: 39, loss: 0.17354312539100647, constraints: [0.20015539], dual: [0.2342632]\n",
      "Epoch: 40, loss: 0.16924451291561127, constraints: [0.19834844], dual: [0.23131293]\n",
      "Epoch: 41, loss: 0.16786693036556244, constraints: [0.20001259], dual: [0.23133425]\n",
      "Epoch: 42, loss: 0.1664523333311081, constraints: [0.20844084], dual: [0.2449422]\n",
      "Epoch: 43, loss: 0.16618633270263672, constraints: [0.20322635], dual: [0.24988353]\n",
      "Epoch: 44, loss: 0.16690091788768768, constraints: [0.20751591], dual: [0.260819]\n",
      "Epoch: 45, loss: 0.1640111207962036, constraints: [0.19893411], dual: [0.25934562]\n",
      "Epoch: 46, loss: 0.1565721035003662, constraints: [0.20439528], dual: [0.26511708]\n",
      "Epoch: 47, loss: 0.15947596728801727, constraints: [0.20549784], dual: [0.27197525]\n",
      "Epoch: 48, loss: 0.15394820272922516, constraints: [0.19831527], dual: [0.2699788]\n",
      "Epoch: 49, loss: 0.15789833664894104, constraints: [0.21261156], dual: [0.28417727]\n"
     ]
    }
   ],
   "source": [
    "ep_c_log = []\n",
    "for epoch in range(epochs):\n",
    "    loss_log = []\n",
    "    c_log = []\n",
    "    duals_log = []\n",
    "    for batch_input, batch_sens, batch_label in dataloader:\n",
    "        # calculate constraints and constraint grads\n",
    "        out = model_con(batch_input)\n",
    "        fair_loss = fair_criterion(out, batch_sens)\n",
    "        # fair_constraint = torch.max(fair_loss + slack_vars[0] - fair_crit_bound, torch.zeros(1))\n",
    "        fair_constraint = fair_loss + slack_vars[0] - fair_crit_bound\n",
    "        fair_constraint.backward(retain_graph=True)\n",
    "        \n",
    "        optimizer.dual_step(0, c_val=fair_constraint)\n",
    "        optimizer.zero_grad()\n",
    "\n",
    "        c_log.append([fair_loss.detach().item()])\n",
    "        duals_log.append(optimizer._dual_vars.detach())\n",
    "        # calculate loss and grad\n",
    "        loss = criterion(out, batch_label) + 0 * slack_vars[0]\n",
    "        loss.backward()\n",
    "        loss_log.append(loss.detach().numpy())\n",
    "        optimizer.step()\n",
    "        optimizer.zero_grad()\n",
    "\n",
    "        # slack variables must be non-negative. this is the \"projection\" step from the SSL-ALM paper\n",
    "        with torch.no_grad():\n",
    "            for s in slack_vars:\n",
    "                if s < 0:\n",
    "                    s.zero_()\n",
    "        \n",
    "    optimizer.dual_lr *= 0.95\n",
    "    ep_c_log.extend(c_log)\n",
    "    \n",
    "    print(\n",
    "        f\"Epoch: {epoch}, \"\n",
    "        f\"loss: {np.mean(loss_log)}, \"\n",
    "        f\"constraints: {np.mean(c_log, axis=0)}, \"\n",
    "        f\"dual: {np.mean(duals_log, axis=0)}\"\n",
    "    )"
   ]
  },
  {
   "cell_type": "code",
   "execution_count": 11,
   "id": "993899e3",
   "metadata": {},
   "outputs": [
    {
     "data": {
      "text/plain": [
       "tensor([0.3970, 0.4726], dtype=torch.float64, grad_fn=<IndexPutBackward0>)"
      ]
     },
     "execution_count": 11,
     "metadata": {},
     "output_type": "execute_result"
    }
   ],
   "source": [
    "from fairret.statistic import PositiveRate\n",
    "\n",
    "preds = torch.nn.functional.sigmoid(model_con(features_train))\n",
    "pr = PositiveRate()\n",
    "pr(preds, sens_train)"
   ]
  },
  {
   "cell_type": "code",
   "execution_count": 12,
   "id": "4ac5a57f",
   "metadata": {},
   "outputs": [
    {
     "data": {
      "text/plain": [
       "tensor(0.1734, dtype=torch.float64, grad_fn=<SumBackward0>)"
      ]
     },
     "execution_count": 12,
     "metadata": {},
     "output_type": "execute_result"
    }
   ],
   "source": [
    "fair_criterion(model_con(features_train), sens_train)"
   ]
  },
  {
   "cell_type": "code",
   "execution_count": 13,
   "id": "170d5dbf",
   "metadata": {},
   "outputs": [
    {
     "data": {
      "text/plain": [
       "<matplotlib.collections.LineCollection at 0x7f8f1522e0c0>"
      ]
     },
     "execution_count": 13,
     "metadata": {},
     "output_type": "execute_result"
    },
    {
     "data": {
      "image/png": "[encoded data removed]",
      "text/plain": [
       "<Figure size 640x480 with 1 Axes>"
      ]
     },
     "metadata": {},
     "output_type": "display_data"
    }
   ],
   "source": [
    "from matplotlib import pyplot as plt\n",
    "\n",
    "window_len = 5\n",
    "c_mavg = np.array([np.mean(ep_c_log[i:i+window_len]) for i in range(0, len(ep_c_log), window_len)])\n",
    "plt.plot(np.array(c_mavg).flatten(), lw=0.05)\n",
    "plt.hlines(y=fair_crit_bound, xmin=0, xmax=len(c_mavg), colors='black', ls='--')"
   ]
  },
  {
   "cell_type": "markdown",
   "id": "c31520f0",
   "metadata": {},
   "source": [
    "---\n",
    "\n",
    "Now let's see how the **Switching Subgradient** algorithm deals with this task."
   ]
  },
  {
   "cell_type": "code",
   "execution_count": 14,
   "id": "d1b0abd5",
   "metadata": {},
   "outputs": [],
   "source": [
    "from fairret.statistic import PositiveRate\n",
    "from fairret.loss import NormLoss\n",
    "from humancompatible.train.fairness.utils import BalancedBatchSampler\n",
    "\n",
    "dataset = torch.utils.data.TensorDataset(features_train, sens_train, labels_train)\n",
    "\n",
    "sampler = BalancedBatchSampler(\n",
    "    subgroup_onehot=sens_train,\n",
    "    batch_size=128,\n",
    "    drop_last=True\n",
    ")\n",
    "dataloader = torch.utils.data.DataLoader(dataset, batch_sampler=sampler)\n",
    "\n",
    "criterion = torch.nn.BCEWithLogitsLoss()\n",
    "\n",
    "statistic = PositiveRate()\n",
    "fair_criterion = NormLoss(statistic=statistic)\n",
    "fair_crit_bound = 0.2"
   ]
  },
  {
   "cell_type": "code",
   "execution_count": null,
   "id": "3af4f40c",
   "metadata": {},
   "outputs": [],
   "source": [
    "from humancompatible.train.optim import SSG\n",
    "\n",
    "from torch.nn import Sequential\n",
    "hsize1 = 64\n",
    "hsize2 = 32\n",
    "model_con = Sequential(\n",
    "    torch.nn.Linear(features_train.shape[1], hsize1),\n",
    "    torch.nn.ReLU(),\n",
    "    torch.nn.Linear(hsize1, hsize2),\n",
    "    torch.nn.ReLU(),\n",
    "    torch.nn.Linear(hsize2, 1)\n",
    ")\n",
    "\n",
    "optimizer = SSG(\n",
    "    params=model_con.parameters(),\n",
    "    m=1,\n",
    "    lr=0.05,\n",
    "    dual_lr=0.05\n",
    ")\n",
    "\n",
    "epochs = 150"
   ]
  },
  {
   "cell_type": "code",
   "execution_count": 16,
   "id": "c03fa9f9",
   "metadata": {},
   "outputs": [
    {
     "name": "stdout",
     "output_type": "stream",
     "text": [
      "Epoch: 0, loss: 0.5917466878890991, constraints: [0.04786117], \n",
      "Epoch: 1, loss: 0.4411052465438843, constraints: [0.11162637], \n",
      "Epoch: 2, loss: 0.42034682631492615, constraints: [0.118806], \n",
      "Epoch: 3, loss: 0.4125017821788788, constraints: [0.11083734], \n",
      "Epoch: 4, loss: 0.40751808881759644, constraints: [0.11344068], \n",
      "Epoch: 5, loss: 0.40191248059272766, constraints: [0.11465657], \n",
      "Epoch: 6, loss: 0.3978845477104187, constraints: [0.11297438], \n",
      "Epoch: 7, loss: 0.3947388827800751, constraints: [0.119367], \n",
      "Epoch: 8, loss: 0.3940359950065613, constraints: [0.11786867], \n",
      "Epoch: 9, loss: 0.39513063430786133, constraints: [0.12467096], \n",
      "Epoch: 10, loss: 0.3876039683818817, constraints: [0.11998452], \n",
      "Epoch: 11, loss: 0.3815326690673828, constraints: [0.12117832], \n",
      "Epoch: 12, loss: 0.3790724277496338, constraints: [0.11952363], \n",
      "Epoch: 13, loss: 0.3804245889186859, constraints: [0.11458447], \n",
      "Epoch: 14, loss: 0.3790796101093292, constraints: [0.11459803], \n",
      "Epoch: 15, loss: 0.3752559423446655, constraints: [0.12674565], \n",
      "Epoch: 16, loss: 0.3702405095100403, constraints: [0.12188485], \n",
      "Epoch: 17, loss: 0.36983051896095276, constraints: [0.12113968], \n",
      "Epoch: 18, loss: 0.3689046800136566, constraints: [0.12385774], \n",
      "Epoch: 19, loss: 0.36679965257644653, constraints: [0.1262373], \n",
      "Epoch: 20, loss: 0.3656042516231537, constraints: [0.11828837], \n",
      "Epoch: 21, loss: 0.3621380627155304, constraints: [0.12420873], \n",
      "Epoch: 22, loss: 0.3607705235481262, constraints: [0.12356771], \n",
      "Epoch: 23, loss: 0.359768271446228, constraints: [0.12996534], \n",
      "Epoch: 24, loss: 0.35498321056365967, constraints: [0.12198157], \n",
      "Epoch: 25, loss: 0.35482460260391235, constraints: [0.1281624], \n",
      "Epoch: 26, loss: 0.35389864444732666, constraints: [0.11914793], \n",
      "Epoch: 27, loss: 0.34944668412208557, constraints: [0.1274401], \n",
      "Epoch: 28, loss: 0.3512767553329468, constraints: [0.12482515], \n",
      "Epoch: 29, loss: 0.34309062361717224, constraints: [0.1225877], \n",
      "Epoch: 30, loss: 0.34394437074661255, constraints: [0.13037723], \n",
      "Epoch: 31, loss: 0.3428103029727936, constraints: [0.12248108], \n",
      "Epoch: 32, loss: 0.3354570269584656, constraints: [0.12940716], \n",
      "Epoch: 33, loss: 0.34245872497558594, constraints: [0.12605887], \n",
      "Epoch: 34, loss: 0.33682340383529663, constraints: [0.13420423], \n",
      "Epoch: 35, loss: 0.3311495780944824, constraints: [0.12903183], \n",
      "Epoch: 36, loss: 0.3278355896472931, constraints: [0.13071323], \n",
      "Epoch: 37, loss: 0.32948198914527893, constraints: [0.12770908], \n",
      "Epoch: 38, loss: 0.32461652159690857, constraints: [0.12480574], \n",
      "Epoch: 39, loss: 0.3251202702522278, constraints: [0.12804142], \n",
      "Epoch: 40, loss: 0.3245196044445038, constraints: [0.1349166], \n",
      "Epoch: 41, loss: 0.3218231201171875, constraints: [0.12801137], \n",
      "Epoch: 42, loss: 0.3150646388530731, constraints: [0.12814591], \n",
      "Epoch: 43, loss: 0.3184136748313904, constraints: [0.13128778], \n",
      "Epoch: 44, loss: 0.3145363926887512, constraints: [0.12797507], \n",
      "Epoch: 45, loss: 0.31187769770622253, constraints: [0.12271927], \n",
      "Epoch: 46, loss: 0.3096759021282196, constraints: [0.12852415], \n",
      "Epoch: 47, loss: 0.30771443247795105, constraints: [0.13042641], \n",
      "Epoch: 48, loss: 0.30409249663352966, constraints: [0.12485166], \n",
      "Epoch: 49, loss: 0.2995656132698059, constraints: [0.13635753], \n",
      "Epoch: 50, loss: 0.3009950816631317, constraints: [0.13658316], \n",
      "Epoch: 51, loss: 0.29877257347106934, constraints: [0.13003574], \n",
      "Epoch: 52, loss: 0.29356688261032104, constraints: [0.13360464], \n",
      "Epoch: 53, loss: 0.2941630184650421, constraints: [0.13337219], \n",
      "Epoch: 54, loss: 0.29511919617652893, constraints: [0.12748545], \n",
      "Epoch: 55, loss: 0.2880006432533264, constraints: [0.1298772], \n",
      "Epoch: 56, loss: 0.2906065583229065, constraints: [0.13085927], \n",
      "Epoch: 57, loss: 0.2850232422351837, constraints: [0.12916633], \n",
      "Epoch: 58, loss: 0.2798285484313965, constraints: [0.12902882], \n",
      "Epoch: 59, loss: 0.28168800473213196, constraints: [0.13040668], \n",
      "Epoch: 60, loss: 0.2780340611934662, constraints: [0.13181887], \n",
      "Epoch: 61, loss: 0.2781963348388672, constraints: [0.13890127], \n",
      "Epoch: 62, loss: 0.28237274289131165, constraints: [0.14350161], \n",
      "Epoch: 63, loss: 0.2774995267391205, constraints: [0.12314255], \n",
      "Epoch: 64, loss: 0.27380284667015076, constraints: [0.13280505], \n",
      "Epoch: 65, loss: 0.26963305473327637, constraints: [0.14051888], \n",
      "Epoch: 66, loss: 0.27688419818878174, constraints: [0.13874475], \n",
      "Epoch: 67, loss: 0.27340924739837646, constraints: [0.13355099], \n",
      "Epoch: 68, loss: 0.271653413772583, constraints: [0.14092919], \n",
      "Epoch: 69, loss: 0.2674282491207123, constraints: [0.13235712], \n",
      "Epoch: 70, loss: 0.2634701132774353, constraints: [0.13255157], \n",
      "Epoch: 71, loss: 0.26366785168647766, constraints: [0.1350271], \n",
      "Epoch: 72, loss: 0.26486918330192566, constraints: [0.13708894], \n",
      "Epoch: 73, loss: 0.2575761675834656, constraints: [0.13493348], \n",
      "Epoch: 74, loss: 0.25536730885505676, constraints: [0.1410652], \n",
      "Epoch: 75, loss: 0.25694015622138977, constraints: [0.13351668], \n",
      "Epoch: 76, loss: 0.2545187473297119, constraints: [0.13434868], \n",
      "Epoch: 77, loss: 0.2631291449069977, constraints: [0.1392074], \n",
      "Epoch: 78, loss: 0.25616344809532166, constraints: [0.13208736], \n",
      "Epoch: 79, loss: 0.2528224289417267, constraints: [0.13846246], \n",
      "Epoch: 80, loss: 0.2539573907852173, constraints: [0.14190647], \n",
      "Epoch: 81, loss: 0.2523192763328552, constraints: [0.13321132], \n",
      "Epoch: 82, loss: 0.24630330502986908, constraints: [0.13733658], \n",
      "Epoch: 83, loss: 0.2449406385421753, constraints: [0.14329349], \n",
      "Epoch: 84, loss: 0.24495713412761688, constraints: [0.13601365], \n",
      "Epoch: 85, loss: 0.24853260815143585, constraints: [0.13893114], \n",
      "Epoch: 86, loss: 0.240804985165596, constraints: [0.14133012], \n",
      "Epoch: 87, loss: 0.24295949935913086, constraints: [0.13408006], \n",
      "Epoch: 88, loss: 0.23917043209075928, constraints: [0.13481366], \n",
      "Epoch: 89, loss: 0.23911604285240173, constraints: [0.13819779], \n",
      "Epoch: 90, loss: 0.24226807057857513, constraints: [0.14397204], \n",
      "Epoch: 91, loss: 0.23315595090389252, constraints: [0.13931717], \n",
      "Epoch: 92, loss: 0.2392147183418274, constraints: [0.14498377], \n",
      "Epoch: 93, loss: 0.2387484610080719, constraints: [0.13899791], \n",
      "Epoch: 94, loss: 0.2320297360420227, constraints: [0.14065655], \n",
      "Epoch: 95, loss: 0.23708568513393402, constraints: [0.13621759], \n",
      "Epoch: 96, loss: 0.2301514595746994, constraints: [0.14123652], \n",
      "Epoch: 97, loss: 0.2318612039089203, constraints: [0.13813409], \n",
      "Epoch: 98, loss: 0.2283501774072647, constraints: [0.13018588], \n",
      "Epoch: 99, loss: 0.2330295443534851, constraints: [0.13816884], \n",
      "Epoch: 100, loss: 0.23057347536087036, constraints: [0.14793986], \n",
      "Epoch: 101, loss: 0.23010174930095673, constraints: [0.139955], \n",
      "Epoch: 102, loss: 0.22677700221538544, constraints: [0.13048974], \n",
      "Epoch: 103, loss: 0.22388087213039398, constraints: [0.13908481], \n",
      "Epoch: 104, loss: 0.22684158384799957, constraints: [0.13668013], \n",
      "Epoch: 105, loss: 0.22550006210803986, constraints: [0.14482821], \n",
      "Epoch: 106, loss: 0.22849270701408386, constraints: [0.14398098], \n",
      "Epoch: 107, loss: 0.2182568907737732, constraints: [0.13888479], \n",
      "Epoch: 108, loss: 0.2200646549463272, constraints: [0.14172984], \n",
      "Epoch: 109, loss: 0.22007405757904053, constraints: [0.1352838], \n",
      "Epoch: 110, loss: 0.21768397092819214, constraints: [0.14366377], \n",
      "Epoch: 111, loss: 0.2157164216041565, constraints: [0.13455033], \n",
      "Epoch: 112, loss: 0.21916097402572632, constraints: [0.14902036], \n",
      "Epoch: 113, loss: 0.21468916535377502, constraints: [0.14021338], \n",
      "Epoch: 114, loss: 0.21430669724941254, constraints: [0.14125806], \n",
      "Epoch: 115, loss: 0.2114706188440323, constraints: [0.14925161], \n",
      "Epoch: 116, loss: 0.21757325530052185, constraints: [0.1450575], \n",
      "Epoch: 117, loss: 0.21176519989967346, constraints: [0.14851711], \n",
      "Epoch: 118, loss: 0.2111617922782898, constraints: [0.14234339], \n",
      "Epoch: 119, loss: 0.21369478106498718, constraints: [0.13982334], \n",
      "Epoch: 120, loss: 0.21204835176467896, constraints: [0.14405025], \n",
      "Epoch: 121, loss: 0.20750552415847778, constraints: [0.14210022], \n",
      "Epoch: 122, loss: 0.2098381221294403, constraints: [0.14542913], \n",
      "Epoch: 123, loss: 0.20834966003894806, constraints: [0.15344063], \n",
      "Epoch: 124, loss: 0.21123762428760529, constraints: [0.14997609], \n",
      "Epoch: 125, loss: 0.20822614431381226, constraints: [0.14256136], \n",
      "Epoch: 126, loss: 0.20737268030643463, constraints: [0.14988889], \n",
      "Epoch: 127, loss: 0.20575913786888123, constraints: [0.14152813], \n",
      "Epoch: 128, loss: 0.21056872606277466, constraints: [0.15068631], \n",
      "Epoch: 129, loss: 0.21161626279354095, constraints: [0.15288795], \n",
      "Epoch: 130, loss: 0.2115243524312973, constraints: [0.14954736], \n",
      "Epoch: 131, loss: 0.21038395166397095, constraints: [0.14612249], \n",
      "Epoch: 132, loss: 0.20618660748004913, constraints: [0.14098583], \n",
      "Epoch: 133, loss: 0.1994142383337021, constraints: [0.13724607], \n",
      "Epoch: 134, loss: 0.2010425180196762, constraints: [0.1525839], \n",
      "Epoch: 135, loss: 0.2046327143907547, constraints: [0.14155981], \n",
      "Epoch: 136, loss: 0.19812704622745514, constraints: [0.14191321], \n",
      "Epoch: 137, loss: 0.1965549886226654, constraints: [0.13431976], \n",
      "Epoch: 138, loss: 0.19913946092128754, constraints: [0.14689904], \n",
      "Epoch: 139, loss: 0.19612571597099304, constraints: [0.14485902], \n",
      "Epoch: 140, loss: 0.19383612275123596, constraints: [0.1409751], \n",
      "Epoch: 141, loss: 0.19622334837913513, constraints: [0.14450258], \n",
      "Epoch: 142, loss: 0.19631142914295197, constraints: [0.14044186], \n",
      "Epoch: 143, loss: 0.1964157223701477, constraints: [0.1552333], \n",
      "Epoch: 144, loss: 0.19749049842357635, constraints: [0.14948124], \n",
      "Epoch: 145, loss: 0.19289730489253998, constraints: [0.13859737], \n",
      "Epoch: 146, loss: 0.19439885020256042, constraints: [0.14639652], \n",
      "Epoch: 147, loss: 0.19476522505283356, constraints: [0.14600833], \n",
      "Epoch: 148, loss: 0.19332192838191986, constraints: [0.14759467], \n",
      "Epoch: 149, loss: 0.18869049847126007, constraints: [0.14944783], \n"
     ]
    }
   ],
   "source": [
    "ep_c_log = []\n",
    "for epoch in range(epochs):\n",
    "    loss_log = []\n",
    "    c_log = []\n",
    "    duals_log = []\n",
    "    for batch_input, batch_sens, batch_label in dataloader:\n",
    "        # calculate constraints and constraint grads\n",
    "        out = model_con(batch_input)\n",
    "        fair_loss = fair_criterion(out, batch_sens)\n",
    "        fair_constraint = torch.max(fair_loss - fair_crit_bound, torch.zeros(1))\n",
    "        fair_constraint.backward(retain_graph=True)\n",
    "        \n",
    "        optimizer.dual_step(0)\n",
    "        optimizer.zero_grad()\n",
    "\n",
    "        c_log.append([fair_loss.detach().item()])\n",
    "        # calculate loss and grad\n",
    "        # batch_output = model_con(batch_input)\n",
    "        loss = criterion(out, batch_label)\n",
    "        loss.backward()\n",
    "        loss_log.append(loss.detach().numpy())\n",
    "        optimizer.step(fair_constraint)\n",
    "        optimizer.zero_grad()\n",
    "        \n",
    "    ep_c_log.append(c_log)\n",
    "    \n",
    "    print(\n",
    "        f\"Epoch: {epoch}, \"\n",
    "        f\"loss: {np.mean(loss_log)}, \"\n",
    "        f\"constraints: {np.mean(c_log, axis=0)}, \"\n",
    "    )"
   ]
  },
  {
   "cell_type": "code",
   "execution_count": 17,
   "id": "3f4e4383",
   "metadata": {},
   "outputs": [
    {
     "data": {
      "text/plain": [
       "tensor([0.4588, 0.4788], dtype=torch.float64, grad_fn=<IndexPutBackward0>)"
      ]
     },
     "execution_count": 17,
     "metadata": {},
     "output_type": "execute_result"
    }
   ],
   "source": [
    "from fairret.statistic import PositiveRate\n",
    "\n",
    "preds = torch.nn.functional.sigmoid(model_con(features_train))\n",
    "pr = PositiveRate()\n",
    "pr(preds, sens_train)"
   ]
  },
  {
   "cell_type": "code",
   "execution_count": 18,
   "id": "d25cb25b",
   "metadata": {},
   "outputs": [
    {
     "data": {
      "text/plain": [
       "tensor(0.0427, dtype=torch.float64, grad_fn=<SumBackward0>)"
      ]
     },
     "execution_count": 18,
     "metadata": {},
     "output_type": "execute_result"
    }
   ],
   "source": [
    "fair_criterion(model_con(features_train), sens_train)"
   ]
  },
  {
   "cell_type": "code",
   "execution_count": 19,
   "id": "f25ef130",
   "metadata": {},
   "outputs": [
    {
     "data": {
      "text/plain": [
       "<matplotlib.collections.LineCollection at 0x7f8f4c6a8c50>"
      ]
     },
     "execution_count": 19,
     "metadata": {},
     "output_type": "execute_result"
    },
    {
     "data": {
      "image/png": "[encoded data removed]",
      "text/plain": [
       "<Figure size 640x480 with 1 Axes>"
      ]
     },
     "metadata": {},
     "output_type": "display_data"
    }
   ],
   "source": [
    "from matplotlib import pyplot as plt\n",
    "\n",
    "ep_c_log = np.array(ep_c_log).flatten()\n",
    "window_len = 10\n",
    "c_mavg = np.array([np.mean(ep_c_log[i:i+window_len]) for i in range(0, len(ep_c_log), window_len)])\n",
    "plt.plot(np.array(c_mavg).flatten(), lw=0.5)\n",
    "plt.hlines(y=fair_crit_bound, xmin=0, xmax=len(c_mavg), colors='black', ls='--')"
   ]
  }
 ],
 "metadata": {
  "kernelspec": {
   "display_name": "hc-dev",
   "language": "python",
   "name": "python3"
  },
  "language_info": {
   "codemirror_mode": {
    "name": "ipython",
    "version": 3
   },
   "file_extension": ".py",
   "mimetype": "text/x-python",
   "name": "python",
   "nbconvert_exporter": "python",
   "pygments_lexer": "ipython3",
   "version": "3.12.11"
  }
 },
 "nbformat": 4,
 "nbformat_minor": 5
}
