{
 "cells": [
  {
   "cell_type": "code",
   "execution_count": null,
   "id": "d8085f54",
   "metadata": {},
   "outputs": [],
   "source": [
    "import torch\n",
    "import math\n",
    "import numpy as np\n",
    "import networkx as nx\n",
    "from matplotlib import pyplot as plt"
   ]
  },
  {
   "cell_type": "markdown",
   "id": "58032f2a",
   "metadata": {},
   "source": [
    "Repeating an [example](https://cooper.readthedocs.io/en/latest/notebooks/plot_dag_learning.html) from [Cooper](cooper.readthedocs.io/): learning a **Directed Acyclic Graph (DAG)** from data."
   ]
  },
  {
   "cell_type": "code",
   "execution_count": null,
   "id": "d0869e3f",
   "metadata": {},
   "outputs": [],
   "source": [
    "torch.manual_seed(1)\n",
    "np.random.seed(1)\n",
    "\n",
    "\n",
    "def generate_data(n: int, d: int, n_causes: int, noise_std: float, device: torch.device):\n",
    "    \"\"\"Generate data from a linear structural equation model with Gaussian noise.\n",
    "    The\n",
    "\n",
    "    Args:\n",
    "        n: number of samples\n",
    "        d: number of features\n",
    "        n_causes: number of roots in the graph\n",
    "        noise_std: standard deviation of the noise\n",
    "        device: torch.device\n",
    "\n",
    "    Returns:\n",
    "        torch.Tensor: Data (X) of shape (n, d)\n",
    "        torch.Tensor: Graph (A) of shape (d, d)\n",
    "    \"\"\"\n",
    "    assert n_causes <= d\n",
    "\n",
    "    # --------------------------------------------\n",
    "    # Generate the adjacency matrix\n",
    "    # --------------------------------------------\n",
    "\n",
    "    # Rows are nodes, columns are parents\n",
    "    A = torch.zeros(d, d, device=device)\n",
    "\n",
    "    for i in range(n_causes, d):\n",
    "        # For i=1, the only possible parent is 0\n",
    "        parents = 0 if i == 1 else torch.randperm(i)[: np.random.randint(1, i)]\n",
    "\n",
    "        A[i, parents] = 1\n",
    "\n",
    "    assert torch.trace(torch.linalg.matrix_exp(A)).item() == d, \"A is not a DAG\"\n",
    "\n",
    "    # --------------------------------------------\n",
    "    # Sample data\n",
    "    # --------------------------------------------\n",
    "\n",
    "    noise = noise_std * torch.randn(n, d, device=device)\n",
    "    X = torch.zeros(n, d, device=device)\n",
    "\n",
    "    for i in range(d):\n",
    "        parents = torch.nonzero(A[i]).flatten()\n",
    "        X[:, i] = X[:, parents].sum(dim=1) + noise[:, i]\n",
    "\n",
    "    # Improve conditioning\n",
    "    X /= math.sqrt(d)\n",
    "\n",
    "    return X, A"
   ]
  },
  {
   "cell_type": "markdown",
   "id": "497afa09",
   "metadata": {},
   "source": [
    "**Generate training data:**"
   ]
  },
  {
   "cell_type": "code",
   "execution_count": null,
   "id": "570484f3",
   "metadata": {},
   "outputs": [],
   "source": [
    "D = 8\n",
    "N = 5_000\n",
    "N_CAUSES = 2\n",
    "NOISE_STD = 1e-2\n",
    "DEVICE = torch.device(\"cuda\" if torch.cuda.is_available() else \"cpu\")\n",
    "\n",
    "# Generate data\n",
    "X, A_TRUE = generate_data(N, D, N_CAUSES, NOISE_STD, DEVICE)"
   ]
  },
  {
   "cell_type": "code",
   "execution_count": null,
   "id": "8a4f5b3c",
   "metadata": {},
   "outputs": [
    {
     "data": {
      "image/png": "[encoded data removed]",
      "text/plain": [
       "<Figure size 500x200 with 1 Axes>"
      ]
     },
     "metadata": {},
     "output_type": "display_data"
    }
   ],
   "source": [
    "# Visualize the graph\n",
    "G = nx.DiGraph()\n",
    "\n",
    "G.add_nodes_from(range(D))\n",
    "for i in range(D):\n",
    "    for j in range(D):\n",
    "        if A_TRUE[i, j] != 0:\n",
    "            G.add_edge(j, i)\n",
    "\n",
    "pos = nx.shell_layout(G)\n",
    "\n",
    "plt.figure(figsize=(5, 2))\n",
    "nx.draw(G, pos, with_labels=True, font_weight=\"bold\")\n",
    "plt.show()"
   ]
  },
  {
   "cell_type": "markdown",
   "id": "d66ac1ad",
   "metadata": {},
   "source": [
    "***\n",
    "**Training**:"
   ]
  },
  {
   "cell_type": "markdown",
   "id": "fc97dd21",
   "metadata": {},
   "source": [
    "We disregard sparsity regularization, and solve the following problem:\n",
    "\n",
    "$\\min_{A \\in \\{0, 1\\}^{d \\times d}} \\left\\| X - XA \\right\\|_F^2,\n",
    "\\quad \\text{s.t.} \\quad tr(e^A) = d $\n"
   ]
  },
  {
   "cell_type": "code",
   "execution_count": null,
   "id": "9ccbbb30",
   "metadata": {},
   "outputs": [],
   "source": [
    "from humancompatible.train.algorithms import SSLALM_Adam\n",
    "\n",
    "A = torch.nn.Parameter(torch.randn(D, D, device=DEVICE) / math.sqrt(D))\n",
    "\n",
    "PRIMAL_LR = 1e-2\n",
    "N_STEPS = 3000\n",
    "n, d = X.shape\n",
    "# sparsity regularization multiplier\n",
    "# r = 1e-1\n",
    "\n",
    "optimizer = SSLALM_Adam(\n",
    "    params=[A],\n",
    "    m=1,\n",
    "    mu=0.,\n",
    "    lr=0.01,\n",
    "    dual_lr=0.05,\n",
    "    rho=2.,\n",
    "    dual_bound=10,\n",
    ")\n",
    "\n",
    "constraint = lambda A: torch.trace(torch.linalg.matrix_exp(A)) - d"
   ]
  },
  {
   "cell_type": "code",
   "execution_count": null,
   "id": "294af626",
   "metadata": {},
   "outputs": [],
   "source": [
    "steps, losses, violations, duals = [], [], [], []  # for plotting\n",
    "\n",
    "for i in range(N_STEPS):\n",
    "    A.data.fill_diagonal_(0)\n",
    "    A.data.clamp_(min=0, max=1.)\n",
    "\n",
    "    cviol = constraint(A)\n",
    "    cviol.backward()\n",
    "    optimizer.dual_step(0, cviol)\n",
    "    optimizer.zero_grad()\n",
    "\n",
    "    loss = torch.square(torch.linalg.norm(X - X @ A.T, ord=\"fro\"))\n",
    "    loss.backward()\n",
    "    optimizer.step()\n",
    "    optimizer.zero_grad()\n",
    "\n",
    "    if i % 1 == 0:\n",
    "        steps.append(i)\n",
    "        losses.append(loss.detach())\n",
    "        violations.append(cviol.item())\n",
    "        duals.append(optimizer._dual_vars.clone().detach())"
   ]
  },
  {
   "cell_type": "markdown",
   "id": "76e628b0",
   "metadata": {},
   "source": [
    "***\n",
    "**Results**:"
   ]
  },
  {
   "cell_type": "code",
   "execution_count": null,
   "id": "f3234c12",
   "metadata": {},
   "outputs": [],
   "source": [
    "import seaborn as sns\n",
    "\n",
    "# plotting functions\n",
    "\n",
    "def plot_adjacency(adjacency, gt_adjacency):\n",
    "    \"\"\"Plot side by side: 1)the learned adjacency matrix, 2)the ground truth adj\n",
    "    matrix and 3)the difference of these matrices\n",
    "    :param np.ndarray adjacency: learned adjacency matrix\n",
    "    :param np.ndarray gt_adjacency: ground truth adjacency matrix\n",
    "    :param str exp_path: path where to save the image\n",
    "    :param str name: additional suffix to add to the image name\n",
    "    \"\"\"\n",
    "    plt.clf()\n",
    "    _, (ax1, ax2, ax3) = plt.subplots(ncols=3, nrows=1)\n",
    "\n",
    "    kwargs = {\"vmin\": 0, \"vmax\": 1, \"center\": 0.5, \"cmap\": \"Blues\", \"xticklabels\": False, \"yticklabels\": False}\n",
    "    sns.heatmap(adjacency, ax=ax2, cbar=False, **kwargs)\n",
    "    sns.heatmap(gt_adjacency, ax=ax3, cbar=False, **kwargs)\n",
    "    diff = adjacency - gt_adjacency\n",
    "    diff_norm = (diff - np.min(diff)) / (np.max(diff) - np.min(diff))\n",
    "    sns.heatmap(diff_norm, ax=ax1, cbar=False, **kwargs)\n",
    "\n",
    "    ax1.set_title(\"Difference (Learned, GT)\")\n",
    "    ax2.set_title(\"Learned\")\n",
    "    ax3.set_title(\"Ground truth\")\n",
    "\n",
    "    ax1.set_aspect(\"equal\", adjustable=\"box\")\n",
    "    ax2.set_aspect(\"equal\", adjustable=\"box\")\n",
    "    ax3.set_aspect(\"equal\", adjustable=\"box\")\n",
    "\n",
    "    plt.show()\n",
    "\n",
    "def plot_progress(steps, losses, violations, duals):\n",
    "    _, ax = plt.subplots(3, 1, sharex=True)\n",
    "    ax[0].plot(steps, losses, \"tab:blue\")\n",
    "    ax[1].plot(steps, violations, \"tab:orange\")\n",
    "    ax[2].plot(steps, duals, \"tab:red\")\n",
    "\n",
    "    ax[0].set_ylabel(\"Loss\", labelpad=10, fontsize=10)\n",
    "    ax[1].set_ylabel(\"Constraint violation\", labelpad=10, fontsize=10)\n",
    "    ax[2].set_ylabel(\"Dual parameters\", labelpad=10, fontsize=10)\n",
    "\n",
    "    ax[2].set_xlabel(\"Steps\", fontsize=12)\n",
    "    \n",
    "    plt.show()"
   ]
  },
  {
   "cell_type": "code",
   "execution_count": null,
   "id": "899d6db2",
   "metadata": {},
   "outputs": [
    {
     "data": {
      "text/plain": [
       "<Figure size 640x480 with 0 Axes>"
      ]
     },
     "metadata": {},
     "output_type": "display_data"
    },
    {
     "data": {
      "image/png": "[encoded data removed]",
      "text/plain": [
       "<Figure size 640x480 with 3 Axes>"
      ]
     },
     "metadata": {},
     "output_type": "display_data"
    }
   ],
   "source": [
    "plot_adjacency(A.cpu().detach().numpy(), A_TRUE.cpu().detach().numpy())"
   ]
  },
  {
   "cell_type": "code",
   "execution_count": null,
   "id": "a34d0663",
   "metadata": {},
   "outputs": [
    {
     "data": {
      "image/png": "[encoded data removed]",
      "text/plain": [
       "<Figure size 640x480 with 3 Axes>"
      ]
     },
     "metadata": {},
     "output_type": "display_data"
    }
   ],
   "source": [
    "plot_progress(steps, losses, violations, duals)"
   ]
  }
 ],
 "metadata": {
  "kernelspec": {
   "display_name": "hc-dev",
   "language": "python",
   "name": "python3"
  },
  "language_info": {
   "codemirror_mode": {
    "name": "ipython",
    "version": 3
   },
   "file_extension": ".py",
   "mimetype": "text/x-python",
   "name": "python",
   "nbconvert_exporter": "python",
   "pygments_lexer": "ipython3"
  }
 },
 "nbformat": 4,
 "nbformat_minor": 5
}
