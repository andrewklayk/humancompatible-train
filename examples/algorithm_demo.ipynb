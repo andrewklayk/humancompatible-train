{
 "cells": [
  {
   "cell_type": "markdown",
   "id": "1efc20cc",
   "metadata": {},
   "source": [
    "This notebook will demonstrate how to use the **constrained training algorithms** implemented in this toolkit."
   ]
  },
  {
   "cell_type": "markdown",
   "id": "790ccbc7",
   "metadata": {},
   "source": [
    "To train a network, instantiate an algorithm, passing to it the model, the dataset, a list of `FairnessConstraint`s and the algorithm's hyperparameters."
   ]
  },
  {
   "cell_type": "markdown",
   "id": "5bfe05ba",
   "metadata": {},
   "source": [
    "Load and prepare data from `folktables`:"
   ]
  },
  {
   "cell_type": "code",
   "execution_count": null,
   "id": "58feeb34",
   "metadata": {},
   "outputs": [
    {
     "name": "stdout",
     "output_type": "stream",
     "text": [
      "Protected attribute: RAC1P\n",
      "Number of subgroups considered: 6\n",
      "Size of subgroups: [10685, 794, 1213, 259, 315, 997]\n"
     ]
    }
   ],
   "source": [
    "import numpy as np\n",
    "from sklearn.model_selection import train_test_split\n",
    "from sklearn.preprocessing import StandardScaler\n",
    "import torch\n",
    "from folktables import ACSDataSource, ACSIncome\n",
    "\n",
    "device = 'cpu'\n",
    "torch.set_default_device(device)\n",
    "\n",
    "# load folktables data\n",
    "data_source = ACSDataSource(survey_year='2018', horizon='1-Year', survey='person')\n",
    "acs_data = data_source.get_data(states=[\"OK\"], download=True)\n",
    "features, labels, groups = ACSIncome.df_to_numpy(acs_data)\n",
    "# split\n",
    "X_train, X_test, y_train, y_test, groups_train, groups_test = train_test_split(\n",
    "    features, labels, groups, test_size=0.2, random_state=42)\n",
    "# scale\n",
    "scaler = StandardScaler()\n",
    "X_train = scaler.fit_transform(X_train)\n",
    "X_test = scaler.transform(X_test)\n",
    "\n",
    "# make into a pytorch dataset, remove the sensitive attribute (RAC1P)\n",
    "features_train = torch.tensor(X_train, dtype=torch.float32)[:,:-1].to(device)\n",
    "labels_train = torch.tensor(y_train,dtype=torch.float32).to(device)\n",
    "dataset_train = torch.utils.data.TensorDataset(features_train, labels_train)\n",
    "\n",
    "c_batch_size = 128\n",
    "min_subgroup_size = c_batch_size\n",
    "# For each subgroup, FairnessConstraint needs a list of indices of samples belonging to that subgroup\n",
    "group_indices_train = [\n",
    "    np.nonzero(groups_train == group_id)[0] for group_id in np.unique(groups_train)\n",
    "    if np.count_nonzero(groups == group_id) > min_subgroup_size\n",
    "]\n",
    "\n",
    "# repeat for test set\n",
    "features_test = torch.tensor(X_test, dtype=torch.float32)[:,:-1].to(device)\n",
    "labels_test = torch.tensor(y_test,dtype=torch.float32).to(device)\n",
    "dataset_test = torch.utils.data.TensorDataset(features_test, labels_test)\n",
    "group_indices_test = [\n",
    "    np.nonzero(groups_test == group_id)[0] for group_id in np.unique(groups_test)\n",
    "    if np.count_nonzero(groups == group_id) > min_subgroup_size\n",
    "]\n",
    "\n",
    "print(f'Protected attribute: {ACSIncome.group}')\n",
    "print(f'Number of subgroups considered: {len(group_indices_train)}')\n",
    "print(f'Size of subgroups: {[len(g) for g in group_indices_train]}')"
   ]
  },
  {
   "cell_type": "markdown",
   "id": "4feed165",
   "metadata": {},
   "source": [
    "Let's say we want to add an equal loss constraint on the model.\n",
    "\n",
    "We can do that by using the `FairnessConstraint` class, which will handle sampling (if possible, sampling an equal number of samples from each relevant subgroup in each minibatch), and passing it the function that will calculate the value of the constraint."
   ]
  },
  {
   "cell_type": "code",
   "execution_count": null,
   "id": "c3a2ead3",
   "metadata": {},
   "outputs": [
    {
     "name": "stdout",
     "output_type": "stream",
     "text": [
      "Number of constraints: 15\n"
     ]
    }
   ],
   "source": [
    "from itertools import combinations\n",
    "from humancompatible.train.constraints.constraint import FairnessConstraint\n",
    "from humancompatible.train.constraints.constraint_fns import abs_loss_equality, tpr_equality\n",
    "\n",
    "# the protected attribute is \"Race\" (RAC1P)\n",
    "# we put a pairwise constraint on each combination of subgroups\n",
    "constraint_bound = 0.01\n",
    "constraints = []\n",
    "for gr1, gr2 in combinations(group_indices_train, 2):\n",
    "    c = FairnessConstraint(\n",
    "        dataset=dataset_train,\n",
    "        group_indices=[gr1, gr2],\n",
    "        # subtract bound from absolute loss difference to bring constraint to form $c \\leq 0$\n",
    "        # also implemented are fairret wrappers, e.g. equal TPR\n",
    "        fn=lambda model, samples: abs_loss_equality(torch.nn.BCEWithLogitsLoss(), model, samples) - constraint_bound,\n",
    "        batch_size=c_batch_size,\n",
    "        device=device\n",
    "    )\n",
    "\n",
    "    constraints.append(c)\n",
    "\n",
    "print(f'Number of constraints: {len(constraints)}')"
   ]
  },
  {
   "cell_type": "code",
   "execution_count": null,
   "id": "d6ed01b9",
   "metadata": {},
   "outputs": [],
   "source": [
    "# helper function to analyze model performance\n",
    "\n",
    "def model_stats(model, features, labels, groups, constraints, constraint_bound):\n",
    "    with torch.inference_mode():\n",
    "        gr_ind = list(combinations(groups, 2))\n",
    "        vals = []\n",
    "        acc_dif = []\n",
    "        for i, c in enumerate(constraints):\n",
    "            idx1, idx2 = gr_ind[i]\n",
    "            val = c.eval(model, [(features[idx1], labels[idx1]), (features[idx2], labels[idx2])]) + constraint_bound\n",
    "            vals.append(val.cpu().numpy().item())\n",
    "\n",
    "            logits1 = model(features[idx1])\n",
    "            logits2 = model(features[idx2])\n",
    "            outs1 = torch.nn.functional.sigmoid(logits1).cpu().numpy()\n",
    "            outs2 = torch.nn.functional.sigmoid(logits2).cpu().numpy()\n",
    "            preds1 = (outs1.T > 0.5).astype(float)\n",
    "            preds2 = (outs2.T > 0.5).astype(float) \n",
    "            acc1 = np.mean(preds1 == labels[idx1].cpu().numpy())\n",
    "            acc2 = np.mean(preds2 == labels[idx2].cpu().numpy())\n",
    "            acc_dif.append(abs(acc1-acc2))\n",
    "\n",
    "        print(f'constraints (should be <= {constraint_bound}):')\n",
    "        print(np.round(vals, decimals=3))\n",
    "        print(f'c mean: {np.mean(vals)}')\n",
    "        print(f'c min: {np.min(vals)}')\n",
    "        print(f'c max: {np.max(vals)}')\n",
    "        print('---')\n",
    "\n",
    "        logits = model(features)\n",
    "        outs = torch.nn.functional.sigmoid(logits).cpu().numpy()\n",
    "        preds = (outs.T > 0.5).astype(float)\n",
    "        acc = np.sum(preds == labels.cpu().numpy())/len(labels)\n",
    "        print(f'accuracy: {acc}')\n",
    "        print('accuracy abs. difference:')\n",
    "        print(np.round(acc_dif, decimals=3))\n",
    "        print(f'acc abs dif mean: {np.mean(acc_dif)}')\n",
    "        print(f'acc abs dif min: {np.min(acc_dif)}')\n",
    "        print(f'acc abs dif max: {np.max(acc_dif)}')"
   ]
  },
  {
   "cell_type": "markdown",
   "id": "ea06f697",
   "metadata": {},
   "source": [
    "---\n",
    "---"
   ]
  },
  {
   "cell_type": "markdown",
   "id": "b26213fe",
   "metadata": {},
   "source": [
    "For comparison, let us first train a model **without constraints**."
   ]
  },
  {
   "cell_type": "markdown",
   "id": "7ec89642",
   "metadata": {},
   "source": [
    "Define a model:"
   ]
  },
  {
   "cell_type": "code",
   "execution_count": null,
   "id": "4c957562",
   "metadata": {},
   "outputs": [],
   "source": [
    "from torch.nn import Sequential\n",
    "hsize1 = 64\n",
    "hsize2 = 32\n",
    "model_uncon = Sequential(\n",
    "    torch.nn.Linear(features_train.shape[1], hsize1),\n",
    "    torch.nn.ReLU(),\n",
    "    torch.nn.Linear(hsize1, hsize2),\n",
    "    torch.nn.ReLU(),\n",
    "    torch.nn.Linear(hsize2, 1)\n",
    ").to(device)"
   ]
  },
  {
   "cell_type": "markdown",
   "id": "6409a977",
   "metadata": {},
   "source": [
    "And start training:"
   ]
  },
  {
   "cell_type": "code",
   "execution_count": null,
   "id": "8793a889",
   "metadata": {},
   "outputs": [
    {
     "name": "stdout",
     "output_type": "stream",
     "text": [
      "Epoch: 0, loss: 0.46349757064932157\n",
      "Epoch: 1, loss: 0.4295002950488457\n",
      "Epoch: 2, loss: 0.4227255582809448\n",
      "Epoch: 3, loss: 0.4194903533040945\n",
      "Epoch: 4, loss: 0.4161933082421975\n",
      "Epoch: 5, loss: 0.41442626488528084\n",
      "Epoch: 6, loss: 0.4117933259611683\n",
      "Epoch: 7, loss: 0.409918974951974\n",
      "Epoch: 8, loss: 0.4095359429317926\n",
      "Epoch: 9, loss: 0.40733223824229625\n",
      "Epoch: 10, loss: 0.4060150348315282\n",
      "Epoch: 11, loss: 0.40542341246535735\n",
      "Epoch: 12, loss: 0.404065324525748\n",
      "Epoch: 13, loss: 0.40323235995934475\n",
      "Epoch: 14, loss: 0.4016180704015174\n",
      "Epoch: 15, loss: 0.4020076899988843\n",
      "Epoch: 16, loss: 0.40059379511512816\n",
      "Epoch: 17, loss: 0.39994363406939165\n",
      "Epoch: 18, loss: 0.39820664409281953\n",
      "Epoch: 19, loss: 0.398150879656896\n",
      "Epoch: 20, loss: 0.3973517100592809\n",
      "Epoch: 21, loss: 0.39707725824389073\n",
      "Epoch: 22, loss: 0.3955042596041624\n",
      "Epoch: 23, loss: 0.3960753854563726\n",
      "Epoch: 24, loss: 0.39501276216469705\n",
      "Epoch: 25, loss: 0.3946579004571374\n",
      "Epoch: 26, loss: 0.39336919508475277\n",
      "Epoch: 27, loss: 0.3927339928756867\n",
      "Epoch: 28, loss: 0.39265128787207815\n",
      "Epoch: 29, loss: 0.39145034085959196\n",
      "Epoch: 30, loss: 0.3911734277249447\n",
      "Epoch: 31, loss: 0.39005530682126327\n",
      "Epoch: 32, loss: 0.3902694277265774\n",
      "Epoch: 33, loss: 0.3899349652430309\n",
      "Epoch: 34, loss: 0.38934317380855127\n",
      "Epoch: 35, loss: 0.38934725685976446\n",
      "Epoch: 36, loss: 0.3888395121986313\n",
      "Epoch: 37, loss: 0.38758641937082366\n",
      "Epoch: 38, loss: 0.3866228824813983\n",
      "Epoch: 39, loss: 0.3872190235249166\n",
      "Epoch: 40, loss: 0.3865409423929772\n",
      "Epoch: 41, loss: 0.38718925948653904\n",
      "Epoch: 42, loss: 0.38601168897002935\n",
      "Epoch: 43, loss: 0.38557462982966434\n",
      "Epoch: 44, loss: 0.38449275343944983\n",
      "Epoch: 45, loss: 0.3835361286266042\n",
      "Epoch: 46, loss: 0.3837257699841367\n",
      "Epoch: 47, loss: 0.38322850596159697\n",
      "Epoch: 48, loss: 0.38279763529343264\n",
      "Epoch: 49, loss: 0.38252385719014065\n",
      "Epoch: 50, loss: 0.38216987398586105\n",
      "Epoch: 51, loss: 0.38258736544022603\n",
      "Epoch: 52, loss: 0.381573615063514\n",
      "Epoch: 53, loss: 0.38164684093291207\n",
      "Epoch: 54, loss: 0.3804648918698409\n",
      "Epoch: 55, loss: 0.38036493870562743\n",
      "Epoch: 56, loss: 0.3794036984576711\n",
      "Epoch: 57, loss: 0.3797108101924615\n",
      "Epoch: 58, loss: 0.3796296337885516\n",
      "Epoch: 59, loss: 0.37813905576643136\n",
      "Epoch: 60, loss: 0.37894386132912977\n",
      "Epoch: 61, loss: 0.37890936424290494\n",
      "Epoch: 62, loss: 0.3780763379763812\n",
      "Epoch: 63, loss: 0.37740884787802187\n",
      "Epoch: 64, loss: 0.37799342365802396\n",
      "Epoch: 65, loss: 0.37659537815488875\n",
      "Epoch: 66, loss: 0.37684703967534006\n",
      "Epoch: 67, loss: 0.3764669771439263\n",
      "Epoch: 68, loss: 0.3760061870395605\n",
      "Epoch: 69, loss: 0.3761867823944028\n",
      "Epoch: 70, loss: 0.3747647256324334\n",
      "Epoch: 71, loss: 0.3744730817353619\n",
      "Epoch: 72, loss: 0.37441441598015707\n",
      "Epoch: 73, loss: 0.3742638121226004\n",
      "Epoch: 74, loss: 0.3730027308421476\n",
      "Epoch: 75, loss: 0.3727368223148265\n",
      "Epoch: 76, loss: 0.3718348775125508\n",
      "Epoch: 77, loss: 0.3718047884758562\n",
      "Epoch: 78, loss: 0.37228686126348165\n",
      "Epoch: 79, loss: 0.37233117039847585\n",
      "Epoch: 80, loss: 0.37078445783949326\n",
      "Epoch: 81, loss: 0.3705418659706733\n",
      "Epoch: 82, loss: 0.37155885764929864\n",
      "Epoch: 83, loss: 0.37024217863966313\n",
      "Epoch: 84, loss: 0.37042985863185357\n",
      "Epoch: 85, loss: 0.37004580155813266\n",
      "Epoch: 86, loss: 0.36969783486399266\n",
      "Epoch: 87, loss: 0.3688722074231399\n",
      "Epoch: 88, loss: 0.3681897620470928\n",
      "Epoch: 89, loss: 0.3689138336173658\n",
      "Epoch: 90, loss: 0.36889166102212456\n",
      "Epoch: 91, loss: 0.3685122812499425\n",
      "Epoch: 92, loss: 0.3678717091679573\n",
      "Epoch: 93, loss: 0.36827987069929286\n",
      "Epoch: 94, loss: 0.36637745135729866\n",
      "Epoch: 95, loss: 0.3662173674841012\n",
      "Epoch: 96, loss: 0.3667734933218786\n",
      "Epoch: 97, loss: 0.36630333584201125\n",
      "Epoch: 98, loss: 0.36586450858573827\n",
      "Epoch: 99, loss: 0.3652148133675967\n"
     ]
    }
   ],
   "source": [
    "from torch.optim import Adam\n",
    "\n",
    "loader = torch.utils.data.DataLoader(dataset_train, batch_size=32, shuffle=(device != 'cuda'))\n",
    "loss = torch.nn.BCEWithLogitsLoss()\n",
    "optimizer = Adam(model_uncon.parameters())\n",
    "epochs = 100\n",
    "\n",
    "for epoch in range(epochs):\n",
    "    losses = []\n",
    "    for batch_feat, batch_label in loader:\n",
    "        optimizer.zero_grad()\n",
    "\n",
    "        logit = model_uncon(batch_feat)\n",
    "        loss = torch.nn.functional.binary_cross_entropy_with_logits(logit.squeeze(), batch_label)\n",
    "        loss.backward()\n",
    "\n",
    "        optimizer.step()\n",
    "        losses.append(loss.item())\n",
    "    print(f\"Epoch: {epoch}, loss: {np.mean(losses)}\")"
   ]
  },
  {
   "cell_type": "markdown",
   "id": "ec6ebc1d",
   "metadata": {},
   "source": [
    "Let's now analyze how well the **unconstrained** model does in terms of constraints:"
   ]
  },
  {
   "cell_type": "code",
   "execution_count": null,
   "id": "bd84ec11",
   "metadata": {},
   "outputs": [
    {
     "name": "stdout",
     "output_type": "stream",
     "text": [
      "TRAIN\n",
      "constraints (should be <= 0.01):\n",
      "[0.097 0.015 0.062 0.183 0.055 0.081 0.035 0.086 0.041 0.047 0.168 0.04\n",
      " 0.121 0.007 0.128]\n",
      "c mean: 0.0777715116739273\n",
      "c min: 0.006703734397888184\n",
      "c max: 0.1832037717103958\n",
      "---\n",
      "accuracy: 0.8240424195911533\n",
      "accuracy abs. difference:\n",
      "[0.063 0.004 0.022 0.102 0.023 0.059 0.041 0.038 0.041 0.018 0.097 0.018\n",
      " 0.08  0.001 0.079]\n",
      "acc abs dif mean: 0.045657815374404734\n",
      "acc abs dif min: 0.0006777088020819555\n",
      "acc abs dif max: 0.10155016303823039\n"
     ]
    }
   ],
   "source": [
    "print('TRAIN')\n",
    "model_stats(model_uncon, features_train, labels_train, group_indices_train, constraints, constraint_bound)"
   ]
  },
  {
   "cell_type": "code",
   "execution_count": null,
   "id": "101e001e",
   "metadata": {},
   "outputs": [
    {
     "name": "stdout",
     "output_type": "stream",
     "text": [
      "TEST\n",
      "constraints (should be <= 0.01):\n",
      "[0.079 0.057 0.112 0.03  0.075 0.137 0.191 0.109 0.004 0.055 0.027 0.132\n",
      " 0.082 0.187 0.105]\n",
      "c mean: 0.09223249951998393\n",
      "c min: 0.004368424415588379\n",
      "c max: 0.19137758016586304\n",
      "---\n",
      "accuracy: 0.794921875\n",
      "accuracy abs. difference:\n",
      "[0.022 0.016 0.011 0.083 0.043 0.038 0.033 0.061 0.021 0.005 0.099 0.059\n",
      " 0.094 0.054 0.04 ]\n",
      "acc abs dif mean: 0.04521909230893753\n",
      "acc abs dif min: 0.004741402801242578\n",
      "acc abs dif max: 0.09864360424289464\n"
     ]
    }
   ],
   "source": [
    "print('TEST')\n",
    "model_stats(model_uncon, features_test, labels_test, group_indices_test, constraints, constraint_bound)"
   ]
  },
  {
   "cell_type": "markdown",
   "id": "e16c4fa0",
   "metadata": {},
   "source": [
    "---\n",
    "---"
   ]
  },
  {
   "cell_type": "markdown",
   "id": "a3dbc50a",
   "metadata": {},
   "source": [
    "Now let us train the same model with one of the **constrained** training algorithms:"
   ]
  },
  {
   "cell_type": "code",
   "execution_count": null,
   "id": "8564545d",
   "metadata": {},
   "outputs": [],
   "source": [
    "from humancompatible.train.algorithms import SSLALM, SSG\n",
    "from torch.nn import Sequential\n",
    "\n",
    "hsize1 = 64\n",
    "hsize2 = 32\n",
    "model = Sequential(\n",
    "    torch.nn.Linear(features_train.shape[1], hsize1),\n",
    "    torch.nn.ReLU(),\n",
    "    torch.nn.Linear(hsize1, hsize2),\n",
    "    torch.nn.ReLU(),\n",
    "    torch.nn.Linear(hsize2, 1)\n",
    ")\n",
    "\n",
    "optimizer = SSG(\n",
    "    net=model,\n",
    "    data=dataset_train,\n",
    "    loss=torch.nn.BCEWithLogitsLoss(),\n",
    "    constraints=constraints\n",
    ")\n",
    "\n",
    "history = optimizer.optimize(\n",
    "    max_runtime=180,\n",
    "    batch_size=32,\n",
    "    seed=42,\n",
    "    device=device,\n",
    "    ctol=1.0,\n",
    "    f_stepsize_rule='dimin',\n",
    "    f_stepsize=0.1,\n",
    "    c_stepsize_rule='dimin',\n",
    "    c_stepsize=0.1,\n",
    "    verbose=False\n",
    "    )"
   ]
  },
  {
   "cell_type": "code",
   "execution_count": null,
   "id": "a329bf12",
   "metadata": {},
   "outputs": [
    {
     "name": "stdout",
     "output_type": "stream",
     "text": [
      "TRAIN\n",
      "constraints (should be <= 0.01):\n",
      "[0.008 0.01  0.002 0.009 0.01  0.002 0.01  0.001 0.002 0.011 0.001 0.001\n",
      " 0.011 0.012 0.002]\n",
      "c mean: 0.006037203470865885\n",
      "c min: 0.0006375312805175781\n",
      "c max: 0.012136995792388916\n",
      "---\n",
      "accuracy: 0.7662038652061676\n",
      "accuracy abs. difference:\n",
      "[0.05  0.026 0.071 0.121 0.037 0.024 0.021 0.071 0.012 0.046 0.095 0.012\n",
      " 0.05  0.034 0.084]\n",
      "acc abs dif mean: 0.050338703671629736\n",
      "acc abs dif min: 0.011668145409021724\n",
      "acc abs dif max: 0.12120685429061662\n"
     ]
    }
   ],
   "source": [
    "print('TRAIN')\n",
    "model_stats(model, features_train, labels_train, group_indices_train, constraints, constraint_bound)"
   ]
  },
  {
   "cell_type": "code",
   "execution_count": null,
   "id": "372e50f9",
   "metadata": {},
   "outputs": [
    {
     "name": "stdout",
     "output_type": "stream",
     "text": [
      "TEST\n",
      "constraints (should be <= 0.01):\n",
      "[0.005 0.001 0.021 0.007 0.014 0.006 0.026 0.012 0.009 0.02  0.006 0.015\n",
      " 0.014 0.035 0.021]\n",
      "c mean: 0.0140508770942688\n",
      "c min: 0.0007504820823669434\n",
      "c max: 0.03483313322067261\n",
      "---\n",
      "accuracy: 0.7642299107142857\n",
      "accuracy abs. difference:\n",
      "[0.056 0.002 0.006 0.06  0.041 0.054 0.05  0.003 0.015 0.004 0.057 0.039\n",
      " 0.053 0.035 0.018]\n",
      "acc abs dif mean: 0.033019134885242975\n",
      "acc abs dif min: 0.0023696482327177915\n",
      "acc abs dif max: 0.059619158525802796\n"
     ]
    }
   ],
   "source": [
    "print('TEST')\n",
    "model_stats(model, features_test, labels_test, group_indices_test, constraints, constraint_bound)"
   ]
  }
 ],
 "metadata": {
  "kernelspec": {
   "display_name": "hc-dev",
   "language": "python",
   "name": "python3"
  },
  "language_info": {
   "codemirror_mode": {
    "name": "ipython",
    "version": 3
   },
   "file_extension": ".py",
   "mimetype": "text/x-python",
   "name": "python",
   "nbconvert_exporter": "python",
   "pygments_lexer": "ipython3"
  }
 },
 "nbformat": 4,
 "nbformat_minor": 5
}
