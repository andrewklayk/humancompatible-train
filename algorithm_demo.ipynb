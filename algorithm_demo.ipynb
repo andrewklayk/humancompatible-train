{
 "cells": [
  {
   "cell_type": "markdown",
   "id": "1efc20cc",
   "metadata": {},
   "source": [
    "This notebook will demonstrate how to use the **constrained training algorithms** implemented in this toolkit."
   ]
  },
  {
   "cell_type": "markdown",
   "id": "790ccbc7",
   "metadata": {},
   "source": [
    "To train a network, instantiate an algorithm, passing to it the model, the dataset, a list of `FairnessConstraint`s and the algorithm's hyperparameters."
   ]
  },
  {
   "cell_type": "markdown",
   "id": "5bfe05ba",
   "metadata": {},
   "source": [
    "Load and prepare data from `folktables`:"
   ]
  },
  {
   "cell_type": "code",
   "execution_count": null,
   "id": "58feeb34",
   "metadata": {},
   "outputs": [
    {
     "name": "stdout",
     "output_type": "stream",
     "text": [
      "Protected attribute: RAC1P\n",
      "Number of subgroups considered: 6\n",
      "Size of subgroups: [10685, 794, 1213, 259, 315, 997]\n"
     ]
    }
   ],
   "source": [
    "import numpy as np\n",
    "from sklearn.model_selection import train_test_split\n",
    "from sklearn.preprocessing import StandardScaler\n",
    "import torch\n",
    "from folktables import ACSDataSource, ACSIncome\n",
    "\n",
    "device = 'cpu'\n",
    "torch.set_default_device(device)\n",
    "\n",
    "# load folktables data\n",
    "data_source = ACSDataSource(survey_year='2018', horizon='1-Year', survey='person')\n",
    "acs_data = data_source.get_data(states=[\"OK\"], download=True)\n",
    "features, labels, groups = ACSIncome.df_to_numpy(acs_data)\n",
    "# split\n",
    "X_train, X_test, y_train, y_test, groups_train, groups_test = train_test_split(\n",
    "    features, labels, groups, test_size=0.2, random_state=42)\n",
    "# scale\n",
    "scaler = StandardScaler()\n",
    "X_train = scaler.fit_transform(X_train)\n",
    "X_test = scaler.transform(X_test)\n",
    "\n",
    "# make into a pytorch dataset, remove the sensitive attribute (RAC1P)\n",
    "features_train = torch.tensor(X_train, dtype=torch.float32)[:,:-1].to(device)\n",
    "labels_train = torch.tensor(y_train,dtype=torch.float32).to(device)\n",
    "dataset_train = torch.utils.data.TensorDataset(features_train, labels_train)\n",
    "\n",
    "c_batch_size = 128\n",
    "min_subgroup_size = c_batch_size\n",
    "# For each subgroup, FairnessConstraint needs a list of indices of samples belonging to that subgroup\n",
    "group_indices_train = [\n",
    "    np.nonzero(groups_train == group_id)[0] for group_id in np.unique(groups_train)\n",
    "    if np.count_nonzero(groups == group_id) > min_subgroup_size\n",
    "]\n",
    "\n",
    "# repeat for test set\n",
    "features_test = torch.tensor(X_test, dtype=torch.float32)[:,:-1].to(device)\n",
    "labels_test = torch.tensor(y_test,dtype=torch.float32).to(device)\n",
    "dataset_test = torch.utils.data.TensorDataset(features_test, labels_test)\n",
    "group_indices_test = [\n",
    "    np.nonzero(groups_test == group_id)[0] for group_id in np.unique(groups_test)\n",
    "    if np.count_nonzero(groups == group_id) > min_subgroup_size\n",
    "]\n",
    "\n",
    "print(f'Protected attribute: {ACSIncome.group}')\n",
    "print(f'Number of subgroups considered: {len(group_indices_train)}')\n",
    "print(f'Size of subgroups: {[len(g) for g in group_indices_train]}')"
   ]
  },
  {
   "cell_type": "markdown",
   "id": "4feed165",
   "metadata": {},
   "source": [
    "Let's say we want to add an equal loss constraint on the model.\n",
    "\n",
    "We can do that by using the `FairnessConstraint` class, which will handle sampling (if possible, sampling an equal number of samples from each relevant subgroup in each minibatch), and passing it the function that will calculate the value of the constraint."
   ]
  },
  {
   "cell_type": "code",
   "execution_count": null,
   "id": "c3a2ead3",
   "metadata": {},
   "outputs": [
    {
     "name": "stdout",
     "output_type": "stream",
     "text": [
      "Number of constraints: 15\n"
     ]
    }
   ],
   "source": [
    "from itertools import combinations\n",
    "from src.constraints.constraint import FairnessConstraint\n",
    "from src.constraints.constraint_fns import abs_loss_equality, tpr_equality\n",
    "\n",
    "# the protected attribute is \"Race\" (RAC1P)\n",
    "# we put a pairwise constraint on each combination of subgroups\n",
    "constraint_bound = 0.01\n",
    "constraints = []\n",
    "for gr1, gr2 in combinations(group_indices_train, 2):\n",
    "    c = FairnessConstraint(\n",
    "        dataset=dataset_train,\n",
    "        group_indices=[gr1, gr2],\n",
    "        # subtract bound from absolute loss difference to bring constraint to form $c \\leq 0$\n",
    "        # also implemented are fairret wrappers, e.g. equal TPR\n",
    "        fn=lambda model, samples: abs_loss_equality(torch.nn.BCEWithLogitsLoss(), model, samples) - constraint_bound,\n",
    "        batch_size=c_batch_size,\n",
    "        device=device\n",
    "    )\n",
    "\n",
    "    constraints.append(c)\n",
    "\n",
    "print(f'Number of constraints: {len(constraints)}')"
   ]
  },
  {
   "cell_type": "code",
   "execution_count": null,
   "id": "d6ed01b9",
   "metadata": {},
   "outputs": [],
   "source": [
    "# helper function to analyze model performance\n",
    "\n",
    "def model_stats(model, features, labels, groups, constraints, constraint_bound):\n",
    "    with torch.inference_mode():\n",
    "        gr_ind = list(combinations(groups, 2))\n",
    "        vals = []\n",
    "        acc_dif = []\n",
    "        for i, c in enumerate(constraints):\n",
    "            idx1, idx2 = gr_ind[i]\n",
    "            val = c.eval(model, [(features[idx1], labels[idx1]), (features[idx2], labels[idx2])]) + constraint_bound\n",
    "            vals.append(val.cpu().numpy().item())\n",
    "\n",
    "            logits1 = model(features[idx1])\n",
    "            logits2 = model(features[idx2])\n",
    "            outs1 = torch.nn.functional.sigmoid(logits1).cpu().numpy()\n",
    "            outs2 = torch.nn.functional.sigmoid(logits2).cpu().numpy()\n",
    "            preds1 = (outs1.T > 0.5).astype(float)\n",
    "            preds2 = (outs2.T > 0.5).astype(float) \n",
    "            acc1 = np.mean(preds1 == labels[idx1].cpu().numpy())\n",
    "            acc2 = np.mean(preds2 == labels[idx2].cpu().numpy())\n",
    "            acc_dif.append(abs(acc1-acc2))\n",
    "\n",
    "        print(f'constraints (should be <= {constraint_bound}):')\n",
    "        print(np.round(vals, decimals=3))\n",
    "        print(f'c mean: {np.mean(vals)}')\n",
    "        print(f'c min: {np.min(vals)}')\n",
    "        print(f'c max: {np.max(vals)}')\n",
    "        print('---')\n",
    "\n",
    "        logits = model(features)\n",
    "        outs = torch.nn.functional.sigmoid(logits).cpu().numpy()\n",
    "        preds = (outs.T > 0.5).astype(float)\n",
    "        acc = np.sum(preds == labels.cpu().numpy())/len(labels)\n",
    "        print(f'accuracy: {acc}')\n",
    "        print('accuracy abs. difference:')\n",
    "        print(np.round(acc_dif, decimals=3))\n",
    "        print(f'acc abs dif mean: {np.mean(acc_dif)}')\n",
    "        print(f'acc abs dif min: {np.min(acc_dif)}')\n",
    "        print(f'acc abs dif max: {np.max(acc_dif)}')"
   ]
  },
  {
   "cell_type": "markdown",
   "id": "ea06f697",
   "metadata": {},
   "source": [
    "---\n",
    "---"
   ]
  },
  {
   "cell_type": "markdown",
   "id": "b26213fe",
   "metadata": {},
   "source": [
    "For comparison, let us first train a model **without constraints**."
   ]
  },
  {
   "cell_type": "markdown",
   "id": "7ec89642",
   "metadata": {},
   "source": [
    "Define a model:"
   ]
  },
  {
   "cell_type": "code",
   "execution_count": null,
   "id": "4c957562",
   "metadata": {},
   "outputs": [],
   "source": [
    "from torch.nn import Sequential\n",
    "hsize1 = 64\n",
    "hsize2 = 32\n",
    "model_uncon = Sequential(\n",
    "    torch.nn.Linear(features_train.shape[1], hsize1),\n",
    "    torch.nn.ReLU(),\n",
    "    torch.nn.Linear(hsize1, hsize2),\n",
    "    torch.nn.ReLU(),\n",
    "    torch.nn.Linear(hsize2, 1)\n",
    ").to(device)"
   ]
  },
  {
   "cell_type": "markdown",
   "id": "6409a977",
   "metadata": {},
   "source": [
    "And start training:"
   ]
  },
  {
   "cell_type": "code",
   "execution_count": null,
   "id": "8793a889",
   "metadata": {},
   "outputs": [
    {
     "name": "stdout",
     "output_type": "stream",
     "text": [
      "Epoch: 0, loss: 0.4642235327711595\n",
      "Epoch: 1, loss: 0.4293003898513104\n",
      "Epoch: 2, loss: 0.42335555399768054\n",
      "Epoch: 3, loss: 0.4196424624283931\n",
      "Epoch: 4, loss: 0.4175680346920022\n",
      "Epoch: 5, loss: 0.41486163972876966\n",
      "Epoch: 6, loss: 0.4139517352783254\n",
      "Epoch: 7, loss: 0.41123612145228045\n",
      "Epoch: 8, loss: 0.41036991043282406\n",
      "Epoch: 9, loss: 0.40926071751995813\n",
      "Epoch: 10, loss: 0.40827423497103155\n",
      "Epoch: 11, loss: 0.4069685044565371\n",
      "Epoch: 12, loss: 0.40704553817132755\n",
      "Epoch: 13, loss: 0.40542702303667155\n",
      "Epoch: 14, loss: 0.4030081082933715\n",
      "Epoch: 15, loss: 0.402854029188997\n",
      "Epoch: 16, loss: 0.40264014064866516\n",
      "Epoch: 17, loss: 0.4018292943947017\n",
      "Epoch: 18, loss: 0.4005603741388768\n",
      "Epoch: 19, loss: 0.39991264747056576\n",
      "Epoch: 20, loss: 0.39948308022160617\n",
      "Epoch: 21, loss: 0.3977042373070227\n",
      "Epoch: 22, loss: 0.3978979098277965\n",
      "Epoch: 23, loss: 0.3971360599222992\n",
      "Epoch: 24, loss: 0.3965825682306396\n",
      "Epoch: 25, loss: 0.39528360883040087\n",
      "Epoch: 26, loss: 0.3952076831566436\n",
      "Epoch: 27, loss: 0.394789488121335\n",
      "Epoch: 28, loss: 0.3939208591556443\n",
      "Epoch: 29, loss: 0.3939340027448322\n",
      "Epoch: 30, loss: 0.3929075477977416\n",
      "Epoch: 31, loss: 0.3923278019231345\n",
      "Epoch: 32, loss: 0.39156716047520085\n",
      "Epoch: 33, loss: 0.3919449131270604\n",
      "Epoch: 34, loss: 0.39073002374997096\n",
      "Epoch: 35, loss: 0.39051303097845186\n",
      "Epoch: 36, loss: 0.3899189194531313\n",
      "Epoch: 37, loss: 0.38909248345797615\n",
      "Epoch: 38, loss: 0.389134583662131\n",
      "Epoch: 39, loss: 0.38893832908278064\n",
      "Epoch: 40, loss: 0.3877227986231446\n",
      "Epoch: 41, loss: 0.38734230063190417\n",
      "Epoch: 42, loss: 0.3873482831155083\n",
      "Epoch: 43, loss: 0.3872168723360768\n",
      "Epoch: 44, loss: 0.38697762780689765\n",
      "Epoch: 45, loss: 0.38569460679510875\n",
      "Epoch: 46, loss: 0.38506671679871424\n",
      "Epoch: 47, loss: 0.3855174164221223\n",
      "Epoch: 48, loss: 0.38503570036430446\n",
      "Epoch: 49, loss: 0.38440422620624304\n",
      "Epoch: 50, loss: 0.3840101764071733\n",
      "Epoch: 51, loss: 0.3835918906676982\n",
      "Epoch: 52, loss: 0.3830382922398193\n",
      "Epoch: 53, loss: 0.38325875003023874\n",
      "Epoch: 54, loss: 0.38267045167075203\n",
      "Epoch: 55, loss: 0.3823213039764336\n",
      "Epoch: 56, loss: 0.3821711873835219\n",
      "Epoch: 57, loss: 0.38132210528211935\n",
      "Epoch: 58, loss: 0.38085459837956087\n",
      "Epoch: 59, loss: 0.380660119366699\n",
      "Epoch: 60, loss: 0.38020144316500853\n",
      "Epoch: 61, loss: 0.37971994147769045\n",
      "Epoch: 62, loss: 0.37906123591320856\n",
      "Epoch: 63, loss: 0.37932917731814086\n",
      "Epoch: 64, loss: 0.378760632227308\n",
      "Epoch: 65, loss: 0.378543665532821\n",
      "Epoch: 66, loss: 0.37823646229558755\n",
      "Epoch: 67, loss: 0.378675726342148\n",
      "Epoch: 68, loss: 0.3775941289828292\n",
      "Epoch: 69, loss: 0.37769484270497095\n",
      "Epoch: 70, loss: 0.3773762048887355\n",
      "Epoch: 71, loss: 0.3770425637319152\n",
      "Epoch: 72, loss: 0.37635710888675283\n",
      "Epoch: 73, loss: 0.3758785354106554\n",
      "Epoch: 74, loss: 0.37620948331563603\n",
      "Epoch: 75, loss: 0.3748197360629482\n",
      "Epoch: 76, loss: 0.375041030713224\n",
      "Epoch: 77, loss: 0.375285562793059\n",
      "Epoch: 78, loss: 0.3746543423538761\n",
      "Epoch: 79, loss: 0.374168719796996\n",
      "Epoch: 80, loss: 0.37315306573041845\n",
      "Epoch: 81, loss: 0.37449578827779206\n",
      "Epoch: 82, loss: 0.37369312854882863\n",
      "Epoch: 83, loss: 0.37333609799056183\n",
      "Epoch: 84, loss: 0.37308689592672245\n",
      "Epoch: 85, loss: 0.372309656447864\n",
      "Epoch: 86, loss: 0.37200959243013393\n",
      "Epoch: 87, loss: 0.37230217453491476\n",
      "Epoch: 88, loss: 0.37178379157558084\n",
      "Epoch: 89, loss: 0.3710946610330471\n",
      "Epoch: 90, loss: 0.3711938596596675\n",
      "Epoch: 91, loss: 0.3708337029176099\n",
      "Epoch: 92, loss: 0.3702425799066467\n",
      "Epoch: 93, loss: 0.37082634553579347\n",
      "Epoch: 94, loss: 0.368790007528982\n",
      "Epoch: 95, loss: 0.3694465529572751\n",
      "Epoch: 96, loss: 0.3694813261473818\n",
      "Epoch: 97, loss: 0.3687312745023519\n",
      "Epoch: 98, loss: 0.3683272294833192\n",
      "Epoch: 99, loss: 0.36804260027461816\n"
     ]
    }
   ],
   "source": [
    "from torch.optim import Adam\n",
    "\n",
    "loader = torch.utils.data.DataLoader(dataset_train, batch_size=32, shuffle=(device != 'cuda'))\n",
    "loss = torch.nn.BCEWithLogitsLoss()\n",
    "optimizer = Adam(model_uncon.parameters())\n",
    "epochs = 100\n",
    "\n",
    "for epoch in range(epochs):\n",
    "    losses = []\n",
    "    for batch_feat, batch_label in loader:\n",
    "        optimizer.zero_grad()\n",
    "\n",
    "        logit = model_uncon(batch_feat)\n",
    "        loss = torch.nn.functional.binary_cross_entropy_with_logits(logit.squeeze(), batch_label)\n",
    "        loss.backward()\n",
    "\n",
    "        optimizer.step()\n",
    "        losses.append(loss.item())\n",
    "    print(f\"Epoch: {epoch}, loss: {np.mean(losses)}\")"
   ]
  },
  {
   "cell_type": "markdown",
   "id": "ec6ebc1d",
   "metadata": {},
   "source": [
    "Let's now analyze how well the **unconstrained** model does in terms of constraints:"
   ]
  },
  {
   "cell_type": "code",
   "execution_count": null,
   "id": "bd84ec11",
   "metadata": {},
   "outputs": [
    {
     "name": "stdout",
     "output_type": "stream",
     "text": [
      "TRAIN\n",
      "constraints (should be <= 0.01):\n",
      "[0.087 0.018 0.09  0.172 0.056 0.069 0.003 0.085 0.031 0.072 0.154 0.039\n",
      " 0.082 0.033 0.116]\n",
      "c mean: 0.07374673883120218\n",
      "c min: 0.0027457773685455322\n",
      "c max: 0.1718178391456604\n",
      "---\n",
      "accuracy: 0.8260657224586618\n",
      "accuracy abs. difference:\n",
      "[0.059 0.004 0.074 0.099 0.014 0.055 0.015 0.041 0.045 0.07  0.096 0.01\n",
      " 0.026 0.06  0.086]\n",
      "acc abs dif mean: 0.05016161364761892\n",
      "acc abs dif min: 0.003959985818891454\n",
      "acc abs dif max: 0.09949120187772498\n"
     ]
    }
   ],
   "source": [
    "print('TRAIN')\n",
    "model_stats(model_uncon, features_train, labels_train, group_indices_train, constraints, constraint_bound)"
   ]
  },
  {
   "cell_type": "code",
   "execution_count": null,
   "id": "101e001e",
   "metadata": {},
   "outputs": [
    {
     "name": "stdout",
     "output_type": "stream",
     "text": [
      "TEST\n",
      "constraints (should be <= 0.01):\n",
      "[0.051 0.069 0.032 0.023 0.079 0.119 0.082 0.028 0.029 0.037 0.091 0.148\n",
      " 0.054 0.111 0.057]\n",
      "c mean: 0.06724767088890075\n",
      "c min: 0.02253669500350952\n",
      "c max: 0.14789214730262756\n",
      "---\n",
      "accuracy: 0.7915736607142857\n",
      "accuracy abs. difference:\n",
      "[0.036 0.023 0.009 0.05  0.038 0.059 0.045 0.015 0.002 0.014 0.074 0.061\n",
      " 0.059 0.047 0.012]\n",
      "acc abs dif mean: 0.03640103546705118\n",
      "acc abs dif min: 0.0021533979352713617\n",
      "acc abs dif max: 0.0738071478730088\n"
     ]
    }
   ],
   "source": [
    "print('TEST')\n",
    "model_stats(model_uncon, features_test, labels_test, group_indices_test, constraints, constraint_bound)"
   ]
  },
  {
   "cell_type": "markdown",
   "id": "e16c4fa0",
   "metadata": {},
   "source": [
    "---\n",
    "---"
   ]
  },
  {
   "cell_type": "markdown",
   "id": "a3dbc50a",
   "metadata": {},
   "source": [
    "Now let us train the same model with one of the **constrained** training algorithms:"
   ]
  },
  {
   "cell_type": "code",
   "execution_count": null,
   "id": "8564545d",
   "metadata": {},
   "outputs": [],
   "source": [
    "from src.algorithms import SSLALM, SSG\n",
    "from torch.nn import Sequential\n",
    "\n",
    "hsize1 = 64\n",
    "hsize2 = 32\n",
    "model = Sequential(\n",
    "    torch.nn.Linear(features_train.shape[1], hsize1),\n",
    "    torch.nn.ReLU(),\n",
    "    torch.nn.Linear(hsize1, hsize2),\n",
    "    torch.nn.ReLU(),\n",
    "    torch.nn.Linear(hsize2, 1)\n",
    ")\n",
    "\n",
    "optimizer = SSG(\n",
    "    net=model,\n",
    "    data=dataset_train,\n",
    "    loss=torch.nn.BCEWithLogitsLoss(),\n",
    "    constraints=constraints\n",
    ")\n",
    "\n",
    "history = optimizer.optimize(\n",
    "    max_runtime=180,\n",
    "    batch_size=32,\n",
    "    seed=42,\n",
    "    device=device,\n",
    "    ctol=1.0,\n",
    "    f_stepsize_rule='dimin',\n",
    "    f_stepsize=0.1,\n",
    "    c_stepsize_rule='dimin',\n",
    "    c_stepsize=0.1,\n",
    "    verbose=False\n",
    "    )"
   ]
  },
  {
   "cell_type": "code",
   "execution_count": null,
   "id": "a329bf12",
   "metadata": {},
   "outputs": [
    {
     "name": "stdout",
     "output_type": "stream",
     "text": [
      "TRAIN\n",
      "constraints (should be <= 0.01):\n",
      "[0.017 0.017 0.001 0.013 0.015 0.    0.015 0.003 0.002 0.015 0.003 0.002\n",
      " 0.012 0.014 0.002]\n",
      "c mean: 0.008758107821146647\n",
      "c min: 0.0002809762954711914\n",
      "c max: 0.0168074369430542\n",
      "---\n",
      "accuracy: 0.7457615293378915\n",
      "accuracy abs. difference:\n",
      "[0.085 0.067 0.077 0.144 0.064 0.018 0.008 0.059 0.021 0.01  0.077 0.003\n",
      " 0.067 0.013 0.079]\n",
      "acc abs dif mean: 0.052704355578546074\n",
      "acc abs dif min: 0.0027039072700376643\n",
      "acc abs dif max: 0.14368310418848562\n"
     ]
    }
   ],
   "source": [
    "print('TRAIN')\n",
    "model_stats(model, features_train, labels_train, group_indices_train, constraints, constraint_bound)"
   ]
  },
  {
   "cell_type": "code",
   "execution_count": null,
   "id": "372e50f9",
   "metadata": {},
   "outputs": [
    {
     "name": "stdout",
     "output_type": "stream",
     "text": [
      "TEST\n",
      "constraints (should be <= 0.01):\n",
      "[0.019 0.002 0.026 0.004 0.022 0.017 0.045 0.015 0.003 0.028 0.002 0.02\n",
      " 0.03  0.048 0.018]\n",
      "c mean: 0.01985848347345988\n",
      "c min: 0.0017260313034057617\n",
      "c max: 0.04803180694580078\n",
      "---\n",
      "accuracy: 0.7452566964285714\n",
      "accuracy abs. difference:\n",
      "[0.086 0.02  0.088 0.061 0.087 0.066 0.175 0.026 0.001 0.108 0.041 0.067\n",
      " 0.149 0.175 0.026]\n",
      "acc abs dif mean: 0.0784395204252176\n",
      "acc abs dif min: 0.0007811345451474994\n",
      "acc abs dif max: 0.17542678822737567\n"
     ]
    }
   ],
   "source": [
    "print('TEST')\n",
    "model_stats(model, features_test, labels_test, group_indices_test, constraints, constraint_bound)"
   ]
  }
 ],
 "metadata": {
  "kernelspec": {
   "display_name": "hc-vision",
   "language": "python",
   "name": "python3"
  },
  "language_info": {
   "codemirror_mode": {
    "name": "ipython",
    "version": 3
   },
   "file_extension": ".py",
   "mimetype": "text/x-python",
   "name": "python",
   "nbconvert_exporter": "python",
   "pygments_lexer": "ipython3"
  }
 },
 "nbformat": 4,
 "nbformat_minor": 5
}
