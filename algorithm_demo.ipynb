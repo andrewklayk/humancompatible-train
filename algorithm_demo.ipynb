{
 "cells": [
  {
   "cell_type": "markdown",
   "id": "1efc20cc",
   "metadata": {},
   "source": [
    "This notebook will demonstrate how to use the **constrained training algorithms** implemented in this toolkit."
   ]
  },
  {
   "cell_type": "markdown",
   "id": "790ccbc7",
   "metadata": {},
   "source": [
    "To train a network, instantiate an algorithm, passing to it the model, the dataset, a list of `FairnessConstraint`s and the algorithm's hyperparameters."
   ]
  },
  {
   "cell_type": "markdown",
   "id": "5bfe05ba",
   "metadata": {},
   "source": [
    "Load and prepare data from `folktables`:"
   ]
  },
  {
   "cell_type": "code",
   "execution_count": null,
   "id": "58feeb34",
   "metadata": {},
   "outputs": [
    {
     "name": "stdout",
     "output_type": "stream",
     "text": [
      "Protected attribute: RAC1P\n",
      "Number of subgroups considered: 7\n",
      "Size of subgroups: [10685, 794, 1213, 59, 259, 315, 997]\n"
     ]
    }
   ],
   "source": [
    "import numpy as np\n",
    "from sklearn.model_selection import train_test_split\n",
    "from sklearn.preprocessing import StandardScaler\n",
    "import torch\n",
    "from folktables import ACSDataSource, ACSIncome\n",
    "\n",
    "# load folktables data\n",
    "data_source = ACSDataSource(survey_year='2018', horizon='1-Year', survey='person')\n",
    "acs_data = data_source.get_data(states=[\"OK\"], download=True)\n",
    "features, labels, groups = ACSIncome.df_to_numpy(acs_data)\n",
    "# split\n",
    "X_train, X_test, y_train, y_test, groups_train, groups_test = train_test_split(\n",
    "    features, labels, groups, test_size=0.2, random_state=42)\n",
    "# scale\n",
    "scaler = StandardScaler()\n",
    "X_train = scaler.fit_transform(X_train)\n",
    "X_test = scaler.transform(X_test)\n",
    "\n",
    "# make into a pytorch dataset, remove the sensitive attribute (RAC1P)\n",
    "features_train = torch.tensor(X_train, dtype=torch.float32)[:,:-1]\n",
    "labels_train = torch.tensor(y_train,dtype=torch.float32)\n",
    "dataset_train = torch.utils.data.TensorDataset(features_train, labels_train)\n",
    "\n",
    "c_batch_size = 32\n",
    "min_subgroup_size = 32\n",
    "# For each subgroup, FairnessConstraint needs a list of indices of samples belonging to that subgroup\n",
    "group_indices_train = [\n",
    "    np.nonzero(groups_train == group_id)[0] for group_id in np.unique(groups_train)\n",
    "    if np.count_nonzero(groups == group_id) > min_subgroup_size\n",
    "]\n",
    "\n",
    "# repeat for test set\n",
    "features_test = torch.tensor(X_test, dtype=torch.float32)[:,:-1]\n",
    "labels_test = torch.tensor(y_test,dtype=torch.float32)\n",
    "dataset_test = torch.utils.data.TensorDataset(features_test, labels_test)\n",
    "group_indices_test = [\n",
    "    np.nonzero(groups_test == group_id)[0] for group_id in np.unique(groups_test)\n",
    "    if np.count_nonzero(groups == group_id) > min_subgroup_size\n",
    "]\n",
    "\n",
    "print(f'Protected attribute: {ACSIncome.group}')\n",
    "print(f'Number of subgroups considered: {len(group_indices_train)}')\n",
    "print(f'Size of subgroups: {[len(g) for g in group_indices_train]}')"
   ]
  },
  {
   "cell_type": "markdown",
   "id": "4feed165",
   "metadata": {},
   "source": [
    "Let's say we want to add an equal loss constraint on the model.\n",
    "\n",
    "We can do that by using the `FairnessConstraint` class, which will handle sampling (if possible, sampling an equal number of samples from each relevant subgroup in each minibatch), and passing it the function that will calculate the value of the constraint."
   ]
  },
  {
   "cell_type": "code",
   "execution_count": null,
   "id": "c3a2ead3",
   "metadata": {},
   "outputs": [
    {
     "name": "stdout",
     "output_type": "stream",
     "text": [
      "Number of constraints: 21\n"
     ]
    }
   ],
   "source": [
    "from itertools import combinations\n",
    "from src.constraints.constraint import FairnessConstraint\n",
    "from src.constraints.constraint_fns import loss_equality\n",
    "\n",
    "# the protected attribute is \"Race\" (RAC1P)\n",
    "# we put a pairwise constraint on each combination of subgroups\n",
    "constraint_bound = 0.05\n",
    "constraints = []\n",
    "for gr1, gr2 in combinations(group_indices_train, 2):\n",
    "    c = FairnessConstraint(\n",
    "        dataset=dataset_train,\n",
    "        group_indices=[gr1, gr2],\n",
    "        # subtract bound from absolute loss difference to bring constraint to form $c \\leq 0$\n",
    "        fn=lambda model, samples: torch.abs(loss_equality(torch.nn.BCEWithLogitsLoss(), model, samples)) - constraint_bound,\n",
    "        batch_size=c_batch_size,\n",
    "        seed=0\n",
    "    )\n",
    "\n",
    "    constraints.append(c)\n",
    "\n",
    "print(f'Number of constraints: {len(constraints)}')"
   ]
  },
  {
   "cell_type": "code",
   "execution_count": null,
   "id": "d6ed01b9",
   "metadata": {},
   "outputs": [],
   "source": [
    "# helper function to analyze model performance\n",
    "\n",
    "def model_stats(model, features, labels, groups):\n",
    "    with torch.inference_mode():\n",
    "        gr_ind = list(combinations(groups, 2))\n",
    "        vals = []\n",
    "        acc_dif = []\n",
    "        for i, c in enumerate(constraints[::2]):\n",
    "            idx1, idx2 = gr_ind[i]\n",
    "            val = c.eval(model, [(features[idx1], labels[idx1]), (features[idx2], labels[idx2])]) + constraint_bound\n",
    "            vals.append(abs(val.numpy().item()))\n",
    "\n",
    "            logits1 = model(features[idx1])\n",
    "            logits2 = model(features[idx2])\n",
    "            outs1 = torch.nn.functional.sigmoid(logits1).numpy()\n",
    "            outs2 = torch.nn.functional.sigmoid(logits2).numpy()\n",
    "            preds1 = (outs1.T > 0.5).astype(float)\n",
    "            preds2 = (outs2.T > 0.5).astype(float) \n",
    "            acc1 = np.mean(preds1 == labels[idx1].numpy())\n",
    "            acc2 = np.mean(preds2 == labels[idx2].numpy())\n",
    "            acc_dif.append(abs(acc1-acc2))\n",
    "\n",
    "        print(f'constraints (should be <= {constraint_bound}):')\n",
    "        print(np.round(vals, decimals=3))\n",
    "        print(f'c mean: {np.mean(vals)}')\n",
    "        print(f'c min: {np.min(vals)}')\n",
    "        print(f'c max: {np.max(vals)}')\n",
    "        print('---')\n",
    "\n",
    "        logits = model(features)\n",
    "        outs = torch.nn.functional.sigmoid(logits).numpy()\n",
    "        preds = (outs.T > 0.5).astype(float)\n",
    "        acc = np.sum(preds == labels.numpy())/len(labels)\n",
    "        print(f'accuracy: {acc}')\n",
    "        print('accuracy abs. difference:')\n",
    "        print(np.round(acc_dif, decimals=3))\n",
    "        print(f'acc abs dif mean: {np.mean(acc_dif)}')\n",
    "        print(f'acc abs dif min: {np.min(acc_dif)}')\n",
    "        print(f'acc abs dif max: {np.max(acc_dif)}')"
   ]
  },
  {
   "cell_type": "markdown",
   "id": "ea06f697",
   "metadata": {},
   "source": [
    "---\n",
    "---"
   ]
  },
  {
   "cell_type": "markdown",
   "id": "b26213fe",
   "metadata": {},
   "source": [
    "For comparison, let us first train a model **without constraints**."
   ]
  },
  {
   "cell_type": "markdown",
   "id": "7ec89642",
   "metadata": {},
   "source": [
    "Define a model:"
   ]
  },
  {
   "cell_type": "code",
   "execution_count": null,
   "id": "4c957562",
   "metadata": {},
   "outputs": [],
   "source": [
    "from torch.nn import Sequential\n",
    "hsize1 = 64\n",
    "hsize2 = 32\n",
    "model_uncon = Sequential(\n",
    "    torch.nn.Linear(features_train.shape[1], hsize1),\n",
    "    torch.nn.ReLU(),\n",
    "    torch.nn.Linear(hsize1, hsize2),\n",
    "    torch.nn.ReLU(),\n",
    "    torch.nn.Linear(hsize2, 1)\n",
    ")"
   ]
  },
  {
   "cell_type": "markdown",
   "id": "6409a977",
   "metadata": {},
   "source": [
    "And start training:"
   ]
  },
  {
   "cell_type": "code",
   "execution_count": null,
   "id": "8793a889",
   "metadata": {},
   "outputs": [
    {
     "name": "stdout",
     "output_type": "stream",
     "text": [
      "Epoch: 0, loss: 0.4567770318327738\n",
      "Epoch: 1, loss: 0.4267354179506323\n",
      "Epoch: 2, loss: 0.42177021729626823\n",
      "Epoch: 3, loss: 0.41923434915952384\n",
      "Epoch: 4, loss: 0.4167473852368338\n",
      "Epoch: 5, loss: 0.4148108066791402\n",
      "Epoch: 6, loss: 0.41341322707012296\n",
      "Epoch: 7, loss: 0.4125295749399811\n",
      "Epoch: 8, loss: 0.4119187536915498\n",
      "Epoch: 9, loss: 0.41052870083201143\n",
      "Epoch: 10, loss: 0.4095372299530676\n",
      "Epoch: 11, loss: 0.4085638278962246\n",
      "Epoch: 12, loss: 0.40801226420860204\n",
      "Epoch: 13, loss: 0.4076137725662972\n",
      "Epoch: 14, loss: 0.4061356251061495\n",
      "Epoch: 15, loss: 0.40524284524976145\n",
      "Epoch: 16, loss: 0.4051640779445214\n",
      "Epoch: 17, loss: 0.4038818087761423\n",
      "Epoch: 18, loss: 0.40338663783456596\n",
      "Epoch: 19, loss: 0.40176192541340633\n",
      "Epoch: 20, loss: 0.4007976305271898\n",
      "Epoch: 21, loss: 0.40091671312360894\n",
      "Epoch: 22, loss: 0.40019975090399384\n",
      "Epoch: 23, loss: 0.3993254276325128\n",
      "Epoch: 24, loss: 0.3990602514240891\n",
      "Epoch: 25, loss: 0.39761721761897206\n",
      "Epoch: 26, loss: 0.3975723823865077\n",
      "Epoch: 27, loss: 0.39697754393065615\n",
      "Epoch: 28, loss: 0.3963453410126801\n",
      "Epoch: 29, loss: 0.39607338504200534\n",
      "Epoch: 30, loss: 0.39504804335800664\n",
      "Epoch: 31, loss: 0.3942838875643377\n",
      "Epoch: 32, loss: 0.3943626855699612\n",
      "Epoch: 33, loss: 0.3941929980646819\n",
      "Epoch: 34, loss: 0.3925179587677121\n",
      "Epoch: 35, loss: 0.3928385819641075\n",
      "Epoch: 36, loss: 0.3926107321333672\n",
      "Epoch: 37, loss: 0.3921529855911753\n",
      "Epoch: 38, loss: 0.39111863216385245\n",
      "Epoch: 39, loss: 0.39101101238546626\n",
      "Epoch: 40, loss: 0.39004249923995565\n",
      "Epoch: 41, loss: 0.38968608109280467\n",
      "Epoch: 42, loss: 0.3890957736875862\n",
      "Epoch: 43, loss: 0.3887856855788933\n",
      "Epoch: 44, loss: 0.38853218130368206\n",
      "Epoch: 45, loss: 0.38814738153346945\n",
      "Epoch: 46, loss: 0.38739122916013\n",
      "Epoch: 47, loss: 0.3869896418015872\n",
      "Epoch: 48, loss: 0.3868799282437457\n",
      "Epoch: 49, loss: 0.386131253791973\n"
     ]
    }
   ],
   "source": [
    "from torch.optim import Adam\n",
    "\n",
    "loader = torch.utils.data.DataLoader(dataset_train, batch_size=32, shuffle=True)\n",
    "loss = torch.nn.BCEWithLogitsLoss()\n",
    "optimizer = Adam(model_uncon.parameters())\n",
    "epochs = 50\n",
    "\n",
    "for epoch in range(epochs):\n",
    "    losses = []\n",
    "    for batch_feat, batch_label in loader:\n",
    "        optimizer.zero_grad()\n",
    "\n",
    "        logit = model_uncon(batch_feat)\n",
    "        loss = torch.nn.functional.binary_cross_entropy_with_logits(logit.squeeze(), batch_label)\n",
    "        loss.backward()\n",
    "\n",
    "        optimizer.step()\n",
    "        losses.append(loss.item())\n",
    "    print(f\"Epoch: {epoch}, loss: {np.mean(losses)}\")"
   ]
  },
  {
   "cell_type": "markdown",
   "id": "ec6ebc1d",
   "metadata": {},
   "source": [
    "Let's now analyze how well the **unconstrained** model does in terms of constraints:"
   ]
  },
  {
   "cell_type": "code",
   "execution_count": null,
   "id": "bd84ec11",
   "metadata": {},
   "outputs": [
    {
     "name": "stdout",
     "output_type": "stream",
     "text": [
      "TRAIN\n",
      "constraints (should be <= 0.05):\n",
      "[0.09  0.011 0.041 0.049 0.168 0.058 0.079 0.131 0.041 0.078 0.032]\n",
      "c mean: 0.07068421894853766\n",
      "c min: 0.01083877682685852\n",
      "c max: 0.16823594272136688\n",
      "---\n",
      "accuracy: 0.815530593734738\n",
      "accuracy abs. difference:\n",
      "[0.055 0.007 0.01  0.039 0.098 0.034 0.048 0.065 0.016 0.043 0.021]\n",
      "acc abs dif mean: 0.03959708931426114\n",
      "acc abs dif min: 0.007040249118406505\n",
      "acc abs dif max: 0.09811707556209193\n"
     ]
    }
   ],
   "source": [
    "print('TRAIN')\n",
    "model_stats(model_uncon, features_train, labels_train, group_indices_train)"
   ]
  },
  {
   "cell_type": "code",
   "execution_count": null,
   "id": "101e001e",
   "metadata": {},
   "outputs": [
    {
     "name": "stdout",
     "output_type": "stream",
     "text": [
      "TEST\n",
      "constraints (should be <= 0.05):\n",
      "[0.037 0.064 0.401 0.064 0.034 0.084 0.101 0.438 0.102 0.004 0.047]\n",
      "c mean: 0.12501090223138983\n",
      "c min: 0.003509730100631714\n",
      "c max: 0.43779516220092773\n",
      "---\n",
      "accuracy: 0.79296875\n",
      "accuracy abs. difference:\n",
      "[0.038 0.056 0.125 0.029 0.047 0.049 0.094 0.164 0.068 0.009 0.011]\n",
      "acc abs dif mean: 0.06271492998802909\n",
      "acc abs dif min: 0.008671103044968764\n",
      "acc abs dif max: 0.16374269005847952\n"
     ]
    }
   ],
   "source": [
    "print('TEST')\n",
    "model_stats(model_uncon, features_test, labels_test, group_indices_test)"
   ]
  },
  {
   "cell_type": "markdown",
   "id": "e16c4fa0",
   "metadata": {},
   "source": [
    "---\n",
    "---"
   ]
  },
  {
   "cell_type": "markdown",
   "id": "a3dbc50a",
   "metadata": {},
   "source": [
    "Now let us train the same model with one of the **constrained** training algorithms:"
   ]
  },
  {
   "cell_type": "code",
   "execution_count": null,
   "id": "8564545d",
   "metadata": {},
   "outputs": [
    {
     "name": "stdout",
     "output_type": "stream",
     "text": [
      " 9|   55|0.010|[ 0.793 -0.012 -0.005  0.059  0.216  0.521 -0.001  0.013  0.142 -0.017 -0.004 -0.012  0.025  0.008 -0.010 -0.018  0.017  0.146  0.020  0.295 -0.013]|[-0.027 -0.039 -0.045  0.013  0.053  0.049 -0.005 -0.028  0.006 -0.034  0.018 -0.044 -0.046 -0.012  0.038 -0.048 -0.043 -0.007 -0.009 -0.043 -0.030]|\r"
     ]
    }
   ],
   "source": [
    "from src.algorithms import SSLALM\n",
    "from torch.nn import Sequential\n",
    "\n",
    "hsize1 = 64\n",
    "hsize2 = 32\n",
    "model = Sequential(\n",
    "    torch.nn.Linear(features_train.shape[1], hsize1),\n",
    "    torch.nn.ReLU(),\n",
    "    torch.nn.Linear(hsize1, hsize2),\n",
    "    torch.nn.ReLU(),\n",
    "    torch.nn.Linear(hsize2, 1)\n",
    ")\n",
    "\n",
    "optimizer = SSLALM(\n",
    "    net=model,\n",
    "    data=dataset_train,\n",
    "    loss=torch.nn.BCEWithLogitsLoss(),\n",
    "    constraints=constraints,\n",
    ")\n",
    "\n",
    "history = optimizer.optimize(max_runtime=180,batch_size=32,seed=42)"
   ]
  },
  {
   "cell_type": "code",
   "execution_count": null,
   "id": "a329bf12",
   "metadata": {},
   "outputs": [
    {
     "name": "stdout",
     "output_type": "stream",
     "text": [
      "TRAIN\n",
      "constraints (should be <= 0.05):\n",
      "[0.032 0.017 0.001 0.02  0.033 0.035 0.015 0.034 0.013 0.001 0.003]\n",
      "c mean: 0.018650136210701683\n",
      "c min: 0.0010441243648529053\n",
      "c max: 0.035471320152282715\n",
      "---\n",
      "accuracy: 0.7885997348775553\n",
      "accuracy abs. difference:\n",
      "[0.071 0.023 0.004 0.074 0.113 0.045 0.048 0.067 0.003 0.043 0.026]\n",
      "acc abs dif mean: 0.04679565636107975\n",
      "acc abs dif min: 0.0030732423679527\n",
      "acc abs dif max: 0.11312847709665674\n"
     ]
    }
   ],
   "source": [
    "print('TRAIN')\n",
    "model_stats(model, features_train, labels_train, group_indices_train)"
   ]
  },
  {
   "cell_type": "code",
   "execution_count": null,
   "id": "372e50f9",
   "metadata": {},
   "outputs": [
    {
     "name": "stdout",
     "output_type": "stream",
     "text": [
      "TEST\n",
      "constraints (should be <= 0.05):\n",
      "[0.016 0.027 0.082 0.052 0.017 0.047 0.042 0.097 0.068 0.001 0.031]\n",
      "c mean: 0.04356678507544778\n",
      "c min: 0.0011366009712219238\n",
      "c max: 0.09749960899353027\n",
      "---\n",
      "accuracy: 0.7876674107142857\n",
      "accuracy abs. difference:\n",
      "[0.084 0.026 0.052 0.053 0.069 0.045 0.11  0.032 0.137 0.015 0.039]\n",
      "acc abs dif mean: 0.06007948193801135\n",
      "acc abs dif min: 0.014922363379713643\n",
      "acc abs dif max: 0.13668351670135792\n"
     ]
    }
   ],
   "source": [
    "print('TEST')\n",
    "model_stats(model, features_test, labels_test, group_indices_test)"
   ]
  }
 ],
 "metadata": {
  "kernelspec": {
   "display_name": "hc-dev",
   "language": "python",
   "name": "python3"
  },
  "language_info": {
   "codemirror_mode": {
    "name": "ipython",
    "version": 3
   },
   "file_extension": ".py",
   "mimetype": "text/x-python",
   "name": "python",
   "nbconvert_exporter": "python",
   "pygments_lexer": "ipython3"
  }
 },
 "nbformat": 4,
 "nbformat_minor": 5
}
