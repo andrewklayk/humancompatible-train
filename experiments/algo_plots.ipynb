{
 "cells": [
  {
   "cell_type": "code",
   "execution_count": null,
   "metadata": {},
   "outputs": [],
   "source": [
    "import pandas as pd\n",
    "from utils.plotting import plot_time, plot_iter, plot_trajectories"
   ]
  },
  {
   "cell_type": "markdown",
   "metadata": {},
   "source": [
    "**Read results:**"
   ]
  },
  {
   "cell_type": "code",
   "execution_count": null,
   "metadata": {},
   "outputs": [],
   "source": [
    "import os\n",
    "\n",
    "\n",
    "TASK = \"income\"\n",
    "STATE = \"OK\"\n",
    "DATASET = TASK + \"_\" + STATE\n",
    "lb = 0.005\n",
    "constraint = \"eq_loss\"\n",
    "\n",
    "algs = [\n",
    "    \"SSLALM\",\n",
    "    \"ALM\",\n",
    "    \"StochasticGhost\",\n",
    "    \"SGD\",\n",
    "    \"fairret\",\n",
    "    \"a0\",\n",
    "    \"long_a05\",\n",
    "    \"a1\",\n",
    "    \"a01\",\n",
    "]\n",
    "stats = dict.fromkeys(algs)\n",
    "results_dir = \"./utils/exp_results/\"\n",
    "\n",
    "for alg in algs:\n",
    "    filename = os.path.join(results_dir, f\"{alg}_\" + f\"{DATASET}_{lb}.csv\")\n",
    "    try:\n",
    "        stats[alg] = pd.read_csv(filename)\n",
    "    except:\n",
    "        print(f\"{alg} not found in {results_dir}\")\n",
    "\n",
    "stats_train = {\n",
    "    alg: s[s[\"is_train\"] == \"train\"].drop([\"is_train\"], axis=1).dropna()\n",
    "    for alg, s in stats.items()\n",
    "    if s is not None\n",
    "}\n",
    "stats_test = {\n",
    "    alg: s[s[\"is_train\"] == \"test\"].drop([\"is_train\"], axis=1).dropna()\n",
    "    for alg, s in stats.items()\n",
    "    if s is not None\n",
    "}"
   ]
  },
  {
   "cell_type": "markdown",
   "metadata": {},
   "source": [
    "## Plots w.r.t. time"
   ]
  },
  {
   "cell_type": "markdown",
   "metadata": {},
   "source": [
    "### SSL-ALM"
   ]
  },
  {
   "cell_type": "markdown",
   "metadata": {},
   "source": [
    "**Train**"
   ]
  },
  {
   "cell_type": "code",
   "execution_count": null,
   "metadata": {},
   "outputs": [],
   "source": [
    "alg = \"SSLALM\"\n",
    "os.makedirs(os.path.dirname(f\"./plots/{alg}/{DATASET}/\"), exist_ok=True)\n",
    "\n",
    "f1tr_time = plot_time(\n",
    "    stats_train[alg], lb, round_step=0.0005, f_ylim=(0.4, 0.77), c_ylim=(-0.12, 0.12)\n",
    ")"
   ]
  },
  {
   "cell_type": "code",
   "execution_count": null,
   "metadata": {},
   "outputs": [],
   "source": [
    "alg = \"a01\"\n",
    "os.makedirs(os.path.dirname(f\"./plots/{alg}/{DATASET}/\"), exist_ok=True)\n",
    "\n",
    "f1tr_time = plot_time(\n",
    "    stats_train[alg], lb, round_step=0.0005, f_ylim=(0.4, 0.77), c_ylim=(-0.12, 0.12)\n",
    ")"
   ]
  },
  {
   "cell_type": "code",
   "execution_count": null,
   "metadata": {},
   "outputs": [],
   "source": [
    "alg = \"long_a05\"\n",
    "os.makedirs(os.path.dirname(f\"./plots/{alg}/{DATASET}/\"), exist_ok=True)\n",
    "\n",
    "f1tr_time = plot_time(\n",
    "    stats_train[alg], lb, round_step=0.0005, f_ylim=(0.4, 0.77), c_ylim=(-0.12, 0.12)\n",
    ")"
   ]
  },
  {
   "cell_type": "code",
   "execution_count": null,
   "metadata": {},
   "outputs": [],
   "source": [
    "alg = \"a1\"\n",
    "os.makedirs(os.path.dirname(f\"./plots/{alg}/{DATASET}/\"), exist_ok=True)\n",
    "\n",
    "f1tr_time = plot_time(\n",
    "    stats_train[alg], lb, round_step=0.0005, f_ylim=(0.4, 0.77), c_ylim=(-0.12, 0.12)\n",
    ")"
   ]
  },
  {
   "cell_type": "code",
   "execution_count": null,
   "metadata": {},
   "outputs": [],
   "source": [
    "f1tr_time.savefig(f\"./plots/{alg}/{DATASET}/train_time_{DATASET}\")\n",
    "print(f\"./plots/{alg}/{DATASET}/train_time_{DATASET}\")"
   ]
  },
  {
   "cell_type": "markdown",
   "metadata": {},
   "source": [
    "**Test**"
   ]
  },
  {
   "cell_type": "code",
   "execution_count": null,
   "metadata": {},
   "outputs": [],
   "source": [
    "f1t_time = plot_time(\n",
    "    stats_test[alg], lb, round_step=0.0005, f_ylim=(0.4, 0.77), c_ylim=(-0.12, 0.1)\n",
    ")"
   ]
  },
  {
   "cell_type": "code",
   "execution_count": null,
   "metadata": {},
   "outputs": [],
   "source": [
    "f1t_time.savefig(f\"./plots/{alg}/{DATASET}/test_time_{DATASET}\")\n",
    "print(f\"./plots/{alg}/{DATASET}\")"
   ]
  },
  {
   "cell_type": "markdown",
   "metadata": {},
   "source": [
    "### ALM"
   ]
  },
  {
   "cell_type": "markdown",
   "metadata": {},
   "source": [
    "**Train**"
   ]
  },
  {
   "cell_type": "code",
   "execution_count": null,
   "metadata": {},
   "outputs": [],
   "source": [
    "alg = \"ALM\"\n",
    "os.makedirs(os.path.dirname(f\"./plots/{alg}/{DATASET}/\"), exist_ok=True)\n",
    "\n",
    "f1tr_time = plot_time(\n",
    "    stats_train[alg], lb, round_step=0.0005, f_ylim=(0.4, 0.77), c_ylim=(-0.12, 0.12)\n",
    ")"
   ]
  },
  {
   "cell_type": "code",
   "execution_count": null,
   "metadata": {},
   "outputs": [],
   "source": [
    "f1tr_time.savefig(f\"./plots/{alg}/{DATASET}/train_time_{DATASET}\")\n",
    "print(f\"./plots/{alg}/{DATASET}/train_time_{DATASET}\")"
   ]
  },
  {
   "cell_type": "markdown",
   "metadata": {},
   "source": [
    "**Test**"
   ]
  },
  {
   "cell_type": "code",
   "execution_count": null,
   "metadata": {},
   "outputs": [],
   "source": [
    "f1t_time = plot_time(\n",
    "    stats_test[alg], lb, round_step=0.0005, f_ylim=(0.4, 0.77), c_ylim=(-0.12, 0.1)\n",
    ")"
   ]
  },
  {
   "cell_type": "code",
   "execution_count": null,
   "metadata": {},
   "outputs": [],
   "source": [
    "f1t_time.savefig(f\"./plots/{alg}/{DATASET}/test_time_{DATASET}\")\n",
    "print(f\"./plots/{alg}/{DATASET}\")"
   ]
  },
  {
   "cell_type": "markdown",
   "metadata": {},
   "source": [
    "### Ghost"
   ]
  },
  {
   "cell_type": "markdown",
   "metadata": {},
   "source": [
    "**Train**"
   ]
  },
  {
   "cell_type": "code",
   "execution_count": null,
   "metadata": {},
   "outputs": [],
   "source": [
    "alg = \"StochasticGhost\"\n",
    "os.makedirs(os.path.dirname(f\"./plots/{alg}/{DATASET}/\"), exist_ok=True)\n",
    "\n",
    "f1tr_time = plot_time(\n",
    "    stats_train[alg], lb, round_step=0.0005, f_ylim=(0.4, 0.77), c_ylim=(-0.12, 0.12)\n",
    ")"
   ]
  },
  {
   "cell_type": "code",
   "execution_count": null,
   "metadata": {},
   "outputs": [],
   "source": [
    "f1tr_time.savefig(f\"./plots/{alg}/{DATASET}/train_time_{DATASET}\")\n",
    "print(f\"./plots/{alg}/{DATASET}/train_time_{DATASET}\")"
   ]
  },
  {
   "cell_type": "markdown",
   "metadata": {},
   "source": [
    "**Test**"
   ]
  },
  {
   "cell_type": "code",
   "execution_count": null,
   "metadata": {},
   "outputs": [],
   "source": [
    "f1t_time = plot_time(\n",
    "    stats_test[alg], lb, round_step=0.0005, f_ylim=(0.4, 0.77), c_ylim=(-0.12, 0.1)\n",
    ")"
   ]
  },
  {
   "cell_type": "code",
   "execution_count": null,
   "metadata": {},
   "outputs": [],
   "source": [
    "f1t_time.savefig(f\"./plots/{alg}/{DATASET}/test_time_{DATASET}\")\n",
    "print(f\"./plots/{alg}/{DATASET}\")"
   ]
  },
  {
   "cell_type": "markdown",
   "metadata": {},
   "source": [
    "### SGD"
   ]
  },
  {
   "cell_type": "markdown",
   "metadata": {},
   "source": [
    "**Train**"
   ]
  },
  {
   "cell_type": "code",
   "execution_count": null,
   "metadata": {},
   "outputs": [],
   "source": [
    "alg = \"SGD\"\n",
    "os.makedirs(os.path.dirname(f\"./plots/{alg}/{DATASET}/\"), exist_ok=True)\n",
    "\n",
    "f1tr_time = plot_time(\n",
    "    stats_train[alg], lb, round_step=0.0005, f_ylim=(0.4, 0.77), c_ylim=(-0.12, 0.12)\n",
    ")"
   ]
  },
  {
   "cell_type": "code",
   "execution_count": null,
   "metadata": {},
   "outputs": [],
   "source": [
    "f1tr_time.savefig(f\"./plots/{alg}/{DATASET}/train_time_{DATASET}\")\n",
    "print(f\"./plots/{alg}/{DATASET}/train_time_{DATASET}\")"
   ]
  },
  {
   "cell_type": "markdown",
   "metadata": {},
   "source": [
    "**Test**"
   ]
  },
  {
   "cell_type": "code",
   "execution_count": null,
   "metadata": {},
   "outputs": [],
   "source": [
    "f1t_time = plot_time(\n",
    "    stats_test[alg], lb, round_step=0.0005, f_ylim=(0.4, 0.77), c_ylim=(-0.12, 0.1)\n",
    ")"
   ]
  },
  {
   "cell_type": "code",
   "execution_count": null,
   "metadata": {},
   "outputs": [],
   "source": [
    "f1t_time.savefig(f\"./plots/{alg}/{DATASET}/test_time_{DATASET}\")\n",
    "print(f\"./plots/{alg}/{DATASET}\")"
   ]
  },
  {
   "cell_type": "markdown",
   "metadata": {},
   "source": [
    "### Fairret"
   ]
  },
  {
   "cell_type": "markdown",
   "metadata": {},
   "source": [
    "**Train**"
   ]
  },
  {
   "cell_type": "code",
   "execution_count": null,
   "metadata": {},
   "outputs": [],
   "source": [
    "alg = \"fairret\"\n",
    "os.makedirs(os.path.dirname(f\"./plots/{alg}/{DATASET}/\"), exist_ok=True)\n",
    "\n",
    "f1tr_time = plot_time(\n",
    "    stats_train[alg], lb, round_step=0.0005, f_ylim=(0.4, 0.77), c_ylim=(-0.12, 0.12)\n",
    ")"
   ]
  },
  {
   "cell_type": "code",
   "execution_count": null,
   "metadata": {},
   "outputs": [],
   "source": [
    "f1tr_time.savefig(f\"./plots/{alg}/{DATASET}/train_time_{DATASET}\")\n",
    "print(f\"./plots/{alg}/{DATASET}/train_time_{DATASET}\")"
   ]
  },
  {
   "cell_type": "markdown",
   "metadata": {},
   "source": [
    "**Test**"
   ]
  },
  {
   "cell_type": "code",
   "execution_count": null,
   "metadata": {},
   "outputs": [],
   "source": [
    "f1t_time = plot_time(\n",
    "    stats_test[alg], lb, round_step=0.0005, f_ylim=(0.4, 0.77), c_ylim=(-0.12, 0.1)\n",
    ")"
   ]
  },
  {
   "cell_type": "code",
   "execution_count": null,
   "metadata": {},
   "outputs": [],
   "source": [
    "f1t_time.savefig(f\"./plots/{alg}/{DATASET}/test_time_{DATASET}\")\n",
    "print(f\"./plots/{alg}/{DATASET}\")"
   ]
  },
  {
   "cell_type": "markdown",
   "metadata": {},
   "source": [
    "## Plots w.r.t. iteration"
   ]
  },
  {
   "cell_type": "code",
   "execution_count": null,
   "metadata": {},
   "outputs": [],
   "source": [
    "alg = \"SSLALM\""
   ]
  },
  {
   "cell_type": "markdown",
   "metadata": {},
   "source": [
    "**Train**"
   ]
  },
  {
   "cell_type": "code",
   "execution_count": null,
   "metadata": {},
   "outputs": [],
   "source": [
    "f1tr = plot_iter(stats_train[alg], lb, \"iteration\")"
   ]
  },
  {
   "cell_type": "markdown",
   "metadata": {},
   "source": [
    "**Test**"
   ]
  },
  {
   "cell_type": "code",
   "execution_count": null,
   "metadata": {},
   "outputs": [],
   "source": [
    "f1t = plot_iter(stats_test[alg], lb, \"iteration\")"
   ]
  },
  {
   "cell_type": "markdown",
   "metadata": {},
   "source": [
    "**Trajectories:**"
   ]
  },
  {
   "cell_type": "code",
   "execution_count": null,
   "metadata": {},
   "outputs": [],
   "source": [
    "alg = \"SSLALM\""
   ]
  },
  {
   "cell_type": "markdown",
   "metadata": {},
   "source": [
    "**Train**"
   ]
  },
  {
   "cell_type": "code",
   "execution_count": null,
   "metadata": {},
   "outputs": [],
   "source": [
    "traj = plot_trajectories(stats_train[alg], lb, \"iteration\", alpha=1)"
   ]
  },
  {
   "cell_type": "markdown",
   "metadata": {},
   "source": [
    "**Test**"
   ]
  },
  {
   "cell_type": "code",
   "execution_count": null,
   "metadata": {},
   "outputs": [],
   "source": [
    "traj = plot_trajectories(stats_test[alg], lb, \"iteration\", alpha=1)"
   ]
  }
 ],
 "metadata": {
  "kernelspec": {
   "display_name": "humancompatible",
   "language": "python",
   "name": "python3"
  },
  "language_info": {
   "codemirror_mode": {
    "name": "ipython",
    "version": 3
   },
   "file_extension": ".py",
   "mimetype": "text/x-python",
   "name": "python",
   "nbconvert_exporter": "python",
   "pygments_lexer": "ipython3"
  }
 },
 "nbformat": 4,
 "nbformat_minor": 2
}
