{
 "cells": [
  {
   "cell_type": "code",
   "execution_count": null,
   "metadata": {},
   "outputs": [],
   "source": [
    "import pandas as pd\n",
    "from utils.plotting import plot_time, plot_iter, plot_trajectories"
   ]
  },
  {
   "cell_type": "markdown",
   "metadata": {},
   "source": [
    "**Read results:**"
   ]
  },
  {
   "cell_type": "code",
   "execution_count": null,
   "metadata": {},
   "outputs": [],
   "source": [
    "import os\n",
    "\n",
    "\n",
    "TASK = \"income\"\n",
    "STATE = \"OK\"\n",
    "DATASET = TASK + \"_\" + STATE\n",
    "lb = 0.005\n",
    "constraint = \"eq_loss\"\n",
    "\n",
    "algs = [\n",
    "    \"SSLALM\",\n",
    "    \"ALM\",\n",
    "    \"StochasticGhost\",\n",
    "    \"SGD\",\n",
    "    \"fairret\",\n",
    "]\n",
    "stats = dict.fromkeys(algs)\n",
    "results_dir = \"./utils/exp_results/\"\n",
    "\n",
    "for alg in algs:\n",
    "    filename = os.path.join(results_dir, f\"{alg}_\" + f\"{DATASET}_{lb}.csv\")\n",
    "    try:\n",
    "        stats[alg] = pd.read_csv(filename)\n",
    "    except:\n",
    "        print(f\"{alg} not found in {results_dir}\")\n",
    "\n",
    "stats_train = {\n",
    "    alg: s[s[\"is_train\"] == \"train\"].drop([\"is_train\"], axis=1).dropna()\n",
    "    for alg, s in stats.items()\n",
    "    if s is not None\n",
    "}\n",
    "stats_test = {\n",
    "    alg: s[s[\"is_train\"] == \"test\"].drop([\"is_train\"], axis=1).dropna()\n",
    "    for alg, s in stats.items()\n",
    "    if s is not None\n",
    "}"
   ]
  },
  {
   "cell_type": "markdown",
   "metadata": {},
   "source": [
    "## Plots w.r.t. time"
   ]
  },
  {
   "cell_type": "code",
   "execution_count": null,
   "metadata": {},
   "outputs": [],
   "source": [
    "alg = \"SSLALM\""
   ]
  },
  {
   "cell_type": "markdown",
   "metadata": {},
   "source": [
    "**Train**"
   ]
  },
  {
   "cell_type": "code",
   "execution_count": null,
   "metadata": {},
   "outputs": [],
   "source": [
    "os.makedirs(os.path.dirname(f\"./plots/{alg}/{DATASET}/\"), exist_ok=True)\n",
    "\n",
    "f1tr_time = plot_time(\n",
    "    stats_train[alg], lb, \n",
    "    loss_col='Loss',\n",
    "    c_col='C1',\n",
    "    round_step=0.01,\n",
    "    f_ylim=(0.4, 0.77),\n",
    "    c_ylim=(-0.12, 0.12),\n",
    "    add_lb=True,\n",
    "    two_sided=True\n",
    ")"
   ]
  },
  {
   "cell_type": "code",
   "execution_count": null,
   "metadata": {},
   "outputs": [],
   "source": [
    "f1tr_time.savefig(f\"./plots/{alg}/{DATASET}/train_time_{DATASET}\")\n",
    "print(f\"./plots/{alg}/{DATASET}/train_time_{DATASET}\")"
   ]
  },
  {
   "cell_type": "markdown",
   "metadata": {},
   "source": [
    "**Test**"
   ]
  },
  {
   "cell_type": "code",
   "execution_count": null,
   "metadata": {},
   "outputs": [],
   "source": [
    "f1t_time = plot_time(\n",
    "    stats_test[alg], lb, \n",
    "    loss_col='Loss',\n",
    "    c_col='C1',\n",
    "    round_step=0.01,\n",
    "    f_ylim=(0.4, 0.77),\n",
    "    c_ylim=(-0.12, 0.12),\n",
    "    add_lb=True,\n",
    "    two_sided=True\n",
    ")"
   ]
  },
  {
   "cell_type": "code",
   "execution_count": null,
   "metadata": {},
   "outputs": [],
   "source": [
    "f1t_time.savefig(f\"./plots/{alg}/{DATASET}/test_time_{DATASET}\")\n",
    "print(f\"./plots/{alg}/{DATASET}\")"
   ]
  },
  {
   "cell_type": "markdown",
   "metadata": {},
   "source": [
    "## Trajectories during each run"
   ]
  },
  {
   "cell_type": "code",
   "execution_count": null,
   "metadata": {},
   "outputs": [],
   "source": [
    "traj = plot_trajectories(stats_train['SSLALM'], lb, \"iteration\", alpha=1, c_ylim=(-0.15, 0.15))"
   ]
  },
  {
   "cell_type": "markdown",
   "metadata": {},
   "source": [
    "**Test**"
   ]
  },
  {
   "cell_type": "code",
   "execution_count": null,
   "metadata": {},
   "outputs": [],
   "source": [
    "traj = plot_trajectories(stats_test[alg], lb, \"iteration\", alpha=1, c_ylim=(-0.15, 0.15))"
   ]
  }
 ],
 "metadata": {
  "kernelspec": {
   "display_name": "humancompatible-dev",
   "language": "python",
   "name": "python3"
  },
  "language_info": {
   "codemirror_mode": {
    "name": "ipython",
    "version": 3
   },
   "file_extension": ".py",
   "mimetype": "text/x-python",
   "name": "python",
   "nbconvert_exporter": "python",
   "pygments_lexer": "ipython3"
  }
 },
 "nbformat": 4,
 "nbformat_minor": 2
}
